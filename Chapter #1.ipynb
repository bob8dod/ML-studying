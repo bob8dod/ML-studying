{
 "cells": [
  {
   "cell_type": "markdown",
   "metadata": {},
   "source": [
    "# Time Series with Pandas"
   ]
  },
  {
   "cell_type": "markdown",
   "metadata": {},
   "source": [
    "## Chapter #1"
   ]
  },
  {
   "cell_type": "markdown",
   "metadata": {},
   "source": [
    "- <b>시계열 데이터</b>는 시간 데이터를 인덱스로 하는 연속된 데이터\n",
    "- 시간 데이터를 Python의 DateTime 타입으로 바꾸어 Pandas가 제공하는 시계열 데이터를 처리하는 아래 기능들을 학습\n",
    "    - DateTime 인덱스\n",
    "    - Time Resampling\n",
    "    - Time Shifts\n",
    "    - Rolling and Expnading"
   ]
  },
  {
   "cell_type": "code",
   "execution_count": 1,
   "metadata": {},
   "outputs": [],
   "source": [
    "import pandas as pd\n",
    "import numpy as np\n",
    "import matplotlib.pyplot as plt\n",
    "%matplotlib inline"
   ]
  },
  {
   "cell_type": "markdown",
   "metadata": {},
   "source": [
    "### DateTime Index"
   ]
  },
  {
   "cell_type": "markdown",
   "metadata": {},
   "source": [
    "- time 또는 date 정보는 별개의 칼럼이기보다 <b>인덱스인</b> 경우가 많음\n",
    "- Pandas에 내장된 기능들로 <b>DateTime 인덱스를 생성</b>하고 활용하는 방법"
   ]
  },
  {
   "cell_type": "code",
   "execution_count": 2,
   "metadata": {},
   "outputs": [],
   "source": [
    "from datetime import datetime"
   ]
  },
  {
   "cell_type": "code",
   "execution_count": 3,
   "metadata": {},
   "outputs": [
    {
     "data": {
      "text/plain": [
       "(datetime.datetime(2021, 9, 19, 0, 0), datetime.datetime(2021, 9, 19, 16, 50))"
      ]
     },
     "execution_count": 3,
     "metadata": {},
     "output_type": "execute_result"
    }
   ],
   "source": [
    "# using datetime\n",
    "today = datetime(2021,9,19)\n",
    "today_ = datetime(2021,9,19,16,50)\n",
    "today, today_"
   ]
  },
  {
   "cell_type": "code",
   "execution_count": 4,
   "metadata": {},
   "outputs": [
    {
     "data": {
      "text/plain": [
       "(19, 9, 2021)"
      ]
     },
     "execution_count": 4,
     "metadata": {},
     "output_type": "execute_result"
    }
   ],
   "source": [
    "# accessing datetime\n",
    "today.day, today.month, today.year"
   ]
  },
  {
   "cell_type": "code",
   "execution_count": 5,
   "metadata": {},
   "outputs": [
    {
     "data": {
      "text/plain": [
       "DatetimeIndex(['2021-09-18', '2021-09-19'], dtype='datetime64[ns]', freq=None)"
      ]
     },
     "execution_count": 5,
     "metadata": {},
     "output_type": "execute_result"
    }
   ],
   "source": [
    "# datetime to pandas datetimeindex (set date to index)\n",
    "dates = [datetime(2021,9,18), datetime(2021,9,19)]\n",
    "date_index = pd.DatetimeIndex(dates)\n",
    "date_index"
   ]
  },
  {
   "cell_type": "code",
   "execution_count": 6,
   "metadata": {},
   "outputs": [
    {
     "data": {
      "text/html": [
       "<div>\n",
       "<style scoped>\n",
       "    .dataframe tbody tr th:only-of-type {\n",
       "        vertical-align: middle;\n",
       "    }\n",
       "\n",
       "    .dataframe tbody tr th {\n",
       "        vertical-align: top;\n",
       "    }\n",
       "\n",
       "    .dataframe thead th {\n",
       "        text-align: right;\n",
       "    }\n",
       "</style>\n",
       "<table border=\"1\" class=\"dataframe\">\n",
       "  <thead>\n",
       "    <tr style=\"text-align: right;\">\n",
       "      <th></th>\n",
       "      <th>A</th>\n",
       "      <th>B</th>\n",
       "    </tr>\n",
       "  </thead>\n",
       "  <tbody>\n",
       "    <tr>\n",
       "      <th>2021-09-18</th>\n",
       "      <td>0.383203</td>\n",
       "      <td>-0.131656</td>\n",
       "    </tr>\n",
       "    <tr>\n",
       "      <th>2021-09-19</th>\n",
       "      <td>-0.348736</td>\n",
       "      <td>0.605605</td>\n",
       "    </tr>\n",
       "  </tbody>\n",
       "</table>\n",
       "</div>"
      ],
      "text/plain": [
       "                   A         B\n",
       "2021-09-18  0.383203 -0.131656\n",
       "2021-09-19 -0.348736  0.605605"
      ]
     },
     "execution_count": 6,
     "metadata": {},
     "output_type": "execute_result"
    }
   ],
   "source": [
    "# datetime to pandas dataframe\n",
    "data = np.random.randn(2,2) #2x2 data\n",
    "cols = ['A','B']\n",
    "df = pd.DataFrame(data=data, index=date_index, columns = cols )\n",
    "# df = pd.DataFrame(data=data, index=date_index, columns = cols ).reset_index() # make date to col\n",
    "df"
   ]
  },
  {
   "cell_type": "code",
   "execution_count": 7,
   "metadata": {},
   "outputs": [
    {
     "name": "stdout",
     "output_type": "stream",
     "text": [
      "2021-09-18 00:00:00\n",
      "2021-09-19 00:00:00\n",
      "2021-09-18 12:00:00\n",
      "1\n",
      "0\n"
     ]
    }
   ],
   "source": [
    "# check date of data\n",
    "print(df.index.min(), df.index.max(), df.index.mean(), sep='\\n')\n",
    "print(df.index.argmax(), df.index.argmin(), sep='\\n') # Serires Index (0,1,2, ... )"
   ]
  },
  {
   "cell_type": "markdown",
   "metadata": {},
   "source": [
    "### Time Resampling"
   ]
  },
  {
   "cell_type": "markdown",
   "metadata": {},
   "source": [
    "- 시계열 데이터의 인덱스는 시(hours), 분(minutes)등 **작은 단위 DateTime** 인덱스로 이뤄진 경우도 많음\n",
    "- 더 넓은 주기로 데이터를 집계(aggreate) 해야 하는 경우 **Time Resampling** 이 필요!\n",
    "- **groupby** 를 사용함으로써 **Time Resampling**을 수행할 수는 있지만, <U>비지니스 도메인에서 분기나 회계년도를 편리하게 처리할 방법은 못됨</U>\n",
    "- Pandas는 이런 경우에 활용할 수 있는 **frequency sampling 도구**를 지원"
   ]
  },
  {
   "cell_type": "code",
   "execution_count": 8,
   "metadata": {},
   "outputs": [
    {
     "data": {
      "text/html": [
       "<div>\n",
       "<style scoped>\n",
       "    .dataframe tbody tr th:only-of-type {\n",
       "        vertical-align: middle;\n",
       "    }\n",
       "\n",
       "    .dataframe tbody tr th {\n",
       "        vertical-align: top;\n",
       "    }\n",
       "\n",
       "    .dataframe thead th {\n",
       "        text-align: right;\n",
       "    }\n",
       "</style>\n",
       "<table border=\"1\" class=\"dataframe\">\n",
       "  <thead>\n",
       "    <tr style=\"text-align: right;\">\n",
       "      <th></th>\n",
       "      <th>Date</th>\n",
       "      <th>High</th>\n",
       "      <th>Low</th>\n",
       "      <th>Open</th>\n",
       "      <th>Close</th>\n",
       "      <th>Volume</th>\n",
       "      <th>Adj Close</th>\n",
       "    </tr>\n",
       "  </thead>\n",
       "  <tbody>\n",
       "    <tr>\n",
       "      <th>0</th>\n",
       "      <td>2009-12-31</td>\n",
       "      <td>30.478571</td>\n",
       "      <td>30.080000</td>\n",
       "      <td>30.447144</td>\n",
       "      <td>30.104286</td>\n",
       "      <td>88102700.0</td>\n",
       "      <td>20.159719</td>\n",
       "    </tr>\n",
       "    <tr>\n",
       "      <th>1</th>\n",
       "      <td>2010-01-04</td>\n",
       "      <td>30.642857</td>\n",
       "      <td>30.340000</td>\n",
       "      <td>30.490000</td>\n",
       "      <td>30.572857</td>\n",
       "      <td>123432400.0</td>\n",
       "      <td>20.473503</td>\n",
       "    </tr>\n",
       "    <tr>\n",
       "      <th>2</th>\n",
       "      <td>2010-01-05</td>\n",
       "      <td>30.798571</td>\n",
       "      <td>30.464285</td>\n",
       "      <td>30.657143</td>\n",
       "      <td>30.625713</td>\n",
       "      <td>150476200.0</td>\n",
       "      <td>20.508902</td>\n",
       "    </tr>\n",
       "    <tr>\n",
       "      <th>3</th>\n",
       "      <td>2010-01-06</td>\n",
       "      <td>30.747143</td>\n",
       "      <td>30.107143</td>\n",
       "      <td>30.625713</td>\n",
       "      <td>30.138571</td>\n",
       "      <td>138040000.0</td>\n",
       "      <td>20.182680</td>\n",
       "    </tr>\n",
       "    <tr>\n",
       "      <th>4</th>\n",
       "      <td>2010-01-07</td>\n",
       "      <td>30.285715</td>\n",
       "      <td>29.864286</td>\n",
       "      <td>30.250000</td>\n",
       "      <td>30.082857</td>\n",
       "      <td>119282800.0</td>\n",
       "      <td>20.145369</td>\n",
       "    </tr>\n",
       "  </tbody>\n",
       "</table>\n",
       "</div>"
      ],
      "text/plain": [
       "         Date       High        Low       Open      Close       Volume  \\\n",
       "0  2009-12-31  30.478571  30.080000  30.447144  30.104286   88102700.0   \n",
       "1  2010-01-04  30.642857  30.340000  30.490000  30.572857  123432400.0   \n",
       "2  2010-01-05  30.798571  30.464285  30.657143  30.625713  150476200.0   \n",
       "3  2010-01-06  30.747143  30.107143  30.625713  30.138571  138040000.0   \n",
       "4  2010-01-07  30.285715  29.864286  30.250000  30.082857  119282800.0   \n",
       "\n",
       "   Adj Close  \n",
       "0  20.159719  \n",
       "1  20.473503  \n",
       "2  20.508902  \n",
       "3  20.182680  \n",
       "4  20.145369  "
      ]
     },
     "execution_count": 8,
     "metadata": {},
     "output_type": "execute_result"
    }
   ],
   "source": [
    "# Load Data (date is not index)\n",
    "df = pd.read_csv('data/apple_stock.csv')\n",
    "df.head()"
   ]
  },
  {
   "cell_type": "code",
   "execution_count": 9,
   "metadata": {},
   "outputs": [
    {
     "name": "stdout",
     "output_type": "stream",
     "text": [
      "<class 'pandas.core.frame.DataFrame'>\n",
      "RangeIndex: 2265 entries, 0 to 2264\n",
      "Data columns (total 7 columns):\n",
      " #   Column     Non-Null Count  Dtype  \n",
      "---  ------     --------------  -----  \n",
      " 0   Date       2265 non-null   object \n",
      " 1   High       2265 non-null   float64\n",
      " 2   Low        2265 non-null   float64\n",
      " 3   Open       2265 non-null   float64\n",
      " 4   Close      2265 non-null   float64\n",
      " 5   Volume     2265 non-null   float64\n",
      " 6   Adj Close  2265 non-null   float64\n",
      "dtypes: float64(6), object(1)\n",
      "memory usage: 124.0+ KB\n"
     ]
    }
   ],
   "source": [
    "df.info() # Date's type is object. So we have to change object to datetime"
   ]
  },
  {
   "cell_type": "code",
   "execution_count": 10,
   "metadata": {},
   "outputs": [
    {
     "data": {
      "text/html": [
       "<div>\n",
       "<style scoped>\n",
       "    .dataframe tbody tr th:only-of-type {\n",
       "        vertical-align: middle;\n",
       "    }\n",
       "\n",
       "    .dataframe tbody tr th {\n",
       "        vertical-align: top;\n",
       "    }\n",
       "\n",
       "    .dataframe thead th {\n",
       "        text-align: right;\n",
       "    }\n",
       "</style>\n",
       "<table border=\"1\" class=\"dataframe\">\n",
       "  <thead>\n",
       "    <tr style=\"text-align: right;\">\n",
       "      <th></th>\n",
       "      <th>High</th>\n",
       "      <th>Low</th>\n",
       "      <th>Open</th>\n",
       "      <th>Close</th>\n",
       "      <th>Volume</th>\n",
       "      <th>Adj Close</th>\n",
       "    </tr>\n",
       "    <tr>\n",
       "      <th>Date</th>\n",
       "      <th></th>\n",
       "      <th></th>\n",
       "      <th></th>\n",
       "      <th></th>\n",
       "      <th></th>\n",
       "      <th></th>\n",
       "    </tr>\n",
       "  </thead>\n",
       "  <tbody>\n",
       "    <tr>\n",
       "      <th>2009-12-31</th>\n",
       "      <td>30.478571</td>\n",
       "      <td>30.080000</td>\n",
       "      <td>30.447144</td>\n",
       "      <td>30.104286</td>\n",
       "      <td>88102700.0</td>\n",
       "      <td>20.159719</td>\n",
       "    </tr>\n",
       "    <tr>\n",
       "      <th>2010-01-04</th>\n",
       "      <td>30.642857</td>\n",
       "      <td>30.340000</td>\n",
       "      <td>30.490000</td>\n",
       "      <td>30.572857</td>\n",
       "      <td>123432400.0</td>\n",
       "      <td>20.473503</td>\n",
       "    </tr>\n",
       "    <tr>\n",
       "      <th>2010-01-05</th>\n",
       "      <td>30.798571</td>\n",
       "      <td>30.464285</td>\n",
       "      <td>30.657143</td>\n",
       "      <td>30.625713</td>\n",
       "      <td>150476200.0</td>\n",
       "      <td>20.508902</td>\n",
       "    </tr>\n",
       "    <tr>\n",
       "      <th>2010-01-06</th>\n",
       "      <td>30.747143</td>\n",
       "      <td>30.107143</td>\n",
       "      <td>30.625713</td>\n",
       "      <td>30.138571</td>\n",
       "      <td>138040000.0</td>\n",
       "      <td>20.182680</td>\n",
       "    </tr>\n",
       "    <tr>\n",
       "      <th>2010-01-07</th>\n",
       "      <td>30.285715</td>\n",
       "      <td>29.864286</td>\n",
       "      <td>30.250000</td>\n",
       "      <td>30.082857</td>\n",
       "      <td>119282800.0</td>\n",
       "      <td>20.145369</td>\n",
       "    </tr>\n",
       "  </tbody>\n",
       "</table>\n",
       "</div>"
      ],
      "text/plain": [
       "                 High        Low       Open      Close       Volume  Adj Close\n",
       "Date                                                                          \n",
       "2009-12-31  30.478571  30.080000  30.447144  30.104286   88102700.0  20.159719\n",
       "2010-01-04  30.642857  30.340000  30.490000  30.572857  123432400.0  20.473503\n",
       "2010-01-05  30.798571  30.464285  30.657143  30.625713  150476200.0  20.508902\n",
       "2010-01-06  30.747143  30.107143  30.625713  30.138571  138040000.0  20.182680\n",
       "2010-01-07  30.285715  29.864286  30.250000  30.082857  119282800.0  20.145369"
      ]
     },
     "execution_count": 10,
     "metadata": {},
     "output_type": "execute_result"
    }
   ],
   "source": [
    "#changing type object to datetime and set Date to Index\n",
    "df['Date'] = df['Date'].apply(pd.to_datetime) # object to Datetime\n",
    "df.set_index('Date', inplace = True) # set Date to Index\n",
    "df.head()"
   ]
  },
  {
   "cell_type": "markdown",
   "metadata": {},
   "source": [
    "Using df.groupby()"
   ]
  },
  {
   "cell_type": "code",
   "execution_count": 11,
   "metadata": {},
   "outputs": [
    {
     "data": {
      "text/html": [
       "<div>\n",
       "<style scoped>\n",
       "    .dataframe tbody tr th:only-of-type {\n",
       "        vertical-align: middle;\n",
       "    }\n",
       "\n",
       "    .dataframe tbody tr th {\n",
       "        vertical-align: top;\n",
       "    }\n",
       "\n",
       "    .dataframe thead th {\n",
       "        text-align: right;\n",
       "    }\n",
       "</style>\n",
       "<table border=\"1\" class=\"dataframe\">\n",
       "  <thead>\n",
       "    <tr style=\"text-align: right;\">\n",
       "      <th></th>\n",
       "      <th>High</th>\n",
       "      <th>Low</th>\n",
       "      <th>Open</th>\n",
       "      <th>Close</th>\n",
       "      <th>Volume</th>\n",
       "      <th>Adj Close</th>\n",
       "      <th>month</th>\n",
       "    </tr>\n",
       "    <tr>\n",
       "      <th>Date</th>\n",
       "      <th></th>\n",
       "      <th></th>\n",
       "      <th></th>\n",
       "      <th></th>\n",
       "      <th></th>\n",
       "      <th></th>\n",
       "      <th></th>\n",
       "    </tr>\n",
       "  </thead>\n",
       "  <tbody>\n",
       "    <tr>\n",
       "      <th>2009-12-31</th>\n",
       "      <td>30.478571</td>\n",
       "      <td>30.080000</td>\n",
       "      <td>30.447144</td>\n",
       "      <td>30.104286</td>\n",
       "      <td>88102700.0</td>\n",
       "      <td>20.159719</td>\n",
       "      <td>12</td>\n",
       "    </tr>\n",
       "    <tr>\n",
       "      <th>2010-01-04</th>\n",
       "      <td>30.642857</td>\n",
       "      <td>30.340000</td>\n",
       "      <td>30.490000</td>\n",
       "      <td>30.572857</td>\n",
       "      <td>123432400.0</td>\n",
       "      <td>20.473503</td>\n",
       "      <td>1</td>\n",
       "    </tr>\n",
       "    <tr>\n",
       "      <th>2010-01-05</th>\n",
       "      <td>30.798571</td>\n",
       "      <td>30.464285</td>\n",
       "      <td>30.657143</td>\n",
       "      <td>30.625713</td>\n",
       "      <td>150476200.0</td>\n",
       "      <td>20.508902</td>\n",
       "      <td>1</td>\n",
       "    </tr>\n",
       "  </tbody>\n",
       "</table>\n",
       "</div>"
      ],
      "text/plain": [
       "                 High        Low       Open      Close       Volume  \\\n",
       "Date                                                                  \n",
       "2009-12-31  30.478571  30.080000  30.447144  30.104286   88102700.0   \n",
       "2010-01-04  30.642857  30.340000  30.490000  30.572857  123432400.0   \n",
       "2010-01-05  30.798571  30.464285  30.657143  30.625713  150476200.0   \n",
       "\n",
       "            Adj Close  month  \n",
       "Date                          \n",
       "2009-12-31  20.159719     12  \n",
       "2010-01-04  20.473503      1  \n",
       "2010-01-05  20.508902      1  "
      ]
     },
     "execution_count": 11,
     "metadata": {},
     "output_type": "execute_result"
    }
   ],
   "source": [
    "#monthly data, anually data Check!\n",
    "df['month'] = df.index.month\n",
    "df.head(3)"
   ]
  },
  {
   "cell_type": "code",
   "execution_count": 12,
   "metadata": {},
   "outputs": [
    {
     "data": {
      "text/html": [
       "<div>\n",
       "<style scoped>\n",
       "    .dataframe tbody tr th:only-of-type {\n",
       "        vertical-align: middle;\n",
       "    }\n",
       "\n",
       "    .dataframe tbody tr th {\n",
       "        vertical-align: top;\n",
       "    }\n",
       "\n",
       "    .dataframe thead th {\n",
       "        text-align: right;\n",
       "    }\n",
       "</style>\n",
       "<table border=\"1\" class=\"dataframe\">\n",
       "  <thead>\n",
       "    <tr style=\"text-align: right;\">\n",
       "      <th></th>\n",
       "      <th>High</th>\n",
       "      <th>Low</th>\n",
       "      <th>Open</th>\n",
       "      <th>Close</th>\n",
       "      <th>Volume</th>\n",
       "      <th>Adj Close</th>\n",
       "    </tr>\n",
       "    <tr>\n",
       "      <th>month</th>\n",
       "      <th></th>\n",
       "      <th></th>\n",
       "      <th></th>\n",
       "      <th></th>\n",
       "      <th></th>\n",
       "      <th></th>\n",
       "    </tr>\n",
       "  </thead>\n",
       "  <tbody>\n",
       "    <tr>\n",
       "      <th>1</th>\n",
       "      <td>16141.351418</td>\n",
       "      <td>15840.451458</td>\n",
       "      <td>16007.617104</td>\n",
       "      <td>15989.401403</td>\n",
       "      <td>1.748822e+10</td>\n",
       "      <td>14038.491524</td>\n",
       "    </tr>\n",
       "    <tr>\n",
       "      <th>2</th>\n",
       "      <td>15739.942860</td>\n",
       "      <td>15445.045748</td>\n",
       "      <td>15572.844261</td>\n",
       "      <td>15607.478556</td>\n",
       "      <td>1.511651e+10</td>\n",
       "      <td>13799.143261</td>\n",
       "    </tr>\n",
       "    <tr>\n",
       "      <th>3</th>\n",
       "      <td>18676.318544</td>\n",
       "      <td>18358.607164</td>\n",
       "      <td>18522.812897</td>\n",
       "      <td>18516.759998</td>\n",
       "      <td>1.646522e+10</td>\n",
       "      <td>16387.278601</td>\n",
       "    </tr>\n",
       "    <tr>\n",
       "      <th>4</th>\n",
       "      <td>17763.422855</td>\n",
       "      <td>17444.350006</td>\n",
       "      <td>17612.804337</td>\n",
       "      <td>17595.992851</td>\n",
       "      <td>1.656252e+10</td>\n",
       "      <td>15549.686649</td>\n",
       "    </tr>\n",
       "    <tr>\n",
       "      <th>5</th>\n",
       "      <td>18874.642849</td>\n",
       "      <td>18552.902849</td>\n",
       "      <td>18711.531479</td>\n",
       "      <td>18731.747120</td>\n",
       "      <td>1.595049e+10</td>\n",
       "      <td>16741.255772</td>\n",
       "    </tr>\n",
       "    <tr>\n",
       "      <th>6</th>\n",
       "      <td>19040.630035</td>\n",
       "      <td>18743.354290</td>\n",
       "      <td>18909.838608</td>\n",
       "      <td>18881.168510</td>\n",
       "      <td>1.427367e+10</td>\n",
       "      <td>16927.685444</td>\n",
       "    </tr>\n",
       "    <tr>\n",
       "      <th>7</th>\n",
       "      <td>18908.574245</td>\n",
       "      <td>18616.531422</td>\n",
       "      <td>18760.998562</td>\n",
       "      <td>18775.181419</td>\n",
       "      <td>1.403693e+10</td>\n",
       "      <td>16779.291849</td>\n",
       "    </tr>\n",
       "    <tr>\n",
       "      <th>8</th>\n",
       "      <td>21322.417149</td>\n",
       "      <td>20943.891430</td>\n",
       "      <td>21113.692909</td>\n",
       "      <td>21152.527245</td>\n",
       "      <td>1.505109e+10</td>\n",
       "      <td>19060.226547</td>\n",
       "    </tr>\n",
       "    <tr>\n",
       "      <th>9</th>\n",
       "      <td>19596.267178</td>\n",
       "      <td>19222.517181</td>\n",
       "      <td>19423.325752</td>\n",
       "      <td>19400.800022</td>\n",
       "      <td>1.547466e+10</td>\n",
       "      <td>17478.810833</td>\n",
       "    </tr>\n",
       "    <tr>\n",
       "      <th>10</th>\n",
       "      <td>21670.588585</td>\n",
       "      <td>21245.169964</td>\n",
       "      <td>21466.111412</td>\n",
       "      <td>21471.372849</td>\n",
       "      <td>1.579270e+10</td>\n",
       "      <td>19412.855421</td>\n",
       "    </tr>\n",
       "    <tr>\n",
       "      <th>11</th>\n",
       "      <td>19932.064278</td>\n",
       "      <td>19547.734276</td>\n",
       "      <td>19761.048534</td>\n",
       "      <td>19746.541416</td>\n",
       "      <td>1.301104e+10</td>\n",
       "      <td>17929.619272</td>\n",
       "    </tr>\n",
       "    <tr>\n",
       "      <th>12</th>\n",
       "      <td>19514.165709</td>\n",
       "      <td>19137.724298</td>\n",
       "      <td>19344.287140</td>\n",
       "      <td>19309.390026</td>\n",
       "      <td>1.223923e+10</td>\n",
       "      <td>17473.007708</td>\n",
       "    </tr>\n",
       "  </tbody>\n",
       "</table>\n",
       "</div>"
      ],
      "text/plain": [
       "               High           Low          Open         Close        Volume  \\\n",
       "month                                                                         \n",
       "1      16141.351418  15840.451458  16007.617104  15989.401403  1.748822e+10   \n",
       "2      15739.942860  15445.045748  15572.844261  15607.478556  1.511651e+10   \n",
       "3      18676.318544  18358.607164  18522.812897  18516.759998  1.646522e+10   \n",
       "4      17763.422855  17444.350006  17612.804337  17595.992851  1.656252e+10   \n",
       "5      18874.642849  18552.902849  18711.531479  18731.747120  1.595049e+10   \n",
       "6      19040.630035  18743.354290  18909.838608  18881.168510  1.427367e+10   \n",
       "7      18908.574245  18616.531422  18760.998562  18775.181419  1.403693e+10   \n",
       "8      21322.417149  20943.891430  21113.692909  21152.527245  1.505109e+10   \n",
       "9      19596.267178  19222.517181  19423.325752  19400.800022  1.547466e+10   \n",
       "10     21670.588585  21245.169964  21466.111412  21471.372849  1.579270e+10   \n",
       "11     19932.064278  19547.734276  19761.048534  19746.541416  1.301104e+10   \n",
       "12     19514.165709  19137.724298  19344.287140  19309.390026  1.223923e+10   \n",
       "\n",
       "          Adj Close  \n",
       "month                \n",
       "1      14038.491524  \n",
       "2      13799.143261  \n",
       "3      16387.278601  \n",
       "4      15549.686649  \n",
       "5      16741.255772  \n",
       "6      16927.685444  \n",
       "7      16779.291849  \n",
       "8      19060.226547  \n",
       "9      17478.810833  \n",
       "10     19412.855421  \n",
       "11     17929.619272  \n",
       "12     17473.007708  "
      ]
     },
     "execution_count": 12,
     "metadata": {},
     "output_type": "execute_result"
    }
   ],
   "source": [
    "#  monthly data (sum, mean, ... )\n",
    "df.groupby('month').agg(sum)\n",
    "# probelm: 이렇게 하면 모든 년도가 참고됨. (2010년 1월, 2011년 1월, ... )"
   ]
  },
  {
   "cell_type": "code",
   "execution_count": 13,
   "metadata": {},
   "outputs": [
    {
     "data": {
      "text/html": [
       "<div>\n",
       "<style scoped>\n",
       "    .dataframe tbody tr th:only-of-type {\n",
       "        vertical-align: middle;\n",
       "    }\n",
       "\n",
       "    .dataframe tbody tr th {\n",
       "        vertical-align: top;\n",
       "    }\n",
       "\n",
       "    .dataframe thead th {\n",
       "        text-align: right;\n",
       "    }\n",
       "</style>\n",
       "<table border=\"1\" class=\"dataframe\">\n",
       "  <thead>\n",
       "    <tr style=\"text-align: right;\">\n",
       "      <th></th>\n",
       "      <th>High</th>\n",
       "      <th>Low</th>\n",
       "      <th>Open</th>\n",
       "      <th>Close</th>\n",
       "      <th>Volume</th>\n",
       "      <th>Adj Close</th>\n",
       "      <th>month</th>\n",
       "    </tr>\n",
       "    <tr>\n",
       "      <th>Date</th>\n",
       "      <th></th>\n",
       "      <th></th>\n",
       "      <th></th>\n",
       "      <th></th>\n",
       "      <th></th>\n",
       "      <th></th>\n",
       "      <th></th>\n",
       "    </tr>\n",
       "  </thead>\n",
       "  <tbody>\n",
       "    <tr>\n",
       "      <th>2009</th>\n",
       "      <td>30.478571</td>\n",
       "      <td>30.080000</td>\n",
       "      <td>30.447144</td>\n",
       "      <td>30.104286</td>\n",
       "      <td>8.810270e+07</td>\n",
       "      <td>20.159719</td>\n",
       "      <td>12</td>\n",
       "    </tr>\n",
       "    <tr>\n",
       "      <th>2010</th>\n",
       "      <td>9445.277117</td>\n",
       "      <td>9246.514246</td>\n",
       "      <td>9358.474289</td>\n",
       "      <td>9354.328560</td>\n",
       "      <td>3.775623e+10</td>\n",
       "      <td>6264.245874</td>\n",
       "      <td>1659</td>\n",
       "    </tr>\n",
       "    <tr>\n",
       "      <th>2011</th>\n",
       "      <td>13227.248539</td>\n",
       "      <td>12970.717155</td>\n",
       "      <td>13106.211399</td>\n",
       "      <td>13104.155712</td>\n",
       "      <td>3.101483e+10</td>\n",
       "      <td>8775.365667</td>\n",
       "      <td>1650</td>\n",
       "    </tr>\n",
       "    <tr>\n",
       "      <th>2012</th>\n",
       "      <td>20779.478600</td>\n",
       "      <td>20354.327164</td>\n",
       "      <td>20594.740028</td>\n",
       "      <td>20573.204269</td>\n",
       "      <td>3.299105e+10</td>\n",
       "      <td>14019.096821</td>\n",
       "      <td>1625</td>\n",
       "    </tr>\n",
       "    <tr>\n",
       "      <th>2013</th>\n",
       "      <td>17195.001381</td>\n",
       "      <td>16856.895695</td>\n",
       "      <td>17032.612881</td>\n",
       "      <td>17014.855690</td>\n",
       "      <td>2.560539e+10</td>\n",
       "      <td>13377.068882</td>\n",
       "      <td>1649</td>\n",
       "    </tr>\n",
       "    <tr>\n",
       "      <th>2014</th>\n",
       "      <td>23439.191429</td>\n",
       "      <td>23051.835686</td>\n",
       "      <td>23239.397186</td>\n",
       "      <td>23250.692886</td>\n",
       "      <td>1.591449e+10</td>\n",
       "      <td>21242.415085</td>\n",
       "      <td>1651</td>\n",
       "    </tr>\n",
       "    <tr>\n",
       "      <th>2015</th>\n",
       "      <td>30553.620010</td>\n",
       "      <td>29953.500031</td>\n",
       "      <td>30284.289993</td>\n",
       "      <td>30250.079948</td>\n",
       "      <td>1.306315e+10</td>\n",
       "      <td>28458.719048</td>\n",
       "      <td>1655</td>\n",
       "    </tr>\n",
       "    <tr>\n",
       "      <th>2016</th>\n",
       "      <td>26567.650009</td>\n",
       "      <td>26129.949989</td>\n",
       "      <td>26335.959984</td>\n",
       "      <td>26360.209991</td>\n",
       "      <td>9.680622e+09</td>\n",
       "      <td>25313.373260</td>\n",
       "      <td>1652</td>\n",
       "    </tr>\n",
       "    <tr>\n",
       "      <th>2017</th>\n",
       "      <td>38002.920044</td>\n",
       "      <td>37521.400078</td>\n",
       "      <td>37761.670013</td>\n",
       "      <td>37788.319946</td>\n",
       "      <td>6.810426e+09</td>\n",
       "      <td>36972.054916</td>\n",
       "      <td>1640</td>\n",
       "    </tr>\n",
       "    <tr>\n",
       "      <th>2018</th>\n",
       "      <td>47939.520004</td>\n",
       "      <td>46983.060043</td>\n",
       "      <td>47463.110077</td>\n",
       "      <td>47452.410126</td>\n",
       "      <td>8.537986e+09</td>\n",
       "      <td>47134.853607</td>\n",
       "      <td>1633</td>\n",
       "    </tr>\n",
       "  </tbody>\n",
       "</table>\n",
       "</div>"
      ],
      "text/plain": [
       "              High           Low          Open         Close        Volume  \\\n",
       "Date                                                                         \n",
       "2009     30.478571     30.080000     30.447144     30.104286  8.810270e+07   \n",
       "2010   9445.277117   9246.514246   9358.474289   9354.328560  3.775623e+10   \n",
       "2011  13227.248539  12970.717155  13106.211399  13104.155712  3.101483e+10   \n",
       "2012  20779.478600  20354.327164  20594.740028  20573.204269  3.299105e+10   \n",
       "2013  17195.001381  16856.895695  17032.612881  17014.855690  2.560539e+10   \n",
       "2014  23439.191429  23051.835686  23239.397186  23250.692886  1.591449e+10   \n",
       "2015  30553.620010  29953.500031  30284.289993  30250.079948  1.306315e+10   \n",
       "2016  26567.650009  26129.949989  26335.959984  26360.209991  9.680622e+09   \n",
       "2017  38002.920044  37521.400078  37761.670013  37788.319946  6.810426e+09   \n",
       "2018  47939.520004  46983.060043  47463.110077  47452.410126  8.537986e+09   \n",
       "\n",
       "         Adj Close  month  \n",
       "Date                       \n",
       "2009     20.159719     12  \n",
       "2010   6264.245874   1659  \n",
       "2011   8775.365667   1650  \n",
       "2012  14019.096821   1625  \n",
       "2013  13377.068882   1649  \n",
       "2014  21242.415085   1651  \n",
       "2015  28458.719048   1655  \n",
       "2016  25313.373260   1652  \n",
       "2017  36972.054916   1640  \n",
       "2018  47134.853607   1633  "
      ]
     },
     "execution_count": 13,
     "metadata": {},
     "output_type": "execute_result"
    }
   ],
   "source": [
    "#  annually data (sum, mean, ... )\n",
    "df.groupby(df.index.year).sum() #No Problem"
   ]
  },
  {
   "cell_type": "code",
   "execution_count": 14,
   "metadata": {},
   "outputs": [
    {
     "data": {
      "text/html": [
       "<div>\n",
       "<style scoped>\n",
       "    .dataframe tbody tr th:only-of-type {\n",
       "        vertical-align: middle;\n",
       "    }\n",
       "\n",
       "    .dataframe tbody tr th {\n",
       "        vertical-align: top;\n",
       "    }\n",
       "\n",
       "    .dataframe thead th {\n",
       "        text-align: right;\n",
       "    }\n",
       "</style>\n",
       "<table border=\"1\" class=\"dataframe\">\n",
       "  <thead>\n",
       "    <tr style=\"text-align: right;\">\n",
       "      <th></th>\n",
       "      <th></th>\n",
       "      <th>High</th>\n",
       "      <th>Low</th>\n",
       "      <th>Open</th>\n",
       "      <th>Close</th>\n",
       "      <th>Volume</th>\n",
       "      <th>Adj Close</th>\n",
       "      <th>month</th>\n",
       "    </tr>\n",
       "    <tr>\n",
       "      <th>Date</th>\n",
       "      <th>Date</th>\n",
       "      <th></th>\n",
       "      <th></th>\n",
       "      <th></th>\n",
       "      <th></th>\n",
       "      <th></th>\n",
       "      <th></th>\n",
       "      <th></th>\n",
       "    </tr>\n",
       "  </thead>\n",
       "  <tbody>\n",
       "    <tr>\n",
       "      <th>2009</th>\n",
       "      <th>12</th>\n",
       "      <td>30.478571</td>\n",
       "      <td>30.080000</td>\n",
       "      <td>30.447144</td>\n",
       "      <td>30.104286</td>\n",
       "      <td>8.810270e+07</td>\n",
       "      <td>20.159719</td>\n",
       "      <td>12</td>\n",
       "    </tr>\n",
       "    <tr>\n",
       "      <th rowspan=\"4\" valign=\"top\">2010</th>\n",
       "      <th>1</th>\n",
       "      <td>573.331425</td>\n",
       "      <td>557.244289</td>\n",
       "      <td>568.397141</td>\n",
       "      <td>563.798571</td>\n",
       "      <td>3.792249e+09</td>\n",
       "      <td>377.554930</td>\n",
       "      <td>19</td>\n",
       "    </tr>\n",
       "    <tr>\n",
       "      <th>2</th>\n",
       "      <td>544.092857</td>\n",
       "      <td>532.875715</td>\n",
       "      <td>537.678570</td>\n",
       "      <td>539.588568</td>\n",
       "      <td>2.694020e+09</td>\n",
       "      <td>361.342400</td>\n",
       "      <td>38</td>\n",
       "    </tr>\n",
       "    <tr>\n",
       "      <th>3</th>\n",
       "      <td>738.235716</td>\n",
       "      <td>727.080000</td>\n",
       "      <td>732.047146</td>\n",
       "      <td>734.064285</td>\n",
       "      <td>3.038543e+09</td>\n",
       "      <td>491.575537</td>\n",
       "      <td>69</td>\n",
       "    </tr>\n",
       "    <tr>\n",
       "      <th>4</th>\n",
       "      <td>759.410004</td>\n",
       "      <td>744.359997</td>\n",
       "      <td>753.004292</td>\n",
       "      <td>753.445721</td>\n",
       "      <td>3.091782e+09</td>\n",
       "      <td>504.554579</td>\n",
       "      <td>84</td>\n",
       "    </tr>\n",
       "    <tr>\n",
       "      <th>...</th>\n",
       "      <th>...</th>\n",
       "      <td>...</td>\n",
       "      <td>...</td>\n",
       "      <td>...</td>\n",
       "      <td>...</td>\n",
       "      <td>...</td>\n",
       "      <td>...</td>\n",
       "      <td>...</td>\n",
       "    </tr>\n",
       "    <tr>\n",
       "      <th rowspan=\"5\" valign=\"top\">2018</th>\n",
       "      <th>8</th>\n",
       "      <td>4934.909988</td>\n",
       "      <td>4860.029999</td>\n",
       "      <td>4883.340012</td>\n",
       "      <td>4906.960037</td>\n",
       "      <td>7.002737e+08</td>\n",
       "      <td>4884.851288</td>\n",
       "      <td>184</td>\n",
       "    </tr>\n",
       "    <tr>\n",
       "      <th>9</th>\n",
       "      <td>4266.080002</td>\n",
       "      <td>4181.480011</td>\n",
       "      <td>4224.290009</td>\n",
       "      <td>4219.400024</td>\n",
       "      <td>6.789720e+08</td>\n",
       "      <td>4204.729004</td>\n",
       "      <td>171</td>\n",
       "    </tr>\n",
       "    <tr>\n",
       "      <th>10</th>\n",
       "      <td>5150.640030</td>\n",
       "      <td>5011.109985</td>\n",
       "      <td>5087.600021</td>\n",
       "      <td>5079.449997</td>\n",
       "      <td>7.897485e+08</td>\n",
       "      <td>5061.788559</td>\n",
       "      <td>230</td>\n",
       "    </tr>\n",
       "    <tr>\n",
       "      <th>11</th>\n",
       "      <td>4072.939987</td>\n",
       "      <td>3962.709976</td>\n",
       "      <td>4028.209991</td>\n",
       "      <td>4015.949997</td>\n",
       "      <td>9.613264e+08</td>\n",
       "      <td>4012.316437</td>\n",
       "      <td>231</td>\n",
       "    </tr>\n",
       "    <tr>\n",
       "      <th>12</th>\n",
       "      <td>3179.080017</td>\n",
       "      <td>3075.930023</td>\n",
       "      <td>3139.619995</td>\n",
       "      <td>3121.060028</td>\n",
       "      <td>8.989225e+08</td>\n",
       "      <td>3121.060028</td>\n",
       "      <td>228</td>\n",
       "    </tr>\n",
       "  </tbody>\n",
       "</table>\n",
       "<p>109 rows × 7 columns</p>\n",
       "</div>"
      ],
      "text/plain": [
       "                  High          Low         Open        Close        Volume  \\\n",
       "Date Date                                                                     \n",
       "2009 12      30.478571    30.080000    30.447144    30.104286  8.810270e+07   \n",
       "2010 1      573.331425   557.244289   568.397141   563.798571  3.792249e+09   \n",
       "     2      544.092857   532.875715   537.678570   539.588568  2.694020e+09   \n",
       "     3      738.235716   727.080000   732.047146   734.064285  3.038543e+09   \n",
       "     4      759.410004   744.359997   753.004292   753.445721  3.091782e+09   \n",
       "...                ...          ...          ...          ...           ...   \n",
       "2018 8     4934.909988  4860.029999  4883.340012  4906.960037  7.002737e+08   \n",
       "     9     4266.080002  4181.480011  4224.290009  4219.400024  6.789720e+08   \n",
       "     10    5150.640030  5011.109985  5087.600021  5079.449997  7.897485e+08   \n",
       "     11    4072.939987  3962.709976  4028.209991  4015.949997  9.613264e+08   \n",
       "     12    3179.080017  3075.930023  3139.619995  3121.060028  8.989225e+08   \n",
       "\n",
       "             Adj Close  month  \n",
       "Date Date                      \n",
       "2009 12      20.159719     12  \n",
       "2010 1      377.554930     19  \n",
       "     2      361.342400     38  \n",
       "     3      491.575537     69  \n",
       "     4      504.554579     84  \n",
       "...                ...    ...  \n",
       "2018 8     4884.851288    184  \n",
       "     9     4204.729004    171  \n",
       "     10    5061.788559    230  \n",
       "     11    4012.316437    231  \n",
       "     12    3121.060028    228  \n",
       "\n",
       "[109 rows x 7 columns]"
      ]
     },
     "execution_count": 14,
     "metadata": {},
     "output_type": "execute_result"
    }
   ],
   "source": [
    "# annually + montly (multi-index)\n",
    "df.groupby([df.index.year, df.index.month]).agg(sum)\n",
    "# but not easy..."
   ]
  },
  {
   "cell_type": "markdown",
   "metadata": {},
   "source": [
    "Using __df.resample()__  \n",
    "필수로 참고!!!(docs _ offset strings, offset aliases)  \n",
    "->  https://pandas.pydata.org/pandas-docs/stable/user_guide/timeseries.html  \n",
    "- resample을 사용하면 indexing도 가능"
   ]
  },
  {
   "cell_type": "code",
   "execution_count": 15,
   "metadata": {},
   "outputs": [
    {
     "data": {
      "text/html": [
       "<div>\n",
       "<style scoped>\n",
       "    .dataframe tbody tr th:only-of-type {\n",
       "        vertical-align: middle;\n",
       "    }\n",
       "\n",
       "    .dataframe tbody tr th {\n",
       "        vertical-align: top;\n",
       "    }\n",
       "\n",
       "    .dataframe thead th {\n",
       "        text-align: right;\n",
       "    }\n",
       "</style>\n",
       "<table border=\"1\" class=\"dataframe\">\n",
       "  <thead>\n",
       "    <tr style=\"text-align: right;\">\n",
       "      <th></th>\n",
       "      <th>High</th>\n",
       "      <th>Low</th>\n",
       "      <th>Open</th>\n",
       "      <th>Close</th>\n",
       "      <th>Volume</th>\n",
       "      <th>Adj Close</th>\n",
       "      <th>month</th>\n",
       "    </tr>\n",
       "    <tr>\n",
       "      <th>Date</th>\n",
       "      <th></th>\n",
       "      <th></th>\n",
       "      <th></th>\n",
       "      <th></th>\n",
       "      <th></th>\n",
       "      <th></th>\n",
       "      <th></th>\n",
       "    </tr>\n",
       "  </thead>\n",
       "  <tbody>\n",
       "    <tr>\n",
       "      <th>2009-12-31</th>\n",
       "      <td>30.478571</td>\n",
       "      <td>30.080000</td>\n",
       "      <td>30.447144</td>\n",
       "      <td>30.104286</td>\n",
       "      <td>8.810270e+07</td>\n",
       "      <td>20.159719</td>\n",
       "      <td>12</td>\n",
       "    </tr>\n",
       "    <tr>\n",
       "      <th>2010-12-31</th>\n",
       "      <td>9445.277117</td>\n",
       "      <td>9246.514246</td>\n",
       "      <td>9358.474289</td>\n",
       "      <td>9354.328560</td>\n",
       "      <td>3.775623e+10</td>\n",
       "      <td>6264.245874</td>\n",
       "      <td>1659</td>\n",
       "    </tr>\n",
       "    <tr>\n",
       "      <th>2011-12-31</th>\n",
       "      <td>13227.248539</td>\n",
       "      <td>12970.717155</td>\n",
       "      <td>13106.211399</td>\n",
       "      <td>13104.155712</td>\n",
       "      <td>3.101483e+10</td>\n",
       "      <td>8775.365667</td>\n",
       "      <td>1650</td>\n",
       "    </tr>\n",
       "    <tr>\n",
       "      <th>2012-12-31</th>\n",
       "      <td>20779.478600</td>\n",
       "      <td>20354.327164</td>\n",
       "      <td>20594.740028</td>\n",
       "      <td>20573.204269</td>\n",
       "      <td>3.299105e+10</td>\n",
       "      <td>14019.096821</td>\n",
       "      <td>1625</td>\n",
       "    </tr>\n",
       "    <tr>\n",
       "      <th>2013-12-31</th>\n",
       "      <td>17195.001381</td>\n",
       "      <td>16856.895695</td>\n",
       "      <td>17032.612881</td>\n",
       "      <td>17014.855690</td>\n",
       "      <td>2.560539e+10</td>\n",
       "      <td>13377.068882</td>\n",
       "      <td>1649</td>\n",
       "    </tr>\n",
       "    <tr>\n",
       "      <th>2014-12-31</th>\n",
       "      <td>23439.191429</td>\n",
       "      <td>23051.835686</td>\n",
       "      <td>23239.397186</td>\n",
       "      <td>23250.692886</td>\n",
       "      <td>1.591449e+10</td>\n",
       "      <td>21242.415085</td>\n",
       "      <td>1651</td>\n",
       "    </tr>\n",
       "    <tr>\n",
       "      <th>2015-12-31</th>\n",
       "      <td>30553.620010</td>\n",
       "      <td>29953.500031</td>\n",
       "      <td>30284.289993</td>\n",
       "      <td>30250.079948</td>\n",
       "      <td>1.306315e+10</td>\n",
       "      <td>28458.719048</td>\n",
       "      <td>1655</td>\n",
       "    </tr>\n",
       "    <tr>\n",
       "      <th>2016-12-31</th>\n",
       "      <td>26567.650009</td>\n",
       "      <td>26129.949989</td>\n",
       "      <td>26335.959984</td>\n",
       "      <td>26360.209991</td>\n",
       "      <td>9.680622e+09</td>\n",
       "      <td>25313.373260</td>\n",
       "      <td>1652</td>\n",
       "    </tr>\n",
       "    <tr>\n",
       "      <th>2017-12-31</th>\n",
       "      <td>38002.920044</td>\n",
       "      <td>37521.400078</td>\n",
       "      <td>37761.670013</td>\n",
       "      <td>37788.319946</td>\n",
       "      <td>6.810426e+09</td>\n",
       "      <td>36972.054916</td>\n",
       "      <td>1640</td>\n",
       "    </tr>\n",
       "    <tr>\n",
       "      <th>2018-12-31</th>\n",
       "      <td>47939.520004</td>\n",
       "      <td>46983.060043</td>\n",
       "      <td>47463.110077</td>\n",
       "      <td>47452.410126</td>\n",
       "      <td>8.537986e+09</td>\n",
       "      <td>47134.853607</td>\n",
       "      <td>1633</td>\n",
       "    </tr>\n",
       "  </tbody>\n",
       "</table>\n",
       "</div>"
      ],
      "text/plain": [
       "                    High           Low          Open         Close  \\\n",
       "Date                                                                 \n",
       "2009-12-31     30.478571     30.080000     30.447144     30.104286   \n",
       "2010-12-31   9445.277117   9246.514246   9358.474289   9354.328560   \n",
       "2011-12-31  13227.248539  12970.717155  13106.211399  13104.155712   \n",
       "2012-12-31  20779.478600  20354.327164  20594.740028  20573.204269   \n",
       "2013-12-31  17195.001381  16856.895695  17032.612881  17014.855690   \n",
       "2014-12-31  23439.191429  23051.835686  23239.397186  23250.692886   \n",
       "2015-12-31  30553.620010  29953.500031  30284.289993  30250.079948   \n",
       "2016-12-31  26567.650009  26129.949989  26335.959984  26360.209991   \n",
       "2017-12-31  38002.920044  37521.400078  37761.670013  37788.319946   \n",
       "2018-12-31  47939.520004  46983.060043  47463.110077  47452.410126   \n",
       "\n",
       "                  Volume     Adj Close  month  \n",
       "Date                                           \n",
       "2009-12-31  8.810270e+07     20.159719     12  \n",
       "2010-12-31  3.775623e+10   6264.245874   1659  \n",
       "2011-12-31  3.101483e+10   8775.365667   1650  \n",
       "2012-12-31  3.299105e+10  14019.096821   1625  \n",
       "2013-12-31  2.560539e+10  13377.068882   1649  \n",
       "2014-12-31  1.591449e+10  21242.415085   1651  \n",
       "2015-12-31  1.306315e+10  28458.719048   1655  \n",
       "2016-12-31  9.680622e+09  25313.373260   1652  \n",
       "2017-12-31  6.810426e+09  36972.054916   1640  \n",
       "2018-12-31  8.537986e+09  47134.853607   1633  "
      ]
     },
     "execution_count": 15,
     "metadata": {},
     "output_type": "execute_result"
    }
   ],
   "source": [
    "# annually\n",
    "df.resample(rule='A').sum()"
   ]
  },
  {
   "cell_type": "code",
   "execution_count": 16,
   "metadata": {},
   "outputs": [
    {
     "data": {
      "text/html": [
       "<div>\n",
       "<style scoped>\n",
       "    .dataframe tbody tr th:only-of-type {\n",
       "        vertical-align: middle;\n",
       "    }\n",
       "\n",
       "    .dataframe tbody tr th {\n",
       "        vertical-align: top;\n",
       "    }\n",
       "\n",
       "    .dataframe thead th {\n",
       "        text-align: right;\n",
       "    }\n",
       "</style>\n",
       "<table border=\"1\" class=\"dataframe\">\n",
       "  <thead>\n",
       "    <tr style=\"text-align: right;\">\n",
       "      <th></th>\n",
       "      <th>High</th>\n",
       "      <th>Low</th>\n",
       "      <th>Open</th>\n",
       "      <th>Close</th>\n",
       "      <th>Volume</th>\n",
       "      <th>Adj Close</th>\n",
       "      <th>month</th>\n",
       "    </tr>\n",
       "    <tr>\n",
       "      <th>Date</th>\n",
       "      <th></th>\n",
       "      <th></th>\n",
       "      <th></th>\n",
       "      <th></th>\n",
       "      <th></th>\n",
       "      <th></th>\n",
       "      <th></th>\n",
       "    </tr>\n",
       "  </thead>\n",
       "  <tbody>\n",
       "    <tr>\n",
       "      <th>2010-12-31</th>\n",
       "      <td>9445.277117</td>\n",
       "      <td>9246.514246</td>\n",
       "      <td>9358.474289</td>\n",
       "      <td>9354.32856</td>\n",
       "      <td>3.775623e+10</td>\n",
       "      <td>6264.245874</td>\n",
       "      <td>1659</td>\n",
       "    </tr>\n",
       "  </tbody>\n",
       "</table>\n",
       "</div>"
      ],
      "text/plain": [
       "                   High          Low         Open       Close        Volume  \\\n",
       "Date                                                                          \n",
       "2010-12-31  9445.277117  9246.514246  9358.474289  9354.32856  3.775623e+10   \n",
       "\n",
       "              Adj Close  month  \n",
       "Date                            \n",
       "2010-12-31  6264.245874   1659  "
      ]
     },
     "execution_count": 16,
     "metadata": {},
     "output_type": "execute_result"
    }
   ],
   "source": [
    "#  indexing\n",
    "df.resample('A').sum()['2010']"
   ]
  },
  {
   "cell_type": "code",
   "execution_count": 17,
   "metadata": {},
   "outputs": [
    {
     "data": {
      "text/html": [
       "<div>\n",
       "<style scoped>\n",
       "    .dataframe tbody tr th:only-of-type {\n",
       "        vertical-align: middle;\n",
       "    }\n",
       "\n",
       "    .dataframe tbody tr th {\n",
       "        vertical-align: top;\n",
       "    }\n",
       "\n",
       "    .dataframe thead th {\n",
       "        text-align: right;\n",
       "    }\n",
       "</style>\n",
       "<table border=\"1\" class=\"dataframe\">\n",
       "  <thead>\n",
       "    <tr style=\"text-align: right;\">\n",
       "      <th></th>\n",
       "      <th>High</th>\n",
       "      <th>Low</th>\n",
       "      <th>Open</th>\n",
       "      <th>Close</th>\n",
       "      <th>Volume</th>\n",
       "      <th>Adj Close</th>\n",
       "      <th>month</th>\n",
       "    </tr>\n",
       "    <tr>\n",
       "      <th>Date</th>\n",
       "      <th></th>\n",
       "      <th></th>\n",
       "      <th></th>\n",
       "      <th></th>\n",
       "      <th></th>\n",
       "      <th></th>\n",
       "      <th></th>\n",
       "    </tr>\n",
       "  </thead>\n",
       "  <tbody>\n",
       "    <tr>\n",
       "      <th>2009-12-31</th>\n",
       "      <td>30.478571</td>\n",
       "      <td>30.080000</td>\n",
       "      <td>30.447144</td>\n",
       "      <td>30.104286</td>\n",
       "      <td>88102700.0</td>\n",
       "      <td>20.159719</td>\n",
       "      <td>12</td>\n",
       "    </tr>\n",
       "    <tr>\n",
       "      <th>2010-12-31</th>\n",
       "      <td>30.642857</td>\n",
       "      <td>30.340000</td>\n",
       "      <td>30.490000</td>\n",
       "      <td>30.572857</td>\n",
       "      <td>123432400.0</td>\n",
       "      <td>20.473503</td>\n",
       "      <td>1</td>\n",
       "    </tr>\n",
       "    <tr>\n",
       "      <th>2011-12-31</th>\n",
       "      <td>47.180000</td>\n",
       "      <td>46.405716</td>\n",
       "      <td>46.520000</td>\n",
       "      <td>47.081429</td>\n",
       "      <td>111284600.0</td>\n",
       "      <td>31.528688</td>\n",
       "      <td>1</td>\n",
       "    </tr>\n",
       "    <tr>\n",
       "      <th>2012-12-31</th>\n",
       "      <td>58.928570</td>\n",
       "      <td>58.428570</td>\n",
       "      <td>58.485714</td>\n",
       "      <td>58.747143</td>\n",
       "      <td>75555200.0</td>\n",
       "      <td>39.340778</td>\n",
       "      <td>1</td>\n",
       "    </tr>\n",
       "    <tr>\n",
       "      <th>2013-12-31</th>\n",
       "      <td>79.285713</td>\n",
       "      <td>77.375717</td>\n",
       "      <td>79.117142</td>\n",
       "      <td>78.432854</td>\n",
       "      <td>140129500.0</td>\n",
       "      <td>55.923737</td>\n",
       "      <td>1</td>\n",
       "    </tr>\n",
       "    <tr>\n",
       "      <th>2014-12-31</th>\n",
       "      <td>79.575714</td>\n",
       "      <td>78.860001</td>\n",
       "      <td>79.382858</td>\n",
       "      <td>79.018570</td>\n",
       "      <td>58671200.0</td>\n",
       "      <td>67.251503</td>\n",
       "      <td>1</td>\n",
       "    </tr>\n",
       "    <tr>\n",
       "      <th>2015-12-31</th>\n",
       "      <td>111.440002</td>\n",
       "      <td>107.349998</td>\n",
       "      <td>111.389999</td>\n",
       "      <td>109.330002</td>\n",
       "      <td>53204600.0</td>\n",
       "      <td>101.963631</td>\n",
       "      <td>1</td>\n",
       "    </tr>\n",
       "    <tr>\n",
       "      <th>2016-12-31</th>\n",
       "      <td>105.370003</td>\n",
       "      <td>102.000000</td>\n",
       "      <td>102.610001</td>\n",
       "      <td>105.349998</td>\n",
       "      <td>67649400.0</td>\n",
       "      <td>99.925850</td>\n",
       "      <td>1</td>\n",
       "    </tr>\n",
       "    <tr>\n",
       "      <th>2017-12-31</th>\n",
       "      <td>116.330002</td>\n",
       "      <td>114.760002</td>\n",
       "      <td>115.800003</td>\n",
       "      <td>116.150002</td>\n",
       "      <td>28781900.0</td>\n",
       "      <td>112.620964</td>\n",
       "      <td>1</td>\n",
       "    </tr>\n",
       "    <tr>\n",
       "      <th>2018-12-31</th>\n",
       "      <td>172.300003</td>\n",
       "      <td>169.259995</td>\n",
       "      <td>170.160004</td>\n",
       "      <td>172.259995</td>\n",
       "      <td>25555900.0</td>\n",
       "      <td>169.712067</td>\n",
       "      <td>1</td>\n",
       "    </tr>\n",
       "  </tbody>\n",
       "</table>\n",
       "</div>"
      ],
      "text/plain": [
       "                  High         Low        Open       Close       Volume  \\\n",
       "Date                                                                      \n",
       "2009-12-31   30.478571   30.080000   30.447144   30.104286   88102700.0   \n",
       "2010-12-31   30.642857   30.340000   30.490000   30.572857  123432400.0   \n",
       "2011-12-31   47.180000   46.405716   46.520000   47.081429  111284600.0   \n",
       "2012-12-31   58.928570   58.428570   58.485714   58.747143   75555200.0   \n",
       "2013-12-31   79.285713   77.375717   79.117142   78.432854  140129500.0   \n",
       "2014-12-31   79.575714   78.860001   79.382858   79.018570   58671200.0   \n",
       "2015-12-31  111.440002  107.349998  111.389999  109.330002   53204600.0   \n",
       "2016-12-31  105.370003  102.000000  102.610001  105.349998   67649400.0   \n",
       "2017-12-31  116.330002  114.760002  115.800003  116.150002   28781900.0   \n",
       "2018-12-31  172.300003  169.259995  170.160004  172.259995   25555900.0   \n",
       "\n",
       "             Adj Close  month  \n",
       "Date                           \n",
       "2009-12-31   20.159719     12  \n",
       "2010-12-31   20.473503      1  \n",
       "2011-12-31   31.528688      1  \n",
       "2012-12-31   39.340778      1  \n",
       "2013-12-31   55.923737      1  \n",
       "2014-12-31   67.251503      1  \n",
       "2015-12-31  101.963631      1  \n",
       "2016-12-31   99.925850      1  \n",
       "2017-12-31  112.620964      1  \n",
       "2018-12-31  169.712067      1  "
      ]
     },
     "execution_count": 17,
     "metadata": {},
     "output_type": "execute_result"
    }
   ],
   "source": [
    "# 매년 첫번째 값을 가져와보기 (2009년의 첫번째값, 2010의 맨 첫번째 값, ... )\n",
    "df.resample('A').apply(lambda x:x[0])"
   ]
  },
  {
   "cell_type": "code",
   "execution_count": 18,
   "metadata": {},
   "outputs": [
    {
     "data": {
      "text/plain": [
       "<AxesSubplot:xlabel='Date'>"
      ]
     },
     "execution_count": 18,
     "metadata": {},
     "output_type": "execute_result"
    },
    {
     "data": {
      "image/png": "[encoded data removed]",
      "text/plain": [
       "<Figure size 432x288 with 1 Axes>"
      ]
     },
     "metadata": {
      "needs_background": "light"
     },
     "output_type": "display_data"
    }
   ],
   "source": [
    "# '종가'의 '연'',평균' 바차트로 생성\n",
    "df['Close'].resample('A').mean().plot(kind='bar', color='g')"
   ]
  },
  {
   "cell_type": "code",
   "execution_count": 19,
   "metadata": {},
   "outputs": [
    {
     "data": {
      "text/plain": [
       "<AxesSubplot:xlabel='Date'>"
      ]
     },
     "execution_count": 19,
     "metadata": {},
     "output_type": "execute_result"
    },
    {
     "data": {
      "image/png": "[encoded data removed]",
      "text/plain": [
       "<Figure size 1080x576 with 1 Axes>"
      ]
     },
     "metadata": {
      "needs_background": "light"
     },
     "output_type": "display_data"
    }
   ],
   "source": [
    "# '시가'의 월평균 바차트로 생성\n",
    "df['Open'].resample('M').max().plot(kind='bar', figsize=(15,8))"
   ]
  },
  {
   "cell_type": "code",
   "execution_count": 20,
   "metadata": {},
   "outputs": [
    {
     "data": {
      "text/plain": [
       "<AxesSubplot:xlabel='Date'>"
      ]
     },
     "execution_count": 20,
     "metadata": {},
     "output_type": "execute_result"
    },
    {
     "data": {
      "image/png": "[encoded data removed]",
      "text/plain": [
       "<Figure size 1080x576 with 1 Axes>"
      ]
     },
     "metadata": {
      "needs_background": "light"
     },
     "output_type": "display_data"
    }
   ],
   "source": [
    "# 범위 제한\n",
    "df['Open']['2015-8':'2017'].resample('M').max().plot(kind='bar', figsize=(15,8))\n",
    "# datetime 을 쓰는 가장 큰 이유, 인덱싱을 쉽게 접근할 수 있음"
   ]
  },
  {
   "cell_type": "code",
   "execution_count": 21,
   "metadata": {},
   "outputs": [
    {
     "data": {
      "text/plain": [
       "DatetimeIndex(['2020-01-01', '2020-01-02', '2020-01-03', '2020-01-06',\n",
       "               '2020-01-07', '2020-01-08', '2020-01-09', '2020-01-10',\n",
       "               '2020-01-13', '2020-01-14',\n",
       "               ...\n",
       "               '2021-09-06', '2021-09-07', '2021-09-08', '2021-09-09',\n",
       "               '2021-09-10', '2021-09-13', '2021-09-14', '2021-09-15',\n",
       "               '2021-09-16', '2021-09-17'],\n",
       "              dtype='datetime64[ns]', length=448, freq='B')"
      ]
     },
     "execution_count": 21,
     "metadata": {},
     "output_type": "execute_result"
    }
   ],
   "source": [
    "# 데이트 범위 설정하여 data 만들기 -> pd.date_range(start, end)\n",
    "daily_daterange = \\\n",
    "pd.date_range(start = datetime(2020,1,1) , end = datetime(2021,9,19), \n",
    "             freq = 'B') #Business Day Freauency - 주말(토,일)을 자동으로 빼줌\n",
    "daily_daterange"
   ]
  },
  {
   "cell_type": "code",
   "execution_count": 22,
   "metadata": {},
   "outputs": [
    {
     "data": {
      "text/html": [
       "<div>\n",
       "<style scoped>\n",
       "    .dataframe tbody tr th:only-of-type {\n",
       "        vertical-align: middle;\n",
       "    }\n",
       "\n",
       "    .dataframe tbody tr th {\n",
       "        vertical-align: top;\n",
       "    }\n",
       "\n",
       "    .dataframe thead th {\n",
       "        text-align: right;\n",
       "    }\n",
       "</style>\n",
       "<table border=\"1\" class=\"dataframe\">\n",
       "  <thead>\n",
       "    <tr style=\"text-align: right;\">\n",
       "      <th></th>\n",
       "      <th>value</th>\n",
       "    </tr>\n",
       "  </thead>\n",
       "  <tbody>\n",
       "    <tr>\n",
       "      <th>2020-01-01</th>\n",
       "      <td>0.238945</td>\n",
       "    </tr>\n",
       "    <tr>\n",
       "      <th>2020-01-02</th>\n",
       "      <td>0.553518</td>\n",
       "    </tr>\n",
       "    <tr>\n",
       "      <th>2020-01-03</th>\n",
       "      <td>0.356065</td>\n",
       "    </tr>\n",
       "    <tr>\n",
       "      <th>2020-01-06</th>\n",
       "      <td>0.653530</td>\n",
       "    </tr>\n",
       "    <tr>\n",
       "      <th>2020-01-07</th>\n",
       "      <td>0.919805</td>\n",
       "    </tr>\n",
       "  </tbody>\n",
       "</table>\n",
       "</div>"
      ],
      "text/plain": [
       "               value\n",
       "2020-01-01  0.238945\n",
       "2020-01-02  0.553518\n",
       "2020-01-03  0.356065\n",
       "2020-01-06  0.653530\n",
       "2020-01-07  0.919805"
      ]
     },
     "execution_count": 22,
     "metadata": {},
     "output_type": "execute_result"
    }
   ],
   "source": [
    "daily_dataset = \\\n",
    "pd.DataFrame(\n",
    "    data = {'value': np.random.rand(len(daily_daterange))}, #daily_daterange길이만큼 random값 생성\n",
    "    index = daily_daterange)\n",
    "daily_dataset.head()"
   ]
  },
  {
   "cell_type": "code",
   "execution_count": 23,
   "metadata": {},
   "outputs": [
    {
     "data": {
      "text/html": [
       "<div>\n",
       "<style scoped>\n",
       "    .dataframe tbody tr th:only-of-type {\n",
       "        vertical-align: middle;\n",
       "    }\n",
       "\n",
       "    .dataframe tbody tr th {\n",
       "        vertical-align: top;\n",
       "    }\n",
       "\n",
       "    .dataframe thead th {\n",
       "        text-align: right;\n",
       "    }\n",
       "</style>\n",
       "<table border=\"1\" class=\"dataframe\">\n",
       "  <thead>\n",
       "    <tr style=\"text-align: right;\">\n",
       "      <th></th>\n",
       "      <th>value</th>\n",
       "    </tr>\n",
       "  </thead>\n",
       "  <tbody>\n",
       "    <tr>\n",
       "      <th>2020-01-06</th>\n",
       "      <td>0.238945</td>\n",
       "    </tr>\n",
       "    <tr>\n",
       "      <th>2020-01-13</th>\n",
       "      <td>0.067379</td>\n",
       "    </tr>\n",
       "    <tr>\n",
       "      <th>2020-01-20</th>\n",
       "      <td>0.046691</td>\n",
       "    </tr>\n",
       "    <tr>\n",
       "      <th>2020-01-27</th>\n",
       "      <td>0.013305</td>\n",
       "    </tr>\n",
       "    <tr>\n",
       "      <th>2020-02-03</th>\n",
       "      <td>0.059213</td>\n",
       "    </tr>\n",
       "    <tr>\n",
       "      <th>...</th>\n",
       "      <td>...</td>\n",
       "    </tr>\n",
       "    <tr>\n",
       "      <th>2021-08-23</th>\n",
       "      <td>0.277423</td>\n",
       "    </tr>\n",
       "    <tr>\n",
       "      <th>2021-08-30</th>\n",
       "      <td>0.065445</td>\n",
       "    </tr>\n",
       "    <tr>\n",
       "      <th>2021-09-06</th>\n",
       "      <td>0.176209</td>\n",
       "    </tr>\n",
       "    <tr>\n",
       "      <th>2021-09-13</th>\n",
       "      <td>0.110904</td>\n",
       "    </tr>\n",
       "    <tr>\n",
       "      <th>2021-09-20</th>\n",
       "      <td>0.438994</td>\n",
       "    </tr>\n",
       "  </tbody>\n",
       "</table>\n",
       "<p>90 rows × 1 columns</p>\n",
       "</div>"
      ],
      "text/plain": [
       "               value\n",
       "2020-01-06  0.238945\n",
       "2020-01-13  0.067379\n",
       "2020-01-20  0.046691\n",
       "2020-01-27  0.013305\n",
       "2020-02-03  0.059213\n",
       "...              ...\n",
       "2021-08-23  0.277423\n",
       "2021-08-30  0.065445\n",
       "2021-09-06  0.176209\n",
       "2021-09-13  0.110904\n",
       "2021-09-20  0.438994\n",
       "\n",
       "[90 rows x 1 columns]"
      ]
     },
     "execution_count": 23,
     "metadata": {},
     "output_type": "execute_result"
    }
   ],
   "source": [
    "# 해당 주의 최소값 확인 (index는 월요일로 고정)\n",
    "daily_dataset.resample('W-MON').min()"
   ]
  },
  {
   "cell_type": "code",
   "execution_count": 24,
   "metadata": {},
   "outputs": [
    {
     "data": {
      "text/html": [
       "<div>\n",
       "<style scoped>\n",
       "    .dataframe tbody tr th:only-of-type {\n",
       "        vertical-align: middle;\n",
       "    }\n",
       "\n",
       "    .dataframe tbody tr th {\n",
       "        vertical-align: top;\n",
       "    }\n",
       "\n",
       "    .dataframe thead th {\n",
       "        text-align: right;\n",
       "    }\n",
       "</style>\n",
       "<table border=\"1\" class=\"dataframe\">\n",
       "  <thead>\n",
       "    <tr style=\"text-align: right;\">\n",
       "      <th></th>\n",
       "      <th>value</th>\n",
       "    </tr>\n",
       "  </thead>\n",
       "  <tbody>\n",
       "    <tr>\n",
       "      <th>2020-01-31</th>\n",
       "      <td>0.013305</td>\n",
       "    </tr>\n",
       "    <tr>\n",
       "      <th>2020-02-29</th>\n",
       "      <td>0.069478</td>\n",
       "    </tr>\n",
       "    <tr>\n",
       "      <th>2020-03-31</th>\n",
       "      <td>0.037006</td>\n",
       "    </tr>\n",
       "    <tr>\n",
       "      <th>2020-04-30</th>\n",
       "      <td>0.123459</td>\n",
       "    </tr>\n",
       "    <tr>\n",
       "      <th>2020-05-31</th>\n",
       "      <td>0.065582</td>\n",
       "    </tr>\n",
       "    <tr>\n",
       "      <th>2020-06-30</th>\n",
       "      <td>0.007288</td>\n",
       "    </tr>\n",
       "    <tr>\n",
       "      <th>2020-07-31</th>\n",
       "      <td>0.032028</td>\n",
       "    </tr>\n",
       "    <tr>\n",
       "      <th>2020-08-31</th>\n",
       "      <td>0.015804</td>\n",
       "    </tr>\n",
       "    <tr>\n",
       "      <th>2020-09-30</th>\n",
       "      <td>0.001416</td>\n",
       "    </tr>\n",
       "    <tr>\n",
       "      <th>2020-10-31</th>\n",
       "      <td>0.056074</td>\n",
       "    </tr>\n",
       "    <tr>\n",
       "      <th>2020-11-30</th>\n",
       "      <td>0.039047</td>\n",
       "    </tr>\n",
       "    <tr>\n",
       "      <th>2020-12-31</th>\n",
       "      <td>0.018898</td>\n",
       "    </tr>\n",
       "    <tr>\n",
       "      <th>2021-01-31</th>\n",
       "      <td>0.004944</td>\n",
       "    </tr>\n",
       "    <tr>\n",
       "      <th>2021-02-28</th>\n",
       "      <td>0.028504</td>\n",
       "    </tr>\n",
       "    <tr>\n",
       "      <th>2021-03-31</th>\n",
       "      <td>0.000115</td>\n",
       "    </tr>\n",
       "    <tr>\n",
       "      <th>2021-04-30</th>\n",
       "      <td>0.113485</td>\n",
       "    </tr>\n",
       "    <tr>\n",
       "      <th>2021-05-31</th>\n",
       "      <td>0.068010</td>\n",
       "    </tr>\n",
       "    <tr>\n",
       "      <th>2021-06-30</th>\n",
       "      <td>0.000717</td>\n",
       "    </tr>\n",
       "    <tr>\n",
       "      <th>2021-07-31</th>\n",
       "      <td>0.051388</td>\n",
       "    </tr>\n",
       "    <tr>\n",
       "      <th>2021-08-31</th>\n",
       "      <td>0.065445</td>\n",
       "    </tr>\n",
       "    <tr>\n",
       "      <th>2021-09-30</th>\n",
       "      <td>0.110904</td>\n",
       "    </tr>\n",
       "  </tbody>\n",
       "</table>\n",
       "</div>"
      ],
      "text/plain": [
       "               value\n",
       "2020-01-31  0.013305\n",
       "2020-02-29  0.069478\n",
       "2020-03-31  0.037006\n",
       "2020-04-30  0.123459\n",
       "2020-05-31  0.065582\n",
       "2020-06-30  0.007288\n",
       "2020-07-31  0.032028\n",
       "2020-08-31  0.015804\n",
       "2020-09-30  0.001416\n",
       "2020-10-31  0.056074\n",
       "2020-11-30  0.039047\n",
       "2020-12-31  0.018898\n",
       "2021-01-31  0.004944\n",
       "2021-02-28  0.028504\n",
       "2021-03-31  0.000115\n",
       "2021-04-30  0.113485\n",
       "2021-05-31  0.068010\n",
       "2021-06-30  0.000717\n",
       "2021-07-31  0.051388\n",
       "2021-08-31  0.065445\n",
       "2021-09-30  0.110904"
      ]
     },
     "execution_count": 24,
     "metadata": {},
     "output_type": "execute_result"
    }
   ],
   "source": [
    "# 해당 달의 최소값 확인 (월 같은 경우 마지막날이 index로 고정, default)\n",
    "daily_dataset.resample('M').min()"
   ]
  },
  {
   "cell_type": "markdown",
   "metadata": {},
   "source": [
    "### Time Shifting"
   ]
  },
  {
   "cell_type": "markdown",
   "metadata": {},
   "source": [
    "- 시계열 분석 알고리즘을 사용하기 위해 __데이터를 임의의 시간만큼 앞 또는 뒤로 이동__시켜야 할 때매우 쉽게 사용 가능한 메서드"
   ]
  },
  {
   "cell_type": "code",
   "execution_count": 25,
   "metadata": {},
   "outputs": [],
   "source": [
    "# index_col 사용하여 바로 index로 set해줌\n",
    "df = pd.read_csv('data/apple_stock.csv', index_col = 'Date')"
   ]
  },
  {
   "cell_type": "code",
   "execution_count": 26,
   "metadata": {},
   "outputs": [
    {
     "data": {
      "text/plain": [
       "Index(['2009-12-31', '2010-01-04', '2010-01-05', '2010-01-06', '2010-01-07',\n",
       "       '2010-01-08', '2010-01-11', '2010-01-12', '2010-01-13', '2010-01-14',\n",
       "       ...\n",
       "       '2018-12-17', '2018-12-18', '2018-12-19', '2018-12-20', '2018-12-21',\n",
       "       '2018-12-24', '2018-12-26', '2018-12-27', '2018-12-28', '2018-12-31'],\n",
       "      dtype='object', name='Date', length=2265)"
      ]
     },
     "execution_count": 26,
     "metadata": {},
     "output_type": "execute_result"
    }
   ],
   "source": [
    "df.index"
   ]
  },
  {
   "cell_type": "code",
   "execution_count": 27,
   "metadata": {},
   "outputs": [
    {
     "data": {
      "text/html": [
       "<div>\n",
       "<style scoped>\n",
       "    .dataframe tbody tr th:only-of-type {\n",
       "        vertical-align: middle;\n",
       "    }\n",
       "\n",
       "    .dataframe tbody tr th {\n",
       "        vertical-align: top;\n",
       "    }\n",
       "\n",
       "    .dataframe thead th {\n",
       "        text-align: right;\n",
       "    }\n",
       "</style>\n",
       "<table border=\"1\" class=\"dataframe\">\n",
       "  <thead>\n",
       "    <tr style=\"text-align: right;\">\n",
       "      <th></th>\n",
       "      <th>High</th>\n",
       "      <th>Low</th>\n",
       "      <th>Open</th>\n",
       "      <th>Close</th>\n",
       "      <th>Volume</th>\n",
       "      <th>Adj Close</th>\n",
       "    </tr>\n",
       "    <tr>\n",
       "      <th>Date</th>\n",
       "      <th></th>\n",
       "      <th></th>\n",
       "      <th></th>\n",
       "      <th></th>\n",
       "      <th></th>\n",
       "      <th></th>\n",
       "    </tr>\n",
       "  </thead>\n",
       "  <tbody>\n",
       "    <tr>\n",
       "      <th>2009-12-31</th>\n",
       "      <td>30.478571</td>\n",
       "      <td>30.080000</td>\n",
       "      <td>30.447144</td>\n",
       "      <td>30.104286</td>\n",
       "      <td>88102700.0</td>\n",
       "      <td>20.159719</td>\n",
       "    </tr>\n",
       "    <tr>\n",
       "      <th>2010-01-04</th>\n",
       "      <td>30.642857</td>\n",
       "      <td>30.340000</td>\n",
       "      <td>30.490000</td>\n",
       "      <td>30.572857</td>\n",
       "      <td>123432400.0</td>\n",
       "      <td>20.473503</td>\n",
       "    </tr>\n",
       "    <tr>\n",
       "      <th>2010-01-05</th>\n",
       "      <td>30.798571</td>\n",
       "      <td>30.464285</td>\n",
       "      <td>30.657143</td>\n",
       "      <td>30.625713</td>\n",
       "      <td>150476200.0</td>\n",
       "      <td>20.508902</td>\n",
       "    </tr>\n",
       "  </tbody>\n",
       "</table>\n",
       "</div>"
      ],
      "text/plain": [
       "                 High        Low       Open      Close       Volume  Adj Close\n",
       "Date                                                                          \n",
       "2009-12-31  30.478571  30.080000  30.447144  30.104286   88102700.0  20.159719\n",
       "2010-01-04  30.642857  30.340000  30.490000  30.572857  123432400.0  20.473503\n",
       "2010-01-05  30.798571  30.464285  30.657143  30.625713  150476200.0  20.508902"
      ]
     },
     "execution_count": 27,
     "metadata": {},
     "output_type": "execute_result"
    }
   ],
   "source": [
    "# datetime으로 변경\n",
    "df.index = pd.to_datetime(df.index)\n",
    "df.head(3)"
   ]
  },
  {
   "cell_type": "markdown",
   "metadata": {},
   "source": [
    "Using numpy"
   ]
  },
  {
   "cell_type": "code",
   "execution_count": 28,
   "metadata": {},
   "outputs": [
    {
     "data": {
      "text/plain": [
       "array([ 30.10428619,  30.5728569 ,  30.62571335, ..., 157.16999817,\n",
       "       156.1499939 , 156.22999573])"
      ]
     },
     "execution_count": 28,
     "metadata": {},
     "output_type": "execute_result"
    }
   ],
   "source": [
    "temp = np.asarray(df['Close'])\n",
    "temp[:-1]"
   ]
  },
  {
   "cell_type": "code",
   "execution_count": 29,
   "metadata": {},
   "outputs": [
    {
     "data": {
      "text/plain": [
       "array([ 30.5728569 ,  30.62571335,  30.13857079, ..., 156.1499939 ,\n",
       "       156.22999573, 157.74000549])"
      ]
     },
     "execution_count": 29,
     "metadata": {},
     "output_type": "execute_result"
    }
   ],
   "source": [
    "temp[1:]"
   ]
  },
  {
   "cell_type": "markdown",
   "metadata": {},
   "source": [
    "Using __df.shift()__"
   ]
  },
  {
   "cell_type": "code",
   "execution_count": 30,
   "metadata": {},
   "outputs": [
    {
     "data": {
      "text/html": [
       "<div>\n",
       "<style scoped>\n",
       "    .dataframe tbody tr th:only-of-type {\n",
       "        vertical-align: middle;\n",
       "    }\n",
       "\n",
       "    .dataframe tbody tr th {\n",
       "        vertical-align: top;\n",
       "    }\n",
       "\n",
       "    .dataframe thead th {\n",
       "        text-align: right;\n",
       "    }\n",
       "</style>\n",
       "<table border=\"1\" class=\"dataframe\">\n",
       "  <thead>\n",
       "    <tr style=\"text-align: right;\">\n",
       "      <th></th>\n",
       "      <th>High</th>\n",
       "      <th>Low</th>\n",
       "      <th>Open</th>\n",
       "      <th>Close</th>\n",
       "      <th>Volume</th>\n",
       "      <th>Adj Close</th>\n",
       "    </tr>\n",
       "    <tr>\n",
       "      <th>Date</th>\n",
       "      <th></th>\n",
       "      <th></th>\n",
       "      <th></th>\n",
       "      <th></th>\n",
       "      <th></th>\n",
       "      <th></th>\n",
       "    </tr>\n",
       "  </thead>\n",
       "  <tbody>\n",
       "    <tr>\n",
       "      <th>2009-12-31</th>\n",
       "      <td>NaN</td>\n",
       "      <td>NaN</td>\n",
       "      <td>NaN</td>\n",
       "      <td>NaN</td>\n",
       "      <td>NaN</td>\n",
       "      <td>NaN</td>\n",
       "    </tr>\n",
       "    <tr>\n",
       "      <th>2010-01-04</th>\n",
       "      <td>30.478571</td>\n",
       "      <td>30.080000</td>\n",
       "      <td>30.447144</td>\n",
       "      <td>30.104286</td>\n",
       "      <td>88102700.0</td>\n",
       "      <td>20.159719</td>\n",
       "    </tr>\n",
       "    <tr>\n",
       "      <th>2010-01-05</th>\n",
       "      <td>30.642857</td>\n",
       "      <td>30.340000</td>\n",
       "      <td>30.490000</td>\n",
       "      <td>30.572857</td>\n",
       "      <td>123432400.0</td>\n",
       "      <td>20.473503</td>\n",
       "    </tr>\n",
       "    <tr>\n",
       "      <th>2010-01-06</th>\n",
       "      <td>30.798571</td>\n",
       "      <td>30.464285</td>\n",
       "      <td>30.657143</td>\n",
       "      <td>30.625713</td>\n",
       "      <td>150476200.0</td>\n",
       "      <td>20.508902</td>\n",
       "    </tr>\n",
       "    <tr>\n",
       "      <th>2010-01-07</th>\n",
       "      <td>30.747143</td>\n",
       "      <td>30.107143</td>\n",
       "      <td>30.625713</td>\n",
       "      <td>30.138571</td>\n",
       "      <td>138040000.0</td>\n",
       "      <td>20.182680</td>\n",
       "    </tr>\n",
       "  </tbody>\n",
       "</table>\n",
       "</div>"
      ],
      "text/plain": [
       "                 High        Low       Open      Close       Volume  Adj Close\n",
       "Date                                                                          \n",
       "2009-12-31        NaN        NaN        NaN        NaN          NaN        NaN\n",
       "2010-01-04  30.478571  30.080000  30.447144  30.104286   88102700.0  20.159719\n",
       "2010-01-05  30.642857  30.340000  30.490000  30.572857  123432400.0  20.473503\n",
       "2010-01-06  30.798571  30.464285  30.657143  30.625713  150476200.0  20.508902\n",
       "2010-01-07  30.747143  30.107143  30.625713  30.138571  138040000.0  20.182680"
      ]
     },
     "execution_count": 30,
     "metadata": {},
     "output_type": "execute_result"
    }
   ],
   "source": [
    "# day shift\n",
    "df.shift(1).head() #1일 뒤로... 맨앞 값은 NaN값을 채워지고 마지막 값은 없어짐"
   ]
  },
  {
   "cell_type": "code",
   "execution_count": 31,
   "metadata": {},
   "outputs": [
    {
     "data": {
      "text/html": [
       "<div>\n",
       "<style scoped>\n",
       "    .dataframe tbody tr th:only-of-type {\n",
       "        vertical-align: middle;\n",
       "    }\n",
       "\n",
       "    .dataframe tbody tr th {\n",
       "        vertical-align: top;\n",
       "    }\n",
       "\n",
       "    .dataframe thead th {\n",
       "        text-align: right;\n",
       "    }\n",
       "</style>\n",
       "<table border=\"1\" class=\"dataframe\">\n",
       "  <thead>\n",
       "    <tr style=\"text-align: right;\">\n",
       "      <th></th>\n",
       "      <th>High</th>\n",
       "      <th>Low</th>\n",
       "      <th>Open</th>\n",
       "      <th>Close</th>\n",
       "      <th>Volume</th>\n",
       "      <th>Adj Close</th>\n",
       "    </tr>\n",
       "    <tr>\n",
       "      <th>Date</th>\n",
       "      <th></th>\n",
       "      <th></th>\n",
       "      <th></th>\n",
       "      <th></th>\n",
       "      <th></th>\n",
       "      <th></th>\n",
       "    </tr>\n",
       "  </thead>\n",
       "  <tbody>\n",
       "    <tr>\n",
       "      <th>2010-01-31</th>\n",
       "      <td>30.478571</td>\n",
       "      <td>30.080000</td>\n",
       "      <td>30.447144</td>\n",
       "      <td>30.104286</td>\n",
       "      <td>88102700.0</td>\n",
       "      <td>20.159719</td>\n",
       "    </tr>\n",
       "    <tr>\n",
       "      <th>2010-01-31</th>\n",
       "      <td>30.642857</td>\n",
       "      <td>30.340000</td>\n",
       "      <td>30.490000</td>\n",
       "      <td>30.572857</td>\n",
       "      <td>123432400.0</td>\n",
       "      <td>20.473503</td>\n",
       "    </tr>\n",
       "    <tr>\n",
       "      <th>2010-01-31</th>\n",
       "      <td>30.798571</td>\n",
       "      <td>30.464285</td>\n",
       "      <td>30.657143</td>\n",
       "      <td>30.625713</td>\n",
       "      <td>150476200.0</td>\n",
       "      <td>20.508902</td>\n",
       "    </tr>\n",
       "    <tr>\n",
       "      <th>2010-01-31</th>\n",
       "      <td>30.747143</td>\n",
       "      <td>30.107143</td>\n",
       "      <td>30.625713</td>\n",
       "      <td>30.138571</td>\n",
       "      <td>138040000.0</td>\n",
       "      <td>20.182680</td>\n",
       "    </tr>\n",
       "    <tr>\n",
       "      <th>2010-01-31</th>\n",
       "      <td>30.285715</td>\n",
       "      <td>29.864286</td>\n",
       "      <td>30.250000</td>\n",
       "      <td>30.082857</td>\n",
       "      <td>119282800.0</td>\n",
       "      <td>20.145369</td>\n",
       "    </tr>\n",
       "  </tbody>\n",
       "</table>\n",
       "</div>"
      ],
      "text/plain": [
       "                 High        Low       Open      Close       Volume  Adj Close\n",
       "Date                                                                          \n",
       "2010-01-31  30.478571  30.080000  30.447144  30.104286   88102700.0  20.159719\n",
       "2010-01-31  30.642857  30.340000  30.490000  30.572857  123432400.0  20.473503\n",
       "2010-01-31  30.798571  30.464285  30.657143  30.625713  150476200.0  20.508902\n",
       "2010-01-31  30.747143  30.107143  30.625713  30.138571  138040000.0  20.182680\n",
       "2010-01-31  30.285715  29.864286  30.250000  30.082857  119282800.0  20.145369"
      ]
     },
     "execution_count": 31,
     "metadata": {},
     "output_type": "execute_result"
    }
   ],
   "source": [
    "# month shift\n",
    "df.shift(freq='M', periods=1).head()"
   ]
  },
  {
   "cell_type": "markdown",
   "metadata": {},
   "source": [
    "### Rolling and Expanding"
   ]
  },
  {
   "cell_type": "markdown",
   "metadata": {},
   "source": [
    "- 매일 수집한 데이터들에는 __noise__가 포함되는 경우가 있음\n",
    "- 이럴 경우 데이터의 일반적인 __트랜드를 구하기 위해__ __rolling mean (or moving average) 를 사용__ 하기도 함\n",
    "- Pandas에 내장된 __rolling 함수__를 이용하면 __주어진 시한 내 평균 (rolling mean)__ 등을 구할 수 있음\n",
    "- 임의의 시간 간격의 __window__를 만들고 그 안에서 __mean같은 통계적 aggregation을 실행__하면 됨"
   ]
  },
  {
   "cell_type": "code",
   "execution_count": 32,
   "metadata": {},
   "outputs": [
    {
     "data": {
      "text/plain": [
       "DatetimeIndex(['2009-12-31', '2010-01-04', '2010-01-05', '2010-01-06',\n",
       "               '2010-01-07', '2010-01-08', '2010-01-11', '2010-01-12',\n",
       "               '2010-01-13', '2010-01-14',\n",
       "               ...\n",
       "               '2018-12-17', '2018-12-18', '2018-12-19', '2018-12-20',\n",
       "               '2018-12-21', '2018-12-24', '2018-12-26', '2018-12-27',\n",
       "               '2018-12-28', '2018-12-31'],\n",
       "              dtype='datetime64[ns]', name='Date', length=2265, freq=None)"
      ]
     },
     "execution_count": 32,
     "metadata": {},
     "output_type": "execute_result"
    }
   ],
   "source": [
    "# parsing할 수 있는 date형태라면 알아서 parsing해줌\n",
    "df = pd.read_csv('data/apple_stock.csv', index_col='Date', parse_dates=True) # parse_date = ['Date']\n",
    "df.index"
   ]
  },
  {
   "cell_type": "code",
   "execution_count": 33,
   "metadata": {},
   "outputs": [],
   "source": [
    "# 만약 인식 못하는 date 형태라면? -> 직접 parser를 함수로써 정의해줘야함\n",
    "def dateparser(str_dt):\n",
    "    return datetime.strptime(str_dt, \"%m-%d-%Y\")\n",
    "    # string으로 받아서 지정한 형태로 인식함"
   ]
  },
  {
   "cell_type": "code",
   "execution_count": 34,
   "metadata": {},
   "outputs": [
    {
     "data": {
      "text/plain": [
       "datetime.datetime(2020, 1, 30, 0, 0)"
      ]
     },
     "execution_count": 34,
     "metadata": {},
     "output_type": "execute_result"
    }
   ],
   "source": [
    "dateparser('01-30-2020')"
   ]
  },
  {
   "cell_type": "code",
   "execution_count": 35,
   "metadata": {},
   "outputs": [
    {
     "data": {
      "text/html": [
       "<div>\n",
       "<style scoped>\n",
       "    .dataframe tbody tr th:only-of-type {\n",
       "        vertical-align: middle;\n",
       "    }\n",
       "\n",
       "    .dataframe tbody tr th {\n",
       "        vertical-align: top;\n",
       "    }\n",
       "\n",
       "    .dataframe thead th {\n",
       "        text-align: right;\n",
       "    }\n",
       "</style>\n",
       "<table border=\"1\" class=\"dataframe\">\n",
       "  <thead>\n",
       "    <tr style=\"text-align: right;\">\n",
       "      <th></th>\n",
       "      <th>High</th>\n",
       "      <th>Low</th>\n",
       "      <th>Open</th>\n",
       "      <th>Close</th>\n",
       "      <th>Volume</th>\n",
       "      <th>Adj Close</th>\n",
       "    </tr>\n",
       "    <tr>\n",
       "      <th>Date</th>\n",
       "      <th></th>\n",
       "      <th></th>\n",
       "      <th></th>\n",
       "      <th></th>\n",
       "      <th></th>\n",
       "      <th></th>\n",
       "    </tr>\n",
       "  </thead>\n",
       "  <tbody>\n",
       "    <tr>\n",
       "      <th>2009-12-31</th>\n",
       "      <td>30.478571</td>\n",
       "      <td>30.080000</td>\n",
       "      <td>30.447144</td>\n",
       "      <td>30.104286</td>\n",
       "      <td>88102700.0</td>\n",
       "      <td>20.159719</td>\n",
       "    </tr>\n",
       "    <tr>\n",
       "      <th>2010-01-04</th>\n",
       "      <td>30.642857</td>\n",
       "      <td>30.340000</td>\n",
       "      <td>30.490000</td>\n",
       "      <td>30.572857</td>\n",
       "      <td>123432400.0</td>\n",
       "      <td>20.473503</td>\n",
       "    </tr>\n",
       "    <tr>\n",
       "      <th>2010-01-05</th>\n",
       "      <td>30.798571</td>\n",
       "      <td>30.464285</td>\n",
       "      <td>30.657143</td>\n",
       "      <td>30.625713</td>\n",
       "      <td>150476200.0</td>\n",
       "      <td>20.508902</td>\n",
       "    </tr>\n",
       "  </tbody>\n",
       "</table>\n",
       "</div>"
      ],
      "text/plain": [
       "                 High        Low       Open      Close       Volume  Adj Close\n",
       "Date                                                                          \n",
       "2009-12-31  30.478571  30.080000  30.447144  30.104286   88102700.0  20.159719\n",
       "2010-01-04  30.642857  30.340000  30.490000  30.572857  123432400.0  20.473503\n",
       "2010-01-05  30.798571  30.464285  30.657143  30.625713  150476200.0  20.508902"
      ]
     },
     "execution_count": 35,
     "metadata": {},
     "output_type": "execute_result"
    }
   ],
   "source": [
    "df = pd.read_csv('data/apple_stock.csv',\n",
    "                index_col = 'Date',\n",
    "                parse_dates=['Date'],\n",
    "                date_parser=lambda x:datetime.strptime(x,'%Y-%m-%d'))\n",
    "df.head(3)"
   ]
  },
  {
   "cell_type": "code",
   "execution_count": 36,
   "metadata": {},
   "outputs": [
    {
     "data": {
      "text/html": [
       "<div>\n",
       "<style scoped>\n",
       "    .dataframe tbody tr th:only-of-type {\n",
       "        vertical-align: middle;\n",
       "    }\n",
       "\n",
       "    .dataframe tbody tr th {\n",
       "        vertical-align: top;\n",
       "    }\n",
       "\n",
       "    .dataframe thead th {\n",
       "        text-align: right;\n",
       "    }\n",
       "</style>\n",
       "<table border=\"1\" class=\"dataframe\">\n",
       "  <thead>\n",
       "    <tr style=\"text-align: right;\">\n",
       "      <th></th>\n",
       "      <th>High</th>\n",
       "      <th>Low</th>\n",
       "      <th>Open</th>\n",
       "      <th>Close</th>\n",
       "      <th>Volume</th>\n",
       "      <th>Adj Close</th>\n",
       "    </tr>\n",
       "    <tr>\n",
       "      <th>Date</th>\n",
       "      <th></th>\n",
       "      <th></th>\n",
       "      <th></th>\n",
       "      <th></th>\n",
       "      <th></th>\n",
       "      <th></th>\n",
       "    </tr>\n",
       "  </thead>\n",
       "  <tbody>\n",
       "    <tr>\n",
       "      <th>2009-12-31</th>\n",
       "      <td>NaN</td>\n",
       "      <td>NaN</td>\n",
       "      <td>NaN</td>\n",
       "      <td>NaN</td>\n",
       "      <td>NaN</td>\n",
       "      <td>NaN</td>\n",
       "    </tr>\n",
       "    <tr>\n",
       "      <th>2010-01-04</th>\n",
       "      <td>NaN</td>\n",
       "      <td>NaN</td>\n",
       "      <td>NaN</td>\n",
       "      <td>NaN</td>\n",
       "      <td>NaN</td>\n",
       "      <td>NaN</td>\n",
       "    </tr>\n",
       "    <tr>\n",
       "      <th>2010-01-05</th>\n",
       "      <td>NaN</td>\n",
       "      <td>NaN</td>\n",
       "      <td>NaN</td>\n",
       "      <td>NaN</td>\n",
       "      <td>NaN</td>\n",
       "      <td>NaN</td>\n",
       "    </tr>\n",
       "    <tr>\n",
       "      <th>2010-01-06</th>\n",
       "      <td>NaN</td>\n",
       "      <td>NaN</td>\n",
       "      <td>NaN</td>\n",
       "      <td>NaN</td>\n",
       "      <td>NaN</td>\n",
       "      <td>NaN</td>\n",
       "    </tr>\n",
       "    <tr>\n",
       "      <th>2010-01-07</th>\n",
       "      <td>NaN</td>\n",
       "      <td>NaN</td>\n",
       "      <td>NaN</td>\n",
       "      <td>NaN</td>\n",
       "      <td>NaN</td>\n",
       "      <td>NaN</td>\n",
       "    </tr>\n",
       "    <tr>\n",
       "      <th>2010-01-08</th>\n",
       "      <td>NaN</td>\n",
       "      <td>NaN</td>\n",
       "      <td>NaN</td>\n",
       "      <td>NaN</td>\n",
       "      <td>NaN</td>\n",
       "      <td>NaN</td>\n",
       "    </tr>\n",
       "    <tr>\n",
       "      <th>2010-01-11</th>\n",
       "      <td>30.523878</td>\n",
       "      <td>30.071429</td>\n",
       "      <td>30.416122</td>\n",
       "      <td>30.260408</td>\n",
       "      <td>120970600.0</td>\n",
       "      <td>20.264270</td>\n",
       "    </tr>\n",
       "    <tr>\n",
       "      <th>2010-01-12</th>\n",
       "      <td>30.450816</td>\n",
       "      <td>29.986939</td>\n",
       "      <td>30.335714</td>\n",
       "      <td>30.198980</td>\n",
       "      <td>129615200.0</td>\n",
       "      <td>20.223133</td>\n",
       "    </tr>\n",
       "    <tr>\n",
       "      <th>2010-01-13</th>\n",
       "      <td>30.377959</td>\n",
       "      <td>29.817959</td>\n",
       "      <td>30.222245</td>\n",
       "      <td>30.130408</td>\n",
       "      <td>133621000.0</td>\n",
       "      <td>20.177213</td>\n",
       "    </tr>\n",
       "    <tr>\n",
       "      <th>2010-01-14</th>\n",
       "      <td>30.273265</td>\n",
       "      <td>29.731633</td>\n",
       "      <td>30.130612</td>\n",
       "      <td>30.029388</td>\n",
       "      <td>127584900.0</td>\n",
       "      <td>20.109564</td>\n",
       "    </tr>\n",
       "  </tbody>\n",
       "</table>\n",
       "</div>"
      ],
      "text/plain": [
       "                 High        Low       Open      Close       Volume  Adj Close\n",
       "Date                                                                          \n",
       "2009-12-31        NaN        NaN        NaN        NaN          NaN        NaN\n",
       "2010-01-04        NaN        NaN        NaN        NaN          NaN        NaN\n",
       "2010-01-05        NaN        NaN        NaN        NaN          NaN        NaN\n",
       "2010-01-06        NaN        NaN        NaN        NaN          NaN        NaN\n",
       "2010-01-07        NaN        NaN        NaN        NaN          NaN        NaN\n",
       "2010-01-08        NaN        NaN        NaN        NaN          NaN        NaN\n",
       "2010-01-11  30.523878  30.071429  30.416122  30.260408  120970600.0  20.264270\n",
       "2010-01-12  30.450816  29.986939  30.335714  30.198980  129615200.0  20.223133\n",
       "2010-01-13  30.377959  29.817959  30.222245  30.130408  133621000.0  20.177213\n",
       "2010-01-14  30.273265  29.731633  30.130612  30.029388  127584900.0  20.109564"
      ]
     },
     "execution_count": 36,
     "metadata": {},
     "output_type": "execute_result"
    }
   ],
   "source": [
    "df.rolling(7).mean().head(10) #7일치의 평균을 통해 트랜드 파악 가능"
   ]
  },
  {
   "cell_type": "code",
   "execution_count": 37,
   "metadata": {},
   "outputs": [
    {
     "data": {
      "text/plain": [
       "<AxesSubplot:xlabel='Date'>"
      ]
     },
     "execution_count": 37,
     "metadata": {},
     "output_type": "execute_result"
    },
    {
     "data": {
      "image/png": "[encoded data removed]",
      "text/plain": [
       "<Figure size 432x288 with 1 Axes>"
      ]
     },
     "metadata": {
      "needs_background": "light"
     },
     "output_type": "display_data"
    }
   ],
   "source": [
    "#종가의 30일치 트랜드 파악\n",
    "df['2018':]['Close'].plot()\n",
    "df['2018':]['Close'].rolling(window=30).mean().plot()\n",
    "# WINDOW 사이즈가 크면 클 수록 뒤로 밀려나는 형태를 보임 -> 실제 를 반영 못함"
   ]
  },
  {
   "cell_type": "code",
   "execution_count": 38,
   "metadata": {},
   "outputs": [],
   "source": [
    "# rolling 함수를 통한 새로운 column 추가\n",
    "df['close : 30 day mean'] = df['Close'].rolling(30).mean()"
   ]
  },
  {
   "cell_type": "code",
   "execution_count": 39,
   "metadata": {},
   "outputs": [
    {
     "data": {
      "text/plain": [
       "<AxesSubplot:xlabel='Date'>"
      ]
     },
     "execution_count": 39,
     "metadata": {},
     "output_type": "execute_result"
    },
    {
     "data": {
      "image/png": "[encoded data removed]",
      "text/plain": [
       "<Figure size 1080x504 with 1 Axes>"
      ]
     },
     "metadata": {
      "needs_background": "light"
     },
     "output_type": "display_data"
    }
   ],
   "source": [
    "df[['Close','close : 30 day mean']].plot(figsize=(15,7))"
   ]
  },
  {
   "cell_type": "code",
   "execution_count": 40,
   "metadata": {},
   "outputs": [
    {
     "data": {
      "text/plain": [
       "<AxesSubplot:xlabel='Date'>"
      ]
     },
     "execution_count": 40,
     "metadata": {},
     "output_type": "execute_result"
    },
    {
     "data": {
      "image/png": "[encoded data removed]",
      "text/plain": [
       "<Figure size 1080x504 with 1 Axes>"
      ]
     },
     "metadata": {
      "needs_background": "light"
     },
     "output_type": "display_data"
    }
   ],
   "source": [
    "# expanding -> window를 확장해가며 누적된 결과 반영 - 누적평균\n",
    "# [1,2,3,4,5] 가 있다면 period가 1 이면 먼저 1, 다음으로는 1,2 다음으로는 1,2,3 , ....\n",
    "df['Close'].plot(figsize=(15,7))\n",
    "df['Close'].expanding(min_periods=1).mean().plot(figsize=(15,7))"
   ]
  },
  {
   "cell_type": "markdown",
   "metadata": {},
   "source": [
    "### Bollinger Band (볼린저 밴드)"
   ]
  },
  {
   "cell_type": "code",
   "execution_count": 41,
   "metadata": {},
   "outputs": [],
   "source": [
    "# 20일치 rolling을 구한다음 + 2 std , - 2  std 와 같이 plot 하기"
   ]
  },
  {
   "cell_type": "code",
   "execution_count": 43,
   "metadata": {},
   "outputs": [],
   "source": [
    "df['Close : 20Days Mean'] = df['Close'].rolling(window=20).mean()"
   ]
  },
  {
   "cell_type": "code",
   "execution_count": 44,
   "metadata": {},
   "outputs": [],
   "source": [
    "df['Upper'] = df['Close : 20Days Mean'] + 2*df['Close'].rolling(20).std()"
   ]
  },
  {
   "cell_type": "code",
   "execution_count": 45,
   "metadata": {},
   "outputs": [],
   "source": [
    "df['Lower'] = df['Close : 20Days Mean'] - 2*df['Close'].rolling(20).std()"
   ]
  },
  {
   "cell_type": "code",
   "execution_count": 48,
   "metadata": {},
   "outputs": [
    {
     "data": {
      "text/plain": [
       "<AxesSubplot:xlabel='Date'>"
      ]
     },
     "execution_count": 48,
     "metadata": {},
     "output_type": "execute_result"
    },
    {
     "data": {
      "image/png": "[encoded data removed]",
      "text/plain": [
       "<Figure size 1080x504 with 1 Axes>"
      ]
     },
     "metadata": {
      "needs_background": "light"
     },
     "output_type": "display_data"
    }
   ],
   "source": [
    "df['2018':][['Close','Close : 20Days Mean', 'Upper','Lower']].plot(figsize=(15,7))"
   ]
  }
 ],
 "metadata": {
  "kernelspec": {
   "display_name": "Python 3",
   "language": "python",
   "name": "python3"
  },
  "language_info": {
   "codemirror_mode": {
    "name": "ipython",
    "version": 3
   },
   "file_extension": ".py",
   "mimetype": "text/x-python",
   "name": "python",
   "nbconvert_exporter": "python",
   "pygments_lexer": "ipython3",
   "version": "3.8.5"
  }
 },
 "nbformat": 4,
 "nbformat_minor": 4
}
