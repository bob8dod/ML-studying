{
  "nbformat": 4,
  "nbformat_minor": 0,
  "metadata": {
    "colab": {
      "name": "Lab01.ipynb",
      "provenance": [],
      "collapsed_sections": [],
      "authorship_tag": "ABX9TyO0S0gLa+bJf9yQq0JZc7XU",
      "include_colab_link": true
    },
    "kernelspec": {
      "name": "python3",
      "display_name": "Python 3"
    }
  },
  "cells": [
    {
      "cell_type": "markdown",
      "metadata": {
        "id": "view-in-github",
        "colab_type": "text"
      },
      "source": [
        "<a href=\"https://colab.research.google.com/github/bob8dod/ML-studying/blob/main/Lab01.ipynb\" target=\"_parent\"><img src=\"https://colab.research.google.com/assets/colab-badge.svg\" alt=\"Open In Colab\"/></a>"
      ]
    },
    {
      "cell_type": "code",
      "metadata": {
        "id": "n4hPgWUJsW-L"
      },
      "source": [
        "import tensorflow as tf"
      ],
      "execution_count": null,
      "outputs": []
    },
    {
      "cell_type": "code",
      "metadata": {
        "colab": {
          "base_uri": "https://localhost:8080/"
        },
        "id": "bKRckDcXsfA6",
        "outputId": "071286c7-5565-4ff9-cf2f-4c49c165f588"
      },
      "source": [
        "hello = tf.constant(\"Hello, TensorFlow!\")\r\n",
        "print(hello)"
      ],
      "execution_count": null,
      "outputs": [
        {
          "output_type": "stream",
          "text": [
            "tf.Tensor(b'Hello, TensorFlow!', shape=(), dtype=string)\n"
          ],
          "name": "stdout"
        }
      ]
    },
    {
      "cell_type": "code",
      "metadata": {
        "colab": {
          "base_uri": "https://localhost:8080/"
        },
        "id": "6ToK2GjIsutv",
        "outputId": "4c64bf04-09c2-49b5-e87b-78c45c698f8e"
      },
      "source": [
        "# Session 대체 코드(더하기)\r\n",
        "node1 = tf.constant(3.0, tf.float32)\r\n",
        "node2 = tf.constant(4.0) #also tf.float32 implicitly\r\n",
        "node3 = tf.add(node1,node2)\r\n",
        "\r\n",
        "tf.print(node1,node2)\r\n",
        "tf.print(node3)"
      ],
      "execution_count": null,
      "outputs": [
        {
          "output_type": "stream",
          "text": [
            "3 4\n",
            "7\n"
          ],
          "name": "stdout"
        }
      ]
    },
    {
      "cell_type": "code",
      "metadata": {
        "colab": {
          "base_uri": "https://localhost:8080/"
        },
        "id": "yBTtyg7_xPy1",
        "outputId": "3cc2136d-2927-435b-b209-750f69852610"
      },
      "source": [
        "# placeholder 대체 코드(지정되지 않은 변수 값 할당), 함수설정 or 내장함수 이용\r\n",
        "@tf.function\r\n",
        "def adder(a, b):\r\n",
        "  return a+b\r\n",
        "A = tf.constant(1)\r\n",
        "B = tf.constant(2)\r\n",
        "tf.print(adder(A,B))\r\n",
        "\r\n",
        "C = tf.constant([1,2])\r\n",
        "D = tf.constant([3,4])\r\n",
        "tf.print(adder(C,D))\r\n",
        "\r\n",
        "E = tf.constant([3,2,1])\r\n",
        "F = tf.constant([2,5,1])\r\n",
        "tf.print(tf.add(E,F))"
      ],
      "execution_count": null,
      "outputs": [
        {
          "output_type": "stream",
          "text": [
            "3\n",
            "[4 6]\n",
            "[5 7 2]\n"
          ],
          "name": "stdout"
        }
      ]
    },
    {
      "cell_type": "code",
      "metadata": {
        "id": "7uJbcz-60JZg"
      },
      "source": [
        ""
      ],
      "execution_count": null,
      "outputs": []
    }
  ]
}
