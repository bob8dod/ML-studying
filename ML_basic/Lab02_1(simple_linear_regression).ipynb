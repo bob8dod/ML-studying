{
  "nbformat": 4,
  "nbformat_minor": 0,
  "metadata": {
    "colab": {
      "name": "Lab02-1(simple linear regression).ipynb",
      "provenance": [],
      "collapsed_sections": [],
      "authorship_tag": "ABX9TyO6kkOwAEVFYwosvOKvCTGy",
      "include_colab_link": true
    },
    "kernelspec": {
      "name": "python3",
      "display_name": "Python 3"
    }
  },
  "cells": [
    {
      "cell_type": "markdown",
      "metadata": {
        "id": "view-in-github",
        "colab_type": "text"
      },
      "source": [
        "<a href=\"https://colab.research.google.com/github/bob8dod/ML-studying/blob/main/Lab02_1(simple_linear_regression).ipynb\" target=\"_parent\"><img src=\"https://colab.research.google.com/assets/colab-badge.svg\" alt=\"Open In Colab\"/></a>"
      ]
    },
    {
      "cell_type": "code",
      "metadata": {
        "id": "Cxyx5K9LnLe7"
      },
      "source": [
        "import tensorflow as tf\r\n",
        "import numpy as np"
      ],
      "execution_count": 38,
      "outputs": []
    },
    {
      "cell_type": "code",
      "metadata": {
        "id": "Mc9N-ZvgoESm"
      },
      "source": [
        "x_data = [1, 2, 3, 4, 5]\r\n",
        "y_data = [1, 2, 3, 4, 5]"
      ],
      "execution_count": 39,
      "outputs": []
    },
    {
      "cell_type": "code",
      "metadata": {
        "colab": {
          "base_uri": "https://localhost:8080/",
          "height": 288
        },
        "id": "NlO3TGSoof3p",
        "outputId": "f69e4fe8-1ba2-4f9c-ad11-1362a49045ef"
      },
      "source": [
        "import matplotlib.pyplot as plt\r\n",
        "plt.plot(x_data, y_data, 'o')\r\n",
        "plt.ylim(0, 8)"
      ],
      "execution_count": 40,
      "outputs": [
        {
          "output_type": "execute_result",
          "data": {
            "text/plain": [
              "(0.0, 8.0)"
            ]
          },
          "metadata": {
            "tags": []
          },
          "execution_count": 40
        },
        {
          "output_type": "display_data",
          "data": {
            "image/png": "[encoded data removed]",
            "text/plain": [
              "<Figure size 432x288 with 1 Axes>"
            ]
          },
          "metadata": {
            "tags": [],
            "needs_background": "light"
          }
        }
      ]
    },
    {
      "cell_type": "code",
      "metadata": {
        "id": "kFyCHypAooeU"
      },
      "source": [
        "W = tf.Variable(2.0)\r\n",
        "b = tf.Variable(0.5)\r\n",
        "\r\n",
        "hypothesis = W * x_data + b"
      ],
      "execution_count": 41,
      "outputs": []
    },
    {
      "cell_type": "code",
      "metadata": {
        "colab": {
          "base_uri": "https://localhost:8080/"
        },
        "id": "UQ-PY1Wko5nz",
        "outputId": "667d2d38-5776-45c3-9aa5-65d1b34df669"
      },
      "source": [
        "hypothesis.numpy()"
      ],
      "execution_count": 42,
      "outputs": [
        {
          "output_type": "execute_result",
          "data": {
            "text/plain": [
              "array([ 2.5,  4.5,  6.5,  8.5, 10.5], dtype=float32)"
            ]
          },
          "metadata": {
            "tags": []
          },
          "execution_count": 42
        }
      ]
    },
    {
      "cell_type": "code",
      "metadata": {
        "colab": {
          "base_uri": "https://localhost:8080/",
          "height": 269
        },
        "id": "XeEz7iRspbKb",
        "outputId": "c4c2956e-f57f-47f6-bd3a-127a7a727b2a"
      },
      "source": [
        "plt.plot(x_data, hypothesis.numpy(), 'r-')\r\n",
        "plt.plot(x_data, y_data, 'o')\r\n",
        "plt.ylim(0, 8)\r\n",
        "plt.show()"
      ],
      "execution_count": 43,
      "outputs": [
        {
          "output_type": "display_data",
          "data": {
            "image/png": "[encoded data removed]",
            "text/plain": [
              "<Figure size 432x288 with 1 Axes>"
            ]
          },
          "metadata": {
            "tags": [],
            "needs_background": "light"
          }
        }
      ]
    },
    {
      "cell_type": "code",
      "metadata": {
        "colab": {
          "base_uri": "https://localhost:8080/"
        },
        "id": "m3eFvVh7rcLL",
        "outputId": "6b3b9107-9d31-4ede-c5cd-e9ceef59aed4"
      },
      "source": [
        "for i in range(100):\r\n",
        "  with tf.GradientTape() as tape :\r\n",
        "    hypothesis = W * x_data + b\r\n",
        "    cost = tf.reduce_mean(tf.square(hypothesis - y_data))\r\n",
        "  W_grad, b_grad = tape.gradient(cost,[W,b])\r\n",
        "  learning_rate = 0.01\r\n",
        "  W.assign_sub(learning_rate * W_grad)\r\n",
        "  b.assign_sub(learning_rate * b_grad)\r\n",
        "  if i % 10 == 0:\r\n",
        "    print(\"{:5}|{:10.4f}|{:10.4f}|{:10.6f}\".format(i, W.numpy(), b.numpy(), cost))"
      ],
      "execution_count": 67,
      "outputs": [
        {
          "output_type": "stream",
          "text": [
            "    0|    1.0000|    0.0001|  0.000000\n",
            "   10|    1.0000|    0.0001|  0.000000\n",
            "   20|    1.0000|    0.0001|  0.000000\n",
            "   30|    1.0000|    0.0001|  0.000000\n",
            "   40|    1.0000|    0.0001|  0.000000\n",
            "   50|    1.0000|    0.0001|  0.000000\n",
            "   60|    1.0000|    0.0001|  0.000000\n",
            "   70|    1.0000|    0.0001|  0.000000\n",
            "   80|    1.0000|    0.0001|  0.000000\n",
            "   90|    1.0000|    0.0001|  0.000000\n"
          ],
          "name": "stdout"
        }
      ]
    },
    {
      "cell_type": "code",
      "metadata": {
        "colab": {
          "base_uri": "https://localhost:8080/",
          "height": 288
        },
        "id": "q1MEl9ystMnZ",
        "outputId": "34390d5d-feae-4954-88f7-02e4b10e3db6"
      },
      "source": [
        "plt.plot(x_data, y_data, 'o')\r\n",
        "plt.plot(x_data, hypothesis.numpy(),'r-')\r\n",
        "plt.ylim(0, 8)"
      ],
      "execution_count": 68,
      "outputs": [
        {
          "output_type": "execute_result",
          "data": {
            "text/plain": [
              "(0.0, 8.0)"
            ]
          },
          "metadata": {
            "tags": []
          },
          "execution_count": 68
        },
        {
          "output_type": "display_data",
          "data": {
            "image/png": "[encoded data removed]",
            "text/plain": [
              "<Figure size 432x288 with 1 Axes>"
            ]
          },
          "metadata": {
            "tags": [],
            "needs_background": "light"
          }
        }
      ]
    },
    {
      "cell_type": "code",
      "metadata": {
        "colab": {
          "base_uri": "https://localhost:8080/"
        },
        "id": "eByHPAr3tw_z",
        "outputId": "647aec37-1512-49db-f60a-bbc68060ae94"
      },
      "source": [
        "print(W * 5 + b)\r\n",
        "print(W * 2.5 + b)"
      ],
      "execution_count": 69,
      "outputs": [
        {
          "output_type": "stream",
          "text": [
            "tf.Tensor(4.999976, shape=(), dtype=float32)\n",
            "tf.Tensor(2.5000188, shape=(), dtype=float32)\n"
          ],
          "name": "stdout"
        }
      ]
    },
    {
      "cell_type": "markdown",
      "metadata": {
        "id": "FAEp9LD7uNsK"
      },
      "source": [
        "# ***Full Code***"
      ]
    },
    {
      "cell_type": "code",
      "metadata": {
        "colab": {
          "base_uri": "https://localhost:8080/"
        },
        "id": "9_j57_Zkt4yf",
        "outputId": "75ec8da8-4d78-4659-f8e4-e3b7c68d89a2"
      },
      "source": [
        "import tensorflow as tf\r\n",
        "import numpy as np\r\n",
        "\r\n",
        "x_data = [1, 2, 3, 4, 5]\r\n",
        "y_data = [1, 2, 3 ,4, 5]\r\n",
        "\r\n",
        "W = tf.Variable(2.9)\r\n",
        "b = tf.Variable(0.6)\r\n",
        "\r\n",
        "for i in range(100 + 1) : \r\n",
        "  with tf.GradientTape() as tape :\r\n",
        "    hypothesis = W * x_data + b\r\n",
        "    cost = tf.reduce_mean(tf.square(hypothesis - y_data))\r\n",
        "  \r\n",
        "  W_grad, b_grad = tape.gradient(cost,[W,b])\r\n",
        "  learning_rate = 0.01\r\n",
        "  W.assign_sub(learning_rate * W_grad)\r\n",
        "  b.assign_sub(learning_rate * b_grad)\r\n",
        "\r\n",
        "  if i % 10 == 0:\r\n",
        "    print(\"{:5}|{:10.4f}|{:10.4f}|{:10.6f}\".format(i, W.numpy(), b.numpy(), cost))\r\n",
        "\r\n",
        "# predict\r\n",
        "tf.print(W * 5 + b)\r\n",
        "tf.print(W * 2.5 + b)"
      ],
      "execution_count": 83,
      "outputs": [
        {
          "output_type": "stream",
          "text": [
            "    0|    2.4460|    0.4740| 46.910011\n",
            "   10|    1.0802|    0.0932|  0.212675\n",
            "   20|    0.9890|    0.0656|  0.001702\n",
            "   30|    0.9834|    0.0618|  0.000701\n",
            "   40|    0.9835|    0.0596|  0.000651\n",
            "   50|    0.9840|    0.0576|  0.000608\n",
            "   60|    0.9846|    0.0557|  0.000568\n",
            "   70|    0.9851|    0.0538|  0.000531\n",
            "   80|    0.9856|    0.0520|  0.000496\n",
            "   90|    0.9861|    0.0503|  0.000464\n",
            "  100|    0.9865|    0.0486|  0.000434\n",
            "4.98127794\n",
            "2.51495862\n"
          ],
          "name": "stdout"
        }
      ]
    },
    {
      "cell_type": "code",
      "metadata": {
        "id": "0AoyO6K0v1xv"
      },
      "source": [
        ""
      ],
      "execution_count": null,
      "outputs": []
    }
  ]
}
