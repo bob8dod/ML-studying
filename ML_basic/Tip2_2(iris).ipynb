{
  "nbformat": 4,
  "nbformat_minor": 0,
  "metadata": {
    "colab": {
      "name": "Tip2_2(iris).ipynb",
      "provenance": [],
      "collapsed_sections": [],
      "authorship_tag": "ABX9TyP8kzr0ciJgTjfGABn+lP6V",
      "include_colab_link": true
    },
    "kernelspec": {
      "name": "python3",
      "display_name": "Python 3"
    }
  },
  "cells": [
    {
      "cell_type": "markdown",
      "metadata": {
        "id": "view-in-github",
        "colab_type": "text"
      },
      "source": [
        "<a href=\"https://colab.research.google.com/github/bob8dod/ML-studying/blob/main/Tip2_2(iris).ipynb\" target=\"_parent\"><img src=\"https://colab.research.google.com/assets/colab-badge.svg\" alt=\"Open In Colab\"/></a>"
      ]
    },
    {
      "cell_type": "code",
      "metadata": {
        "id": "V28laYCPW_Vi"
      },
      "source": [
        "# 라이브러리 사용\r\n",
        "import tensorflow as tf\r\n",
        "import pandas as pd"
      ],
      "execution_count": 1,
      "outputs": []
    },
    {
      "cell_type": "code",
      "metadata": {
        "id": "rTYO-pBvXFSZ"
      },
      "source": [
        "# 데이터 준비\r\n",
        "파일경로 = 'https://raw.githubusercontent.com/blackdew/tensorflow1/master/csv/iris.csv'\r\n",
        "아이리스 = pd.read_csv(파일경로)"
      ],
      "execution_count": 2,
      "outputs": []
    },
    {
      "cell_type": "code",
      "metadata": {
        "colab": {
          "base_uri": "https://localhost:8080/"
        },
        "id": "oLIpLhiyXXxp",
        "outputId": "2b8a4d0e-e42c-409c-8e52-8225e52bd097"
      },
      "source": [
        "# 원핫인코딩\r\n",
        "아이리스 = pd.get_dummies(아이리스)\r\n",
        "print(아이리스.columns)"
      ],
      "execution_count": 3,
      "outputs": [
        {
          "output_type": "stream",
          "text": [
            "Index(['꽃잎길이', '꽃잎폭', '꽃받침길이', '꽃받침폭', '품종_setosa', '품종_versicolor',\n",
            "       '품종_virginica'],\n",
            "      dtype='object')\n"
          ],
          "name": "stdout"
        }
      ]
    },
    {
      "cell_type": "code",
      "metadata": {
        "colab": {
          "base_uri": "https://localhost:8080/"
        },
        "id": "_ExwOeYpXjX7",
        "outputId": "bcc50bfa-5101-4982-fd5b-702047dc08ff"
      },
      "source": [
        "# 독립변수, 종속변수 설정\r\n",
        "독립 = 아이리스[['꽃잎길이', '꽃잎폭', '꽃받침길이', '꽃받침폭']]\r\n",
        "종속 = 아이리스[['품종_setosa', '품종_versicolor','품종_virginica']]\r\n",
        "print(독립.shape, 종속.shape)"
      ],
      "execution_count": 4,
      "outputs": [
        {
          "output_type": "stream",
          "text": [
            "(150, 4) (150, 3)\n"
          ],
          "name": "stdout"
        }
      ]
    },
    {
      "cell_type": "code",
      "metadata": {
        "id": "cGMOmzVYX02D"
      },
      "source": [
        "# 모델 구조 구축\r\n",
        "X = tf.keras.layers.Input(shape=[4])\r\n",
        "\r\n",
        "H = tf.keras.layers.Dense(8)(X)\r\n",
        "H = tf.keras.layers.BatchNormalization()(H)\r\n",
        "H = tf.keras.layers.Activation('swish')(H)\r\n",
        "\r\n",
        "H = tf.keras.layers.Dense(8)(H)\r\n",
        "H = tf.keras.layers.BatchNormalization()(H)\r\n",
        "H = tf.keras.layers.Activation('swish')(H)\r\n",
        "\r\n",
        "H = tf.keras.layers.Dense(8)(H)\r\n",
        "H = tf.keras.layers.BatchNormalization()(H)\r\n",
        "H = tf.keras.layers.Activation('swish')(H)\r\n",
        "\r\n",
        "Y = tf.keras.layers.Dense(3, activation='softmax')(H)\r\n",
        "\r\n",
        "model = tf.keras.models.Model(X, Y)\r\n",
        "model.compile(loss='categorical_crossentropy',metrics='accuracy')"
      ],
      "execution_count": 9,
      "outputs": []
    },
    {
      "cell_type": "code",
      "metadata": {
        "colab": {
          "base_uri": "https://localhost:8080/"
        },
        "id": "4b1BImg0YpF-",
        "outputId": "7cd1736b-ca4f-4180-e948-18b582d9aaa2"
      },
      "source": [
        "# 데이터를 통한 모델 학습\r\n",
        "model.fit(독립, 종속, epochs=1000, verbose=0)\r\n",
        "model.fit(독립, 종속, epochs=10)"
      ],
      "execution_count": 12,
      "outputs": [
        {
          "output_type": "stream",
          "text": [
            "Epoch 1/10\n",
            "5/5 [==============================] - 0s 4ms/step - loss: 0.0432 - accuracy: 0.9867\n",
            "Epoch 2/10\n",
            "5/5 [==============================] - 0s 3ms/step - loss: 0.0255 - accuracy: 0.9867\n",
            "Epoch 3/10\n",
            "5/5 [==============================] - 0s 3ms/step - loss: 0.0459 - accuracy: 0.9800\n",
            "Epoch 4/10\n",
            "5/5 [==============================] - 0s 3ms/step - loss: 0.0214 - accuracy: 0.9933\n",
            "Epoch 5/10\n",
            "5/5 [==============================] - 0s 2ms/step - loss: 0.0179 - accuracy: 0.9933\n",
            "Epoch 6/10\n",
            "5/5 [==============================] - 0s 2ms/step - loss: 0.0175 - accuracy: 0.9933\n",
            "Epoch 7/10\n",
            "5/5 [==============================] - 0s 3ms/step - loss: 0.0139 - accuracy: 1.0000\n",
            "Epoch 8/10\n",
            "5/5 [==============================] - 0s 3ms/step - loss: 0.0654 - accuracy: 0.9733\n",
            "Epoch 9/10\n",
            "5/5 [==============================] - 0s 3ms/step - loss: 0.0173 - accuracy: 0.9933\n",
            "Epoch 10/10\n",
            "5/5 [==============================] - 0s 3ms/step - loss: 0.0129 - accuracy: 0.9933\n"
          ],
          "name": "stdout"
        },
        {
          "output_type": "execute_result",
          "data": {
            "text/plain": [
              "<tensorflow.python.keras.callbacks.History at 0x7f8f1e58c7b8>"
            ]
          },
          "metadata": {
            "tags": []
          },
          "execution_count": 12
        }
      ]
    },
    {
      "cell_type": "code",
      "metadata": {
        "id": "6CWA0_9TY4BL"
      },
      "source": [
        ""
      ],
      "execution_count": null,
      "outputs": []
    }
  ]
}
