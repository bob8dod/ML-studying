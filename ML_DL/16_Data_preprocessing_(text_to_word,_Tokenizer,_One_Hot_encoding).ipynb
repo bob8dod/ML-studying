{
  "nbformat": 4,
  "nbformat_minor": 0,
  "metadata": {
    "colab": {
      "name": "16_Data_preprocessing_(text_to_word, Tokenizer, One-Hot encoding).ipynb",
      "provenance": [],
      "collapsed_sections": [],
      "authorship_tag": "ABX9TyMe6J9OzrIM4bRICFLC9iYC",
      "include_colab_link": true
    },
    "kernelspec": {
      "name": "python3",
      "display_name": "Python 3"
    },
    "language_info": {
      "name": "python"
    }
  },
  "cells": [
    {
      "cell_type": "markdown",
      "metadata": {
        "id": "view-in-github",
        "colab_type": "text"
      },
      "source": [
        "<a href=\"https://colab.research.google.com/github/bob8dod/ML-studying/blob/main/ML_DL/16_Data_preprocessing_(text_to_word%2C_Tokenizer%2C_One_Hot_encoding).ipynb\" target=\"_parent\"><img src=\"https://colab.research.google.com/assets/colab-badge.svg\" alt=\"Open In Colab\"/></a>"
      ]
    },
    {
      "cell_type": "code",
      "metadata": {
        "id": "QAQYiCkGTFuj"
      },
      "source": [
        "from tensorflow.keras.preprocessing.text import text_to_word_sequence \n",
        "from tensorflow.keras.preprocessing.text import Tokenizer\n",
        "from tensorflow.keras.utils import to_categorical"
      ],
      "execution_count": null,
      "outputs": []
    },
    {
      "cell_type": "code",
      "metadata": {
        "colab": {
          "base_uri": "https://localhost:8080/"
        },
        "id": "sjf75mZ5V09b",
        "outputId": "2bbd8544-d236-45cd-c7a1-88526dd7bf0f"
      },
      "source": [
        "#Text to Word _ Tokenization\n",
        "text = 'We have to do someting to succeed'\n",
        "words = text_to_word_sequence(text) #Using text_to_word_sequence method\n",
        "print('Text: ',text)\n",
        "print('Words: ',words)"
      ],
      "execution_count": null,
      "outputs": [
        {
          "output_type": "stream",
          "text": [
            "Text:  We have to do someting to succeed\n",
            "Words:  ['we', 'have', 'to', 'do', 'someting', 'to', 'succeed']\n"
          ],
          "name": "stdout"
        }
      ]
    },
    {
      "cell_type": "code",
      "metadata": {
        "colab": {
          "base_uri": "https://localhost:8080/"
        },
        "id": "ykc9OV1_Wdb9",
        "outputId": "51177635-e2a5-4776-b12d-a1fc243729a6"
      },
      "source": [
        "#Using Tokenizer() to Tokenization\n",
        "docs = ['We have to do someting to succeed',\n",
        "        'I am so nervous because of my future',\n",
        "        'What should I do for my future']\n",
        "token = Tokenizer() #activate Tokenizer function\n",
        "token.fit_on_texts(docs) #upply to docs _ text to word\n",
        "\n",
        "print(\"\\nWord Count:\\n\", token.word_counts)\n",
        "print(\"\\nText Count:\\n\", token.document_count)\n",
        "print(\"\\nWord in docs:\\n\", token.word_docs) #How many sentences do each word appear in\n",
        "print(\"\\nWord index:\\n\", token.word_index) #Descending order according to frequency"
      ],
      "execution_count": null,
      "outputs": [
        {
          "output_type": "stream",
          "text": [
            "\n",
            "Word Count:\n",
            " OrderedDict([('we', 1), ('have', 1), ('to', 2), ('do', 2), ('someting', 1), ('succeed', 1), ('i', 2), ('am', 1), ('so', 1), ('nervous', 1), ('because', 1), ('of', 1), ('my', 2), ('future', 2), ('what', 1), ('should', 1), ('for', 1)])\n",
            "\n",
            "Text Count:\n",
            " 3\n",
            "\n",
            "Word in docs:\n",
            " defaultdict(<class 'int'>, {'to': 1, 'succeed': 1, 'have': 1, 'do': 2, 'we': 1, 'someting': 1, 'my': 2, 'of': 1, 'i': 2, 'future': 2, 'so': 1, 'am': 1, 'because': 1, 'nervous': 1, 'for': 1, 'what': 1, 'should': 1})\n",
            "\n",
            "Word index:\n",
            " {'to': 1, 'do': 2, 'i': 3, 'my': 4, 'future': 5, 'we': 6, 'have': 7, 'someting': 8, 'succeed': 9, 'am': 10, 'so': 11, 'nervous': 12, 'because': 13, 'of': 14, 'what': 15, 'should': 16, 'for': 17}\n"
          ],
          "name": "stdout"
        }
      ]
    },
    {
      "cell_type": "code",
      "metadata": {
        "colab": {
          "base_uri": "https://localhost:8080/"
        },
        "id": "5zzC_1XSXf6f",
        "outputId": "b68d614f-5be9-4def-d34b-45aae40267ef"
      },
      "source": [
        "#One-Hot encoding\n",
        "text1 = 'whatelse you do, its special and valuable'\n",
        "token = Tokenizer() #activate Tokenizer function\n",
        "token.fit_on_texts([text1]) #apply on text1, have to set \"list\"!\n",
        "print(token.word_index) #check data\n",
        "\n",
        "x = token.texts_to_sequences([text1]) #Create a new array filled with only the index of the token\n",
        "print(x)\n",
        "word_len = len(token.word_index) + 1 # 'x' has a 0 index(hidden), so we have to add 1 for length, =8\n",
        "x_encoded = to_categorical(x,word_len) #One-Hot encoding, word_len = 8\n",
        "print(x_encoded)"
      ],
      "execution_count": null,
      "outputs": [
        {
          "output_type": "stream",
          "text": [
            "{'whatelse': 1, 'you': 2, 'do': 3, 'its': 4, 'special': 5, 'and': 6, 'valuable': 7}\n",
            "[[1, 2, 3, 4, 5, 6, 7]]\n",
            "[[[0. 1. 0. 0. 0. 0. 0. 0.]\n",
            "  [0. 0. 1. 0. 0. 0. 0. 0.]\n",
            "  [0. 0. 0. 1. 0. 0. 0. 0.]\n",
            "  [0. 0. 0. 0. 1. 0. 0. 0.]\n",
            "  [0. 0. 0. 0. 0. 1. 0. 0.]\n",
            "  [0. 0. 0. 0. 0. 0. 1. 0.]\n",
            "  [0. 0. 0. 0. 0. 0. 0. 1.]]]\n"
          ],
          "name": "stdout"
        }
      ]
    },
    {
      "cell_type": "code",
      "metadata": {
        "id": "chTK5H1OZf5R"
      },
      "source": [
        ""
      ],
      "execution_count": null,
      "outputs": []
    }
  ]
}