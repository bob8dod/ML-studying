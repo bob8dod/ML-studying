{
  "nbformat": 4,
  "nbformat_minor": 0,
  "metadata": {
    "kernelspec": {
      "display_name": "Python 3",
      "language": "python",
      "name": "python3"
    },
    "language_info": {
      "codemirror_mode": {
        "name": "ipython",
        "version": 3
      },
      "file_extension": ".py",
      "mimetype": "text/x-python",
      "name": "python",
      "nbconvert_exporter": "python",
      "pygments_lexer": "ipython3",
      "version": "3.8.5"
    },
    "colab": {
      "name": "07_DL_Model_(binary_classification).ipynb",
      "provenance": [],
      "include_colab_link": true
    }
  },
  "cells": [
    {
      "cell_type": "markdown",
      "metadata": {
        "id": "view-in-github",
        "colab_type": "text"
      },
      "source": [
        "<a href=\"https://colab.research.google.com/github/bob8dod/ML-studying/blob/main/ML_DL/07_DL_Model_(binary_classification).ipynb\" target=\"_parent\"><img src=\"https://colab.research.google.com/assets/colab-badge.svg\" alt=\"Open In Colab\"/></a>"
      ]
    },
    {
      "cell_type": "code",
      "metadata": {
        "id": "Hbj-mGGlNQQJ"
      },
      "source": [
        "#Using Package\n",
        "from tensorflow.keras.models import Sequential\n",
        "from tensorflow.keras.layers import Dense\n",
        "import tensorflow as tf\n",
        "import numpy as np\n",
        "import pandas as pd"
      ],
      "execution_count": null,
      "outputs": []
    },
    {
      "cell_type": "code",
      "metadata": {
        "id": "337_QzqbNQQc"
      },
      "source": [
        "#Setting random seed\n",
        "np.random.seed(3)\n",
        "tf.random.set_seed(3)"
      ],
      "execution_count": null,
      "outputs": []
    },
    {
      "cell_type": "code",
      "metadata": {
        "id": "YnWG0vDzNQQe",
        "outputId": "d8112481-c29f-4570-b2ee-22825a39193f"
      },
      "source": [
        "#Data Preprocessing\n",
        "df = pd.read_csv(\"./dataset/ThoraricSurgery.csv\") #Using Pandas instead of Numpy\n",
        "df.head() #For checking data(Output_ 0 or 1)"
      ],
      "execution_count": null,
      "outputs": [
        {
          "output_type": "execute_result",
          "data": {
            "text/html": [
              "<div>\n",
              "<style scoped>\n",
              "    .dataframe tbody tr th:only-of-type {\n",
              "        vertical-align: middle;\n",
              "    }\n",
              "\n",
              "    .dataframe tbody tr th {\n",
              "        vertical-align: top;\n",
              "    }\n",
              "\n",
              "    .dataframe thead th {\n",
              "        text-align: right;\n",
              "    }\n",
              "</style>\n",
              "<table border=\"1\" class=\"dataframe\">\n",
              "  <thead>\n",
              "    <tr style=\"text-align: right;\">\n",
              "      <th></th>\n",
              "      <th>293</th>\n",
              "      <th>1</th>\n",
              "      <th>3.8</th>\n",
              "      <th>2.8</th>\n",
              "      <th>0</th>\n",
              "      <th>0.1</th>\n",
              "      <th>0.2</th>\n",
              "      <th>0.3</th>\n",
              "      <th>0.4</th>\n",
              "      <th>0.5</th>\n",
              "      <th>12</th>\n",
              "      <th>0.6</th>\n",
              "      <th>0.7</th>\n",
              "      <th>0.8</th>\n",
              "      <th>1.1</th>\n",
              "      <th>0.9</th>\n",
              "      <th>62</th>\n",
              "      <th>0.10</th>\n",
              "    </tr>\n",
              "  </thead>\n",
              "  <tbody>\n",
              "    <tr>\n",
              "      <th>0</th>\n",
              "      <td>1</td>\n",
              "      <td>2</td>\n",
              "      <td>2.88</td>\n",
              "      <td>2.16</td>\n",
              "      <td>1</td>\n",
              "      <td>0</td>\n",
              "      <td>0</td>\n",
              "      <td>0</td>\n",
              "      <td>1</td>\n",
              "      <td>1</td>\n",
              "      <td>14</td>\n",
              "      <td>0</td>\n",
              "      <td>0</td>\n",
              "      <td>0</td>\n",
              "      <td>1</td>\n",
              "      <td>0</td>\n",
              "      <td>60</td>\n",
              "      <td>0</td>\n",
              "    </tr>\n",
              "    <tr>\n",
              "      <th>1</th>\n",
              "      <td>8</td>\n",
              "      <td>2</td>\n",
              "      <td>3.19</td>\n",
              "      <td>2.50</td>\n",
              "      <td>1</td>\n",
              "      <td>0</td>\n",
              "      <td>0</td>\n",
              "      <td>0</td>\n",
              "      <td>1</td>\n",
              "      <td>0</td>\n",
              "      <td>11</td>\n",
              "      <td>0</td>\n",
              "      <td>0</td>\n",
              "      <td>1</td>\n",
              "      <td>1</td>\n",
              "      <td>0</td>\n",
              "      <td>66</td>\n",
              "      <td>1</td>\n",
              "    </tr>\n",
              "    <tr>\n",
              "      <th>2</th>\n",
              "      <td>14</td>\n",
              "      <td>2</td>\n",
              "      <td>3.98</td>\n",
              "      <td>3.06</td>\n",
              "      <td>2</td>\n",
              "      <td>0</td>\n",
              "      <td>0</td>\n",
              "      <td>0</td>\n",
              "      <td>1</td>\n",
              "      <td>1</td>\n",
              "      <td>14</td>\n",
              "      <td>0</td>\n",
              "      <td>0</td>\n",
              "      <td>0</td>\n",
              "      <td>1</td>\n",
              "      <td>0</td>\n",
              "      <td>80</td>\n",
              "      <td>1</td>\n",
              "    </tr>\n",
              "    <tr>\n",
              "      <th>3</th>\n",
              "      <td>17</td>\n",
              "      <td>2</td>\n",
              "      <td>2.21</td>\n",
              "      <td>1.88</td>\n",
              "      <td>0</td>\n",
              "      <td>0</td>\n",
              "      <td>1</td>\n",
              "      <td>0</td>\n",
              "      <td>0</td>\n",
              "      <td>0</td>\n",
              "      <td>12</td>\n",
              "      <td>0</td>\n",
              "      <td>0</td>\n",
              "      <td>0</td>\n",
              "      <td>1</td>\n",
              "      <td>0</td>\n",
              "      <td>56</td>\n",
              "      <td>0</td>\n",
              "    </tr>\n",
              "    <tr>\n",
              "      <th>4</th>\n",
              "      <td>18</td>\n",
              "      <td>2</td>\n",
              "      <td>2.96</td>\n",
              "      <td>1.67</td>\n",
              "      <td>0</td>\n",
              "      <td>0</td>\n",
              "      <td>0</td>\n",
              "      <td>0</td>\n",
              "      <td>0</td>\n",
              "      <td>0</td>\n",
              "      <td>12</td>\n",
              "      <td>0</td>\n",
              "      <td>0</td>\n",
              "      <td>0</td>\n",
              "      <td>1</td>\n",
              "      <td>0</td>\n",
              "      <td>61</td>\n",
              "      <td>0</td>\n",
              "    </tr>\n",
              "  </tbody>\n",
              "</table>\n",
              "</div>"
            ],
            "text/plain": [
              "   293  1   3.8   2.8  0  0.1  0.2  0.3  0.4  0.5  12  0.6  0.7  0.8  1.1  \\\n",
              "0    1  2  2.88  2.16  1    0    0    0    1    1  14    0    0    0    1   \n",
              "1    8  2  3.19  2.50  1    0    0    0    1    0  11    0    0    1    1   \n",
              "2   14  2  3.98  3.06  2    0    0    0    1    1  14    0    0    0    1   \n",
              "3   17  2  2.21  1.88  0    0    1    0    0    0  12    0    0    0    1   \n",
              "4   18  2  2.96  1.67  0    0    0    0    0    0  12    0    0    0    1   \n",
              "\n",
              "   0.9  62  0.10  \n",
              "0    0  60     0  \n",
              "1    0  66     1  \n",
              "2    0  80     1  \n",
              "3    0  56     0  \n",
              "4    0  61     0  "
            ]
          },
          "metadata": {
            "tags": []
          },
          "execution_count": 3
        }
      ]
    },
    {
      "cell_type": "code",
      "metadata": {
        "id": "j-0E0wr-NQQh",
        "outputId": "3678d1da-c369-410b-8bdd-c0a8d04e6306"
      },
      "source": [
        "df.info() #For checking index of input and output"
      ],
      "execution_count": null,
      "outputs": [
        {
          "output_type": "stream",
          "text": [
            "<class 'pandas.core.frame.DataFrame'>\n",
            "RangeIndex: 469 entries, 0 to 468\n",
            "Data columns (total 18 columns):\n",
            " #   Column  Non-Null Count  Dtype  \n",
            "---  ------  --------------  -----  \n",
            " 0   293     469 non-null    int64  \n",
            " 1   1       469 non-null    int64  \n",
            " 2   3.8     469 non-null    float64\n",
            " 3   2.8     469 non-null    float64\n",
            " 4   0       469 non-null    int64  \n",
            " 5   0.1     469 non-null    int64  \n",
            " 6   0.2     469 non-null    int64  \n",
            " 7   0.3     469 non-null    int64  \n",
            " 8   0.4     469 non-null    int64  \n",
            " 9   0.5     469 non-null    int64  \n",
            " 10  12      469 non-null    int64  \n",
            " 11  0.6     469 non-null    int64  \n",
            " 12  0.7     469 non-null    int64  \n",
            " 13  0.8     469 non-null    int64  \n",
            " 14  1.1     469 non-null    int64  \n",
            " 15  0.9     469 non-null    int64  \n",
            " 16  62      469 non-null    int64  \n",
            " 17  0.10    469 non-null    int64  \n",
            "dtypes: float64(2), int64(16)\n",
            "memory usage: 66.1 KB\n"
          ],
          "name": "stdout"
        }
      ]
    },
    {
      "cell_type": "code",
      "metadata": {
        "id": "Z4X96GnQNQQj"
      },
      "source": [
        "#Classification Data _ X(input),Y(output)\n",
        "dataset = df.values #Take a Value of Data\n",
        "X = dataset[:,0:17].astype('float64') #classification\n",
        "Y = dataset[:,17].astype('int64') #classification"
      ],
      "execution_count": null,
      "outputs": []
    },
    {
      "cell_type": "code",
      "metadata": {
        "id": "2txA12QqNQQk",
        "outputId": "0544fa73-99f0-4279-a869-fa81be3166e8"
      },
      "source": [
        "print(X,Y,sep='\\n') #Checking X,Y"
      ],
      "execution_count": null,
      "outputs": [
        {
          "output_type": "stream",
          "text": [
            "[[  1.     2.     2.88 ...   1.     0.    60.  ]\n",
            " [  8.     2.     3.19 ...   1.     0.    66.  ]\n",
            " [ 14.     2.     3.98 ...   1.     0.    80.  ]\n",
            " ...\n",
            " [406.     6.     5.36 ...   0.     0.    62.  ]\n",
            " [ 25.     8.     4.32 ...   0.     0.    58.  ]\n",
            " [447.     8.     5.2  ...   0.     0.    49.  ]]\n",
            "[0 1 1 0 0 0 1 0 0 0 0 0 0 1 0 0 0 0 0 0 0 0 0 0 0 1 0 0 1 1 0 0 0 0 0 1 0\n",
            " 0 1 0 0 0 1 0 1 0 0 1 0 0 0 0 0 0 0 1 0 1 0 0 0 0 0 0 0 0 0 0 0 0 0 1 0 1\n",
            " 0 0 0 0 0 0 0 0 0 0 0 1 0 0 0 0 0 0 0 1 0 1 0 0 0 0 0 0 0 0 0 0 0 1 0 1 0\n",
            " 0 0 0 0 0 0 0 0 0 0 0 1 0 0 0 0 1 0 0 0 0 0 0 0 0 0 0 0 0 0 0 0 0 0 0 1 0\n",
            " 0 0 0 1 0 0 0 0 0 0 0 0 0 0 1 1 0 0 0 0 0 0 0 0 0 0 0 0 0 1 0 1 0 1 0 0 0\n",
            " 0 0 0 0 0 0 0 0 0 1 0 0 1 1 0 0 0 0 0 0 0 0 0 0 1 0 1 0 0 0 0 0 0 0 0 1 0\n",
            " 1 0 0 0 0 0 0 0 1 0 0 0 0 0 0 0 0 1 0 0 0 0 0 0 0 0 1 0 0 0 0 0 0 1 0 1 0\n",
            " 0 0 0 0 0 0 0 0 0 0 0 0 0 0 0 0 0 1 1 0 0 0 0 1 0 0 1 0 0 0 0 1 0 0 0 0 0\n",
            " 0 1 0 0 0 0 0 0 0 0 0 0 1 0 0 0 0 1 0 0 0 0 0 0 1 0 0 0 1 0 0 0 0 0 0 0 0\n",
            " 0 0 0 0 0 0 0 0 0 0 0 1 0 0 0 0 0 0 0 0 0 0 0 0 0 0 0 0 0 0 0 0 0 0 1 0 0\n",
            " 0 0 0 0 0 0 0 0 0 0 0 0 0 0 0 1 0 0 0 0 0 0 0 0 0 0 0 0 0 0 0 0 0 0 0 1 0\n",
            " 0 1 0 1 0 0 0 1 1 0 0 0 0 0 0 0 0 0 0 0 0 0 0 0 0 0 0 0 0 0 0 0 0 0 0 1 0\n",
            " 0 0 0 1 0 0 1 1 0 0 1 1 0 1 0 0 1 1 0 0 0 0 0 1 0]\n"
          ],
          "name": "stdout"
        }
      ]
    },
    {
      "cell_type": "code",
      "metadata": {
        "id": "1yNBNgewNQQl"
      },
      "source": [
        "#Make Model\n",
        "model = Sequential() #make model\n",
        "model.add(Dense(30,input_dim=17,activation='relu')) #input,hidden layer _ layer1, using relu\n",
        "model.add(Dense(1,activation='sigmoid')) #output layer _ layer2, using sigmoid for output"
      ],
      "execution_count": null,
      "outputs": []
    },
    {
      "cell_type": "code",
      "metadata": {
        "id": "28MfvtbRNQQn"
      },
      "source": [
        "#Setting Model\n",
        "model.compile(loss='binary_crossentropy', optimizer='adam', metrics=['accuracy']) #binary classfication, AdamOptimzier"
      ],
      "execution_count": null,
      "outputs": []
    },
    {
      "cell_type": "code",
      "metadata": {
        "id": "Zbxv_R3INQQp",
        "outputId": "f7c2a715-d851-4581-ade8-b745a51730c9"
      },
      "source": [
        "#Operating Model\n",
        "model.fit(X,Y,epochs=100,batch_size=10) #100 epochs, 10 batch size"
      ],
      "execution_count": null,
      "outputs": [
        {
          "output_type": "stream",
          "text": [
            "Epoch 1/100\n",
            "47/47 [==============================] - 1s 2ms/step - loss: 1.1249 - accuracy: 0.7725\n",
            "Epoch 2/100\n",
            "47/47 [==============================] - 0s 2ms/step - loss: 0.4908 - accuracy: 0.8329\n",
            "Epoch 3/100\n",
            "47/47 [==============================] - 0s 1ms/step - loss: 0.5190 - accuracy: 0.8254\n",
            "Epoch 4/100\n",
            "47/47 [==============================] - 0s 1ms/step - loss: 0.5072 - accuracy: 0.8185\n",
            "Epoch 5/100\n",
            "47/47 [==============================] - 0s 1ms/step - loss: 0.4315 - accuracy: 0.8549\n",
            "Epoch 6/100\n",
            "47/47 [==============================] - 0s 1ms/step - loss: 0.4747 - accuracy: 0.8303\n",
            "Epoch 7/100\n",
            "47/47 [==============================] - 0s 2ms/step - loss: 0.4623 - accuracy: 0.8434\n",
            "Epoch 8/100\n",
            "47/47 [==============================] - 0s 1ms/step - loss: 0.4628 - accuracy: 0.8453\n",
            "Epoch 9/100\n",
            "47/47 [==============================] - 0s 1ms/step - loss: 0.4376 - accuracy: 0.8535\n",
            "Epoch 10/100\n",
            "47/47 [==============================] - 0s 1ms/step - loss: 0.3988 - accuracy: 0.8692\n",
            "Epoch 11/100\n",
            "47/47 [==============================] - 0s 1ms/step - loss: 0.5316 - accuracy: 0.8333\n",
            "Epoch 12/100\n",
            "47/47 [==============================] - 0s 1ms/step - loss: 0.4648 - accuracy: 0.8357\n",
            "Epoch 13/100\n",
            "47/47 [==============================] - 0s 1ms/step - loss: 0.4496 - accuracy: 0.8554\n",
            "Epoch 14/100\n",
            "47/47 [==============================] - 0s 1ms/step - loss: 0.4411 - accuracy: 0.8458\n",
            "Epoch 15/100\n",
            "47/47 [==============================] - 0s 1ms/step - loss: 0.4281 - accuracy: 0.8620\n",
            "Epoch 16/100\n",
            "47/47 [==============================] - 0s 1ms/step - loss: 0.3986 - accuracy: 0.8545\n",
            "Epoch 17/100\n",
            "47/47 [==============================] - 0s 1ms/step - loss: 0.4310 - accuracy: 0.8447\n",
            "Epoch 18/100\n",
            "47/47 [==============================] - 0s 1ms/step - loss: 0.4280 - accuracy: 0.8512\n",
            "Epoch 19/100\n",
            "47/47 [==============================] - 0s 1ms/step - loss: 0.4371 - accuracy: 0.8613\n",
            "Epoch 20/100\n",
            "47/47 [==============================] - 0s 2ms/step - loss: 0.3700 - accuracy: 0.8874\n",
            "Epoch 21/100\n",
            "47/47 [==============================] - 0s 2ms/step - loss: 0.4710 - accuracy: 0.8272\n",
            "Epoch 22/100\n",
            "47/47 [==============================] - 0s 2ms/step - loss: 0.4384 - accuracy: 0.8546\n",
            "Epoch 23/100\n",
            "47/47 [==============================] - 0s 1ms/step - loss: 0.3904 - accuracy: 0.8527\n",
            "Epoch 24/100\n",
            "47/47 [==============================] - 0s 1ms/step - loss: 0.4499 - accuracy: 0.8475\n",
            "Epoch 25/100\n",
            "47/47 [==============================] - 0s 1ms/step - loss: 0.4097 - accuracy: 0.8656\n",
            "Epoch 26/100\n",
            "47/47 [==============================] - 0s 1ms/step - loss: 0.4376 - accuracy: 0.8358\n",
            "Epoch 27/100\n",
            "47/47 [==============================] - 0s 1ms/step - loss: 0.4483 - accuracy: 0.8271\n",
            "Epoch 28/100\n",
            "47/47 [==============================] - 0s 1ms/step - loss: 0.4443 - accuracy: 0.8507\n",
            "Epoch 29/100\n",
            "47/47 [==============================] - 0s 1ms/step - loss: 0.5126 - accuracy: 0.8080\n",
            "Epoch 30/100\n",
            "47/47 [==============================] - 0s 1ms/step - loss: 0.4347 - accuracy: 0.8515\n",
            "Epoch 31/100\n",
            "47/47 [==============================] - 0s 1ms/step - loss: 0.4336 - accuracy: 0.8564\n",
            "Epoch 32/100\n",
            "47/47 [==============================] - 0s 2ms/step - loss: 0.4078 - accuracy: 0.8503\n",
            "Epoch 33/100\n",
            "47/47 [==============================] - 0s 2ms/step - loss: 0.4427 - accuracy: 0.8732\n",
            "Epoch 34/100\n",
            "47/47 [==============================] - 0s 2ms/step - loss: 0.4005 - accuracy: 0.8571\n",
            "Epoch 35/100\n",
            "47/47 [==============================] - 0s 1ms/step - loss: 0.4530 - accuracy: 0.8384\n",
            "Epoch 36/100\n",
            "47/47 [==============================] - 0s 1ms/step - loss: 0.3910 - accuracy: 0.8536\n",
            "Epoch 37/100\n",
            "47/47 [==============================] - 0s 2ms/step - loss: 0.4064 - accuracy: 0.8622\n",
            "Epoch 38/100\n",
            "47/47 [==============================] - 0s 2ms/step - loss: 0.4930 - accuracy: 0.8195\n",
            "Epoch 39/100\n",
            "47/47 [==============================] - 0s 1ms/step - loss: 0.4220 - accuracy: 0.8348\n",
            "Epoch 40/100\n",
            "47/47 [==============================] - 0s 1ms/step - loss: 0.4255 - accuracy: 0.8510\n",
            "Epoch 41/100\n",
            "47/47 [==============================] - 0s 1ms/step - loss: 0.3905 - accuracy: 0.8567\n",
            "Epoch 42/100\n",
            "47/47 [==============================] - 0s 2ms/step - loss: 0.4240 - accuracy: 0.8395\n",
            "Epoch 43/100\n",
            "47/47 [==============================] - 0s 2ms/step - loss: 0.3375 - accuracy: 0.8849\n",
            "Epoch 44/100\n",
            "47/47 [==============================] - 0s 1ms/step - loss: 0.4254 - accuracy: 0.8444\n",
            "Epoch 45/100\n",
            "47/47 [==============================] - 0s 1ms/step - loss: 0.3623 - accuracy: 0.8785\n",
            "Epoch 46/100\n",
            "47/47 [==============================] - 0s 1ms/step - loss: 0.4310 - accuracy: 0.8475\n",
            "Epoch 47/100\n",
            "47/47 [==============================] - 0s 1ms/step - loss: 0.3789 - accuracy: 0.8704\n",
            "Epoch 48/100\n",
            "47/47 [==============================] - 0s 1ms/step - loss: 0.4447 - accuracy: 0.8408\n",
            "Epoch 49/100\n",
            "47/47 [==============================] - 0s 2ms/step - loss: 0.4404 - accuracy: 0.8105\n",
            "Epoch 50/100\n",
            "47/47 [==============================] - 0s 1ms/step - loss: 0.3896 - accuracy: 0.8525\n",
            "Epoch 51/100\n",
            "47/47 [==============================] - 0s 1ms/step - loss: 0.4032 - accuracy: 0.8596\n",
            "Epoch 52/100\n",
            "47/47 [==============================] - 0s 1ms/step - loss: 0.3922 - accuracy: 0.8674\n",
            "Epoch 53/100\n",
            "47/47 [==============================] - 0s 1ms/step - loss: 0.4251 - accuracy: 0.8330\n",
            "Epoch 54/100\n",
            "47/47 [==============================] - 0s 2ms/step - loss: 0.4302 - accuracy: 0.8494\n",
            "Epoch 55/100\n",
            "47/47 [==============================] - 0s 1ms/step - loss: 0.4517 - accuracy: 0.8387\n",
            "Epoch 56/100\n",
            "47/47 [==============================] - 0s 1ms/step - loss: 0.3967 - accuracy: 0.8824\n",
            "Epoch 57/100\n",
            "47/47 [==============================] - 0s 2ms/step - loss: 0.4149 - accuracy: 0.8487\n",
            "Epoch 58/100\n",
            "47/47 [==============================] - 0s 2ms/step - loss: 0.3758 - accuracy: 0.8692\n",
            "Epoch 59/100\n",
            "47/47 [==============================] - 0s 2ms/step - loss: 0.3778 - accuracy: 0.8797\n",
            "Epoch 60/100\n",
            "47/47 [==============================] - 0s 2ms/step - loss: 0.3970 - accuracy: 0.8424\n",
            "Epoch 61/100\n",
            "47/47 [==============================] - 0s 2ms/step - loss: 0.4196 - accuracy: 0.8344\n",
            "Epoch 62/100\n",
            "47/47 [==============================] - 0s 2ms/step - loss: 0.4030 - accuracy: 0.8489\n",
            "Epoch 63/100\n",
            "47/47 [==============================] - 0s 2ms/step - loss: 0.4142 - accuracy: 0.8395\n",
            "Epoch 64/100\n",
            "47/47 [==============================] - 0s 2ms/step - loss: 0.4317 - accuracy: 0.8262\n",
            "Epoch 65/100\n",
            "47/47 [==============================] - 0s 2ms/step - loss: 0.4209 - accuracy: 0.8558\n",
            "Epoch 66/100\n",
            "47/47 [==============================] - 0s 2ms/step - loss: 0.4594 - accuracy: 0.8197\n",
            "Epoch 67/100\n",
            "47/47 [==============================] - 0s 2ms/step - loss: 0.4498 - accuracy: 0.8211\n",
            "Epoch 68/100\n",
            "47/47 [==============================] - 0s 2ms/step - loss: 0.4832 - accuracy: 0.8365\n",
            "Epoch 69/100\n",
            "47/47 [==============================] - 0s 2ms/step - loss: 0.4079 - accuracy: 0.8406\n",
            "Epoch 70/100\n",
            "47/47 [==============================] - 0s 2ms/step - loss: 0.3964 - accuracy: 0.8614\n",
            "Epoch 71/100\n",
            "47/47 [==============================] - 0s 2ms/step - loss: 0.4219 - accuracy: 0.8289\n",
            "Epoch 72/100\n",
            "47/47 [==============================] - 0s 2ms/step - loss: 0.4036 - accuracy: 0.8395\n",
            "Epoch 73/100\n",
            "47/47 [==============================] - 0s 2ms/step - loss: 0.4045 - accuracy: 0.8444\n",
            "Epoch 74/100\n",
            "47/47 [==============================] - 0s 2ms/step - loss: 0.4200 - accuracy: 0.8415\n",
            "Epoch 75/100\n",
            "47/47 [==============================] - 0s 2ms/step - loss: 0.4043 - accuracy: 0.8334\n",
            "Epoch 76/100\n",
            "47/47 [==============================] - 0s 2ms/step - loss: 0.4692 - accuracy: 0.8301\n",
            "Epoch 77/100\n",
            "47/47 [==============================] - 0s 2ms/step - loss: 0.5019 - accuracy: 0.8060\n",
            "Epoch 78/100\n",
            "47/47 [==============================] - 0s 2ms/step - loss: 0.4013 - accuracy: 0.8471\n",
            "Epoch 79/100\n",
            "47/47 [==============================] - 0s 2ms/step - loss: 0.4406 - accuracy: 0.8410\n",
            "Epoch 80/100\n",
            "47/47 [==============================] - 0s 2ms/step - loss: 0.3950 - accuracy: 0.8683\n",
            "Epoch 81/100\n",
            "47/47 [==============================] - 0s 1ms/step - loss: 0.3878 - accuracy: 0.8591\n",
            "Epoch 82/100\n",
            "47/47 [==============================] - 0s 2ms/step - loss: 0.3512 - accuracy: 0.8632\n",
            "Epoch 83/100\n"
          ],
          "name": "stdout"
        },
        {
          "output_type": "stream",
          "text": [
            "47/47 [==============================] - 0s 1ms/step - loss: 0.4222 - accuracy: 0.8435\n",
            "Epoch 84/100\n",
            "47/47 [==============================] - 0s 1ms/step - loss: 0.4388 - accuracy: 0.8269\n",
            "Epoch 85/100\n",
            "47/47 [==============================] - 0s 3ms/step - loss: 0.4140 - accuracy: 0.8490\n",
            "Epoch 86/100\n",
            "47/47 [==============================] - 0s 3ms/step - loss: 0.3919 - accuracy: 0.8465\n",
            "Epoch 87/100\n",
            "47/47 [==============================] - 0s 3ms/step - loss: 0.4619 - accuracy: 0.8394\n",
            "Epoch 88/100\n",
            "47/47 [==============================] - 0s 3ms/step - loss: 0.3973 - accuracy: 0.8353\n",
            "Epoch 89/100\n",
            "47/47 [==============================] - 0s 3ms/step - loss: 0.4147 - accuracy: 0.8470\n",
            "Epoch 90/100\n",
            "47/47 [==============================] - 0s 3ms/step - loss: 0.3843 - accuracy: 0.8622\n",
            "Epoch 91/100\n",
            "47/47 [==============================] - 0s 3ms/step - loss: 0.4095 - accuracy: 0.8407\n",
            "Epoch 92/100\n",
            "47/47 [==============================] - 0s 4ms/step - loss: 0.3991 - accuracy: 0.8452\n",
            "Epoch 93/100\n",
            "47/47 [==============================] - 0s 2ms/step - loss: 0.3638 - accuracy: 0.8625\n",
            "Epoch 94/100\n",
            "47/47 [==============================] - 0s 2ms/step - loss: 0.4113 - accuracy: 0.8562\n",
            "Epoch 95/100\n",
            "47/47 [==============================] - 0s 2ms/step - loss: 0.3787 - accuracy: 0.8653\n",
            "Epoch 96/100\n",
            "47/47 [==============================] - 0s 2ms/step - loss: 0.3387 - accuracy: 0.8729\n",
            "Epoch 97/100\n",
            "47/47 [==============================] - 0s 2ms/step - loss: 0.3655 - accuracy: 0.8526\n",
            "Epoch 98/100\n",
            "47/47 [==============================] - 0s 1ms/step - loss: 0.4301 - accuracy: 0.8305\n",
            "Epoch 99/100\n",
            "47/47 [==============================] - 0s 1ms/step - loss: 0.3826 - accuracy: 0.8518\n",
            "Epoch 100/100\n",
            "47/47 [==============================] - 0s 1ms/step - loss: 0.3427 - accuracy: 0.8798\n"
          ],
          "name": "stdout"
        },
        {
          "output_type": "execute_result",
          "data": {
            "text/plain": [
              "<tensorflow.python.keras.callbacks.History at 0x1e7d23fc490>"
            ]
          },
          "metadata": {
            "tags": []
          },
          "execution_count": 9
        }
      ]
    },
    {
      "cell_type": "code",
      "metadata": {
        "id": "3BeLW2I1NQQq",
        "outputId": "02e0ea8c-e512-4baa-e800-2ae43807be57"
      },
      "source": [
        "#Evalution of Model\n",
        "print(\"Accuracy: %.4f\" %(model.evaluate(X,Y)[1]))"
      ],
      "execution_count": null,
      "outputs": [
        {
          "output_type": "stream",
          "text": [
            "15/15 [==============================] - 0s 784us/step - loss: 0.3903 - accuracy: 0.8614\n",
            "Accuracy: 0.8614\n"
          ],
          "name": "stdout"
        }
      ]
    }
  ]
}