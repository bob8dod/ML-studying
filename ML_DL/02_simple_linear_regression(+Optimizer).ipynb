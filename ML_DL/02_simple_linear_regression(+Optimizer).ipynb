{
  "nbformat": 4,
  "nbformat_minor": 0,
  "metadata": {
    "kernelspec": {
      "display_name": "Python 3",
      "language": "python",
      "name": "python3"
    },
    "language_info": {
      "codemirror_mode": {
        "name": "ipython",
        "version": 3
      },
      "file_extension": ".py",
      "mimetype": "text/x-python",
      "name": "python",
      "nbconvert_exporter": "python",
      "pygments_lexer": "ipython3",
      "version": "3.8.5"
    },
    "colab": {
      "name": "02_simple_linear_regression(+Optimizer).ipynb",
      "provenance": [],
      "include_colab_link": true
    }
  },
  "cells": [
    {
      "cell_type": "markdown",
      "metadata": {
        "id": "view-in-github",
        "colab_type": "text"
      },
      "source": [
        "<a href=\"https://colab.research.google.com/github/bob8dod/ML-studying/blob/main/ML_DL/02_simple_linear_regression(%2BOptimizer).ipynb\" target=\"_parent\"><img src=\"https://colab.research.google.com/assets/colab-badge.svg\" alt=\"Open In Colab\"/></a>"
      ]
    },
    {
      "cell_type": "code",
      "metadata": {
        "id": "_rQBe4V4jL9f"
      },
      "source": [
        "#import Library\n",
        "import numpy as np\n",
        "import matplotlib.pyplot as plt"
      ],
      "execution_count": null,
      "outputs": []
    },
    {
      "cell_type": "code",
      "metadata": {
        "id": "plULYnFtjL9o"
      },
      "source": [
        "#Data preprocessing\n",
        "data = [[2,81],[4,93],[6,91],[8,97]]\n",
        "x_data=[i[0] for i in data]\n",
        "y_data=[i[1] for i in data]\n",
        "x=np.array(x_data) #for accessing index\n",
        "y=np.array(y_data) #for accessing index\n",
        "\n",
        "w,b = (0,0) #initialize Weight, bias\n",
        "lr = 0.05 #setting learning_rate"
      ],
      "execution_count": null,
      "outputs": []
    },
    {
      "cell_type": "code",
      "metadata": {
        "id": "r2NWFof3jL9q",
        "outputId": "52777bec-5dfd-4f5d-e3f4-3ee7832cac9b"
      },
      "source": [
        "#Showing on Graph _ data preprocessing\n",
        "plt.figure(figsize=(8,5))\n",
        "plt.scatter(x_data,y_data)\n",
        "plt.show()"
      ],
      "execution_count": null,
      "outputs": [
        {
          "output_type": "display_data",
          "data": {
            "image/png": "[encoded data removed]",
            "text/plain": [
              "<Figure size 576x360 with 1 Axes>"
            ]
          },
          "metadata": {
            "tags": [],
            "needs_background": "light"
          }
        }
      ]
    },
    {
      "cell_type": "code",
      "metadata": {
        "id": "V7m7RiPdjL9s",
        "outputId": "a779ff97-dcec-40d9-cea0-2432da36e42e"
      },
      "source": [
        "#Setting Hypothesis, Cost function, Opimiziation\n",
        "def predict(x): #Hypothesis\n",
        "    return w*x+b\n",
        "def cost(y_hat, y): #Cost function\n",
        "    return (((y_hat-y)**2).mean())\n",
        "def optimizer(error): #Gradient Descent Algorithm\n",
        "    w_diff = -(x*error).mean() #differential\n",
        "    b_diff = -(error).mean() #differential\n",
        "    weight = w - lr*w_diff #updating weight\n",
        "    bias = b - lr*b_diff #updating bias\n",
        "    return weight,bias\n",
        "\n",
        "for i in range(epochs+1):\n",
        "    error = y - predict(x)\n",
        "    loss = cost(predict(x),y)\n",
        "    w,b = optimizer(error)\n",
        "    if i % 100 == 0 and i != 0 :\n",
        "        print('Epoch: %d, Loss: %.4f, Weight: %.4f, bias: %.4f' %(i, loss, w, b))"
      ],
      "execution_count": null,
      "outputs": [
        {
          "output_type": "stream",
          "text": [
            "Epoch: 100, Loss: 199.6538, Weight: 7.9316, bias: 45.3932\n",
            "Epoch: 200, Loss: 45.8673, Weight: 4.7953, bias: 64.1094\n",
            "Epoch: 300, Loss: 15.6753, Weight: 3.4056, bias: 72.4022\n",
            "Epoch: 400, Loss: 9.7480, Weight: 2.7899, bias: 76.0766\n",
            "Epoch: 500, Loss: 8.5843, Weight: 2.5171, bias: 77.7047\n",
            "Epoch: 600, Loss: 8.3558, Weight: 2.3962, bias: 78.4261\n",
            "Epoch: 700, Loss: 8.3110, Weight: 2.3426, bias: 78.7457\n",
            "Epoch: 800, Loss: 8.3022, Weight: 2.3189, bias: 78.8873\n",
            "Epoch: 900, Loss: 8.3004, Weight: 2.3084, bias: 78.9501\n",
            "Epoch: 1000, Loss: 8.3001, Weight: 2.3037, bias: 78.9779\n",
            "Epoch: 1100, Loss: 8.3000, Weight: 2.3016, bias: 78.9902\n",
            "Epoch: 1200, Loss: 8.3000, Weight: 2.3007, bias: 78.9957\n",
            "Epoch: 1300, Loss: 8.3000, Weight: 2.3003, bias: 78.9981\n",
            "Epoch: 1400, Loss: 8.3000, Weight: 2.3001, bias: 78.9991\n",
            "Epoch: 1500, Loss: 8.3000, Weight: 2.3001, bias: 78.9996\n",
            "Epoch: 1600, Loss: 8.3000, Weight: 2.3000, bias: 78.9998\n",
            "Epoch: 1700, Loss: 8.3000, Weight: 2.3000, bias: 78.9999\n",
            "Epoch: 1800, Loss: 8.3000, Weight: 2.3000, bias: 79.0000\n",
            "Epoch: 1900, Loss: 8.3000, Weight: 2.3000, bias: 79.0000\n",
            "Epoch: 2000, Loss: 8.3000, Weight: 2.3000, bias: 79.0000\n"
          ],
          "name": "stdout"
        }
      ]
    },
    {
      "cell_type": "code",
      "metadata": {
        "id": "h1cMxHQjjL9s",
        "outputId": "3187e978-a744-42d9-950e-465bbcc3bc49"
      },
      "source": [
        "#Showing on Graph\n",
        "hypothesis = w*x+b\n",
        "plt.scatter(x,y)\n",
        "plt.plot([min(x_data),max(x_data)],[min(y_data),max(y_data)])\n",
        "plt.show()"
      ],
      "execution_count": null,
      "outputs": [
        {
          "output_type": "display_data",
          "data": {
            "image/png": "[encoded data removed]",
            "text/plain": [
              "<Figure size 432x288 with 1 Axes>"
            ]
          },
          "metadata": {
            "tags": [],
            "needs_background": "light"
          }
        }
      ]
    },
    {
      "cell_type": "code",
      "metadata": {
        "id": "J4CzS90YjL9t",
        "outputId": "ee20073e-4d75-4f1a-9578-f45e4656d75e"
      },
      "source": [
        "#Prediction score\n",
        "study = int(input())\n",
        "print('Learning Time: %d, Prediction Score: %d' %(study,predict(study)))"
      ],
      "execution_count": null,
      "outputs": [
        {
          "output_type": "stream",
          "text": [
            "4\n",
            "Learning Time: 4, Prediction Score: 88\n"
          ],
          "name": "stdout"
        }
      ]
    }
  ]
}