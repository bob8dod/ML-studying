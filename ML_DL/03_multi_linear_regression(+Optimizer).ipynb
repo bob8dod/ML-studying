{
  "nbformat": 4,
  "nbformat_minor": 0,
  "metadata": {
    "kernelspec": {
      "display_name": "Python 3",
      "language": "python",
      "name": "python3"
    },
    "language_info": {
      "codemirror_mode": {
        "name": "ipython",
        "version": 3
      },
      "file_extension": ".py",
      "mimetype": "text/x-python",
      "name": "python",
      "nbconvert_exporter": "python",
      "pygments_lexer": "ipython3",
      "version": "3.8.5"
    },
    "colab": {
      "name": "03_multi_linear_regression(+Optimizer).ipynb",
      "provenance": [],
      "include_colab_link": true
    }
  },
  "cells": [
    {
      "cell_type": "markdown",
      "metadata": {
        "id": "view-in-github",
        "colab_type": "text"
      },
      "source": [
        "<a href=\"https://colab.research.google.com/github/bob8dod/ML-studying/blob/main/ML_DL/03_multi_linear_regression(%2BOptimizer).ipynb\" target=\"_parent\"><img src=\"https://colab.research.google.com/assets/colab-badge.svg\" alt=\"Open In Colab\"/></a>"
      ]
    },
    {
      "cell_type": "code",
      "metadata": {
        "id": "PG7JxZGnjgp7"
      },
      "source": [
        "import numpy as np"
      ],
      "execution_count": null,
      "outputs": []
    },
    {
      "cell_type": "code",
      "metadata": {
        "id": "sJN8UgcijgqP"
      },
      "source": [
        "data = [[2,0,81],[4,4,93],[6,2,91],[8,3,97]]\n",
        "x1 = np.array([i[0] for i in data])\n",
        "x2 = np.array([i[1] for i in data])\n",
        "y = np.array([i[2] for i in data])\n",
        "w1,w2,b = (0,0,0)\n",
        "epochs=2000\n",
        "lr = 0.05"
      ],
      "execution_count": null,
      "outputs": []
    },
    {
      "cell_type": "code",
      "metadata": {
        "id": "bgTljd61jgqR",
        "outputId": "915fb34c-8f6d-44ae-ac38-545c8705d853"
      },
      "source": [
        "def predict(x1,x2):#x1과 x2 , 즉 매개변수를 사용하지 않아도 numpy계산이 작동되지만, 나중의 입력값에 대해서 계산을 내기위해 사용\n",
        "    return (x1*w1 + x2*w2 + b)\n",
        "def cost(): #매개변수 사용안해도 numpy연산가능\n",
        "    return (((error)**2).mean())\n",
        "def optimizer():\n",
        "    w1_diff = -(x1*error).mean()\n",
        "    w2_diff = -(x2*error).mean()\n",
        "    b_diff = -(error).mean()\n",
        "    Weight1 = w1 - lr*w1_diff\n",
        "    Weight2 = w2 - lr*w2_diff\n",
        "    bias = b - lr*b_diff\n",
        "    return Weight1, Weight2, bias\n",
        "for i in range(epochs+1):\n",
        "    hypo = predict(x1,x2)\n",
        "    error = y - hypo\n",
        "    loss = cost()\n",
        "    w1,w2,b = optimizer()\n",
        "    if i % 100==0 and i !=0 :\n",
        "        print('Epochs: %d, loss: %.4f, W1: %.4f, W2: %.4f, b: %.4f' %(i, loss, w1, w2, b))\n",
        "    "
      ],
      "execution_count": null,
      "outputs": [
        {
          "output_type": "stream",
          "text": [
            "Epochs: 100, loss: 189.4818, W1: 6.4348, W2: 3.9893, b: 43.9757\n",
            "Epochs: 200, loss: 38.5976, W1: 3.7255, W2: 3.0541, b: 62.5766\n",
            "Epochs: 300, loss: 7.9077, W1: 2.5037, W2: 2.6323, b: 70.9656\n",
            "Epochs: 400, loss: 1.6653, W1: 1.9527, W2: 2.4420, b: 74.7491\n",
            "Epochs: 500, loss: 0.3956, W1: 1.7042, W2: 2.3562, b: 76.4554\n",
            "Epochs: 600, loss: 0.1374, W1: 1.5921, W2: 2.3175, b: 77.2250\n",
            "Epochs: 700, loss: 0.0848, W1: 1.5415, W2: 2.3001, b: 77.5720\n",
            "Epochs: 800, loss: 0.0742, W1: 1.5187, W2: 2.2922, b: 77.7286\n",
            "Epochs: 900, loss: 0.0720, W1: 1.5084, W2: 2.2886, b: 77.7992\n",
            "Epochs: 1000, loss: 0.0715, W1: 1.5038, W2: 2.2870, b: 77.8310\n",
            "Epochs: 1100, loss: 0.0715, W1: 1.5017, W2: 2.2863, b: 77.8453\n",
            "Epochs: 1200, loss: 0.0714, W1: 1.5008, W2: 2.2860, b: 77.8518\n",
            "Epochs: 1300, loss: 0.0714, W1: 1.5003, W2: 2.2858, b: 77.8547\n",
            "Epochs: 1400, loss: 0.0714, W1: 1.5002, W2: 2.2858, b: 77.8561\n",
            "Epochs: 1500, loss: 0.0714, W1: 1.5001, W2: 2.2857, b: 77.8567\n",
            "Epochs: 1600, loss: 0.0714, W1: 1.5000, W2: 2.2857, b: 77.8569\n",
            "Epochs: 1700, loss: 0.0714, W1: 1.5000, W2: 2.2857, b: 77.8570\n",
            "Epochs: 1800, loss: 0.0714, W1: 1.5000, W2: 2.2857, b: 77.8571\n",
            "Epochs: 1900, loss: 0.0714, W1: 1.5000, W2: 2.2857, b: 77.8571\n",
            "Epochs: 2000, loss: 0.0714, W1: 1.5000, W2: 2.2857, b: 77.8571\n"
          ],
          "name": "stdout"
        }
      ]
    },
    {
      "cell_type": "code",
      "metadata": {
        "id": "FPhW5RgJjgqU",
        "outputId": "d087e3af-2da5-4549-974a-026fe3f061f9"
      },
      "source": [
        "#predict score\n",
        "real_x1,real_x2 = map(int,input().split())\n",
        "print('x1:%d, x2:%d , predicted score: %.2f' %(real_x1,real_x2,predict(real_x1,real_x2)))"
      ],
      "execution_count": null,
      "outputs": [
        {
          "output_type": "stream",
          "text": [
            "3 4\n",
            "x1:3, x2:4 , predicted score: 91.50\n"
          ],
          "name": "stdout"
        }
      ]
    },
    {
      "cell_type": "code",
      "metadata": {
        "id": "AWb2a4vtjgqV"
      },
      "source": [
        ""
      ],
      "execution_count": null,
      "outputs": []
    }
  ]
}