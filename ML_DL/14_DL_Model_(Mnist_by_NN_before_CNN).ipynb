{
  "nbformat": 4,
  "nbformat_minor": 0,
  "metadata": {
    "kernelspec": {
      "display_name": "Python 3",
      "language": "python",
      "name": "python3"
    },
    "language_info": {
      "codemirror_mode": {
        "name": "ipython",
        "version": 3
      },
      "file_extension": ".py",
      "mimetype": "text/x-python",
      "name": "python",
      "nbconvert_exporter": "python",
      "pygments_lexer": "ipython3",
      "version": "3.8.5"
    },
    "colab": {
      "name": "14_DL_Model_(Mnist by NN before CNN).ipynb",
      "provenance": [],
      "include_colab_link": true
    }
  },
  "cells": [
    {
      "cell_type": "markdown",
      "metadata": {
        "id": "view-in-github",
        "colab_type": "text"
      },
      "source": [
        "<a href=\"https://colab.research.google.com/github/bob8dod/ML-studying/blob/main/ML_DL/14_DL_Model_(Mnist_by_NN_before_CNN).ipynb\" target=\"_parent\"><img src=\"https://colab.research.google.com/assets/colab-badge.svg\" alt=\"Open In Colab\"/></a>"
      ]
    },
    {
      "cell_type": "code",
      "metadata": {
        "id": "LY5JV-1YlWS5"
      },
      "source": [
        "from tensorflow.keras.datasets import mnist #Using Mnist Dataset\n",
        "from tensorflow.keras.models import Sequential\n",
        "from tensorflow.keras.layers import Dense\n",
        "from tensorflow.keras.utils import to_categorical #for One-Hot Encoding\n",
        "from tensorflow.keras.callbacks import EarlyStopping #Using callbacks\n",
        "\n",
        "import tensorflow as tf\n",
        "import numpy as np\n",
        "import pandas as pd\n",
        "import matplotlib.pyplot as plt"
      ],
      "execution_count": null,
      "outputs": []
    },
    {
      "cell_type": "code",
      "metadata": {
        "id": "xKp31YoqlWTT"
      },
      "source": [
        "#seed setting\n",
        "seed = 0\n",
        "np.random.seed(seed)\n",
        "tf.random.set_seed(seed)"
      ],
      "execution_count": null,
      "outputs": []
    },
    {
      "cell_type": "code",
      "metadata": {
        "id": "DRscj1F6lWTV",
        "outputId": "ca713792-c5f7-4b30-c3c5-412ee91f7639"
      },
      "source": [
        "#load Mnist Data, data classification\n",
        "(X_train,Y_train),(X_test,Y_test) = mnist.load_data()\n",
        "print(\"Train Images: %d Test Images: %d\" %(X_train.shape[0], X_test.shape[0]))"
      ],
      "execution_count": null,
      "outputs": [
        {
          "output_type": "stream",
          "text": [
            "Train Images: 60000 Test Images: 10000\n"
          ],
          "name": "stdout"
        }
      ]
    },
    {
      "cell_type": "code",
      "metadata": {
        "id": "boMkJtHzlWTa",
        "outputId": "dff7a622-ca3f-4bc3-eebc-8c4878b12c3a"
      },
      "source": [
        "#Check the Data image\n",
        "plt.imshow(X_train[0], cmap='Greys')\n",
        "plt.show()\n",
        "print(\"Class: %d\" %Y_train[0])"
      ],
      "execution_count": null,
      "outputs": [
        {
          "output_type": "display_data",
          "data": {
            "image/png": "[encoded data removed]",
            "text/plain": [
              "<Figure size 432x288 with 1 Axes>"
            ]
          },
          "metadata": {
            "tags": [],
            "needs_background": "light"
          }
        },
        {
          "output_type": "stream",
          "text": [
            "Class: 5\n"
          ],
          "name": "stdout"
        }
      ]
    },
    {
      "cell_type": "code",
      "metadata": {
        "id": "JzIHCUQKlWTc",
        "outputId": "71654451-3dad-4b8c-b4d6-8ab30c79afd3"
      },
      "source": [
        "#Checking Data before preprocessing\n",
        "for x in X_train[0]: # accessing Row\n",
        "    for i in x: # accessing Column\n",
        "        print('{}\\t'.format(i),end=' ')      \n",
        "    print()\n",
        "print(X_train[0].shape)"
      ],
      "execution_count": null,
      "outputs": [
        {
          "output_type": "stream",
          "text": [
            "0\t 0\t 0\t 0\t 0\t 0\t 0\t 0\t 0\t 0\t 0\t 0\t 0\t 0\t 0\t 0\t 0\t 0\t 0\t 0\t 0\t 0\t 0\t 0\t 0\t 0\t 0\t 0\t \n",
            "0\t 0\t 0\t 0\t 0\t 0\t 0\t 0\t 0\t 0\t 0\t 0\t 0\t 0\t 0\t 0\t 0\t 0\t 0\t 0\t 0\t 0\t 0\t 0\t 0\t 0\t 0\t 0\t \n",
            "0\t 0\t 0\t 0\t 0\t 0\t 0\t 0\t 0\t 0\t 0\t 0\t 0\t 0\t 0\t 0\t 0\t 0\t 0\t 0\t 0\t 0\t 0\t 0\t 0\t 0\t 0\t 0\t \n",
            "0\t 0\t 0\t 0\t 0\t 0\t 0\t 0\t 0\t 0\t 0\t 0\t 0\t 0\t 0\t 0\t 0\t 0\t 0\t 0\t 0\t 0\t 0\t 0\t 0\t 0\t 0\t 0\t \n",
            "0\t 0\t 0\t 0\t 0\t 0\t 0\t 0\t 0\t 0\t 0\t 0\t 0\t 0\t 0\t 0\t 0\t 0\t 0\t 0\t 0\t 0\t 0\t 0\t 0\t 0\t 0\t 0\t \n",
            "0\t 0\t 0\t 0\t 0\t 0\t 0\t 0\t 0\t 0\t 0\t 0\t 3\t 18\t 18\t 18\t 126\t 136\t 175\t 26\t 166\t 255\t 247\t 127\t 0\t 0\t 0\t 0\t \n",
            "0\t 0\t 0\t 0\t 0\t 0\t 0\t 0\t 30\t 36\t 94\t 154\t 170\t 253\t 253\t 253\t 253\t 253\t 225\t 172\t 253\t 242\t 195\t 64\t 0\t 0\t 0\t 0\t \n",
            "0\t 0\t 0\t 0\t 0\t 0\t 0\t 49\t 238\t 253\t 253\t 253\t 253\t 253\t 253\t 253\t 253\t 251\t 93\t 82\t 82\t 56\t 39\t 0\t 0\t 0\t 0\t 0\t \n",
            "0\t 0\t 0\t 0\t 0\t 0\t 0\t 18\t 219\t 253\t 253\t 253\t 253\t 253\t 198\t 182\t 247\t 241\t 0\t 0\t 0\t 0\t 0\t 0\t 0\t 0\t 0\t 0\t \n",
            "0\t 0\t 0\t 0\t 0\t 0\t 0\t 0\t 80\t 156\t 107\t 253\t 253\t 205\t 11\t 0\t 43\t 154\t 0\t 0\t 0\t 0\t 0\t 0\t 0\t 0\t 0\t 0\t \n",
            "0\t 0\t 0\t 0\t 0\t 0\t 0\t 0\t 0\t 14\t 1\t 154\t 253\t 90\t 0\t 0\t 0\t 0\t 0\t 0\t 0\t 0\t 0\t 0\t 0\t 0\t 0\t 0\t \n",
            "0\t 0\t 0\t 0\t 0\t 0\t 0\t 0\t 0\t 0\t 0\t 139\t 253\t 190\t 2\t 0\t 0\t 0\t 0\t 0\t 0\t 0\t 0\t 0\t 0\t 0\t 0\t 0\t \n",
            "0\t 0\t 0\t 0\t 0\t 0\t 0\t 0\t 0\t 0\t 0\t 11\t 190\t 253\t 70\t 0\t 0\t 0\t 0\t 0\t 0\t 0\t 0\t 0\t 0\t 0\t 0\t 0\t \n",
            "0\t 0\t 0\t 0\t 0\t 0\t 0\t 0\t 0\t 0\t 0\t 0\t 35\t 241\t 225\t 160\t 108\t 1\t 0\t 0\t 0\t 0\t 0\t 0\t 0\t 0\t 0\t 0\t \n",
            "0\t 0\t 0\t 0\t 0\t 0\t 0\t 0\t 0\t 0\t 0\t 0\t 0\t 81\t 240\t 253\t 253\t 119\t 25\t 0\t 0\t 0\t 0\t 0\t 0\t 0\t 0\t 0\t \n",
            "0\t 0\t 0\t 0\t 0\t 0\t 0\t 0\t 0\t 0\t 0\t 0\t 0\t 0\t 45\t 186\t 253\t 253\t 150\t 27\t 0\t 0\t 0\t 0\t 0\t 0\t 0\t 0\t \n",
            "0\t 0\t 0\t 0\t 0\t 0\t 0\t 0\t 0\t 0\t 0\t 0\t 0\t 0\t 0\t 16\t 93\t 252\t 253\t 187\t 0\t 0\t 0\t 0\t 0\t 0\t 0\t 0\t \n",
            "0\t 0\t 0\t 0\t 0\t 0\t 0\t 0\t 0\t 0\t 0\t 0\t 0\t 0\t 0\t 0\t 0\t 249\t 253\t 249\t 64\t 0\t 0\t 0\t 0\t 0\t 0\t 0\t \n",
            "0\t 0\t 0\t 0\t 0\t 0\t 0\t 0\t 0\t 0\t 0\t 0\t 0\t 0\t 46\t 130\t 183\t 253\t 253\t 207\t 2\t 0\t 0\t 0\t 0\t 0\t 0\t 0\t \n",
            "0\t 0\t 0\t 0\t 0\t 0\t 0\t 0\t 0\t 0\t 0\t 0\t 39\t 148\t 229\t 253\t 253\t 253\t 250\t 182\t 0\t 0\t 0\t 0\t 0\t 0\t 0\t 0\t \n",
            "0\t 0\t 0\t 0\t 0\t 0\t 0\t 0\t 0\t 0\t 24\t 114\t 221\t 253\t 253\t 253\t 253\t 201\t 78\t 0\t 0\t 0\t 0\t 0\t 0\t 0\t 0\t 0\t \n",
            "0\t 0\t 0\t 0\t 0\t 0\t 0\t 0\t 23\t 66\t 213\t 253\t 253\t 253\t 253\t 198\t 81\t 2\t 0\t 0\t 0\t 0\t 0\t 0\t 0\t 0\t 0\t 0\t \n",
            "0\t 0\t 0\t 0\t 0\t 0\t 18\t 171\t 219\t 253\t 253\t 253\t 253\t 195\t 80\t 9\t 0\t 0\t 0\t 0\t 0\t 0\t 0\t 0\t 0\t 0\t 0\t 0\t \n",
            "0\t 0\t 0\t 0\t 55\t 172\t 226\t 253\t 253\t 253\t 253\t 244\t 133\t 11\t 0\t 0\t 0\t 0\t 0\t 0\t 0\t 0\t 0\t 0\t 0\t 0\t 0\t 0\t \n",
            "0\t 0\t 0\t 0\t 136\t 253\t 253\t 253\t 212\t 135\t 132\t 16\t 0\t 0\t 0\t 0\t 0\t 0\t 0\t 0\t 0\t 0\t 0\t 0\t 0\t 0\t 0\t 0\t \n",
            "0\t 0\t 0\t 0\t 0\t 0\t 0\t 0\t 0\t 0\t 0\t 0\t 0\t 0\t 0\t 0\t 0\t 0\t 0\t 0\t 0\t 0\t 0\t 0\t 0\t 0\t 0\t 0\t \n",
            "0\t 0\t 0\t 0\t 0\t 0\t 0\t 0\t 0\t 0\t 0\t 0\t 0\t 0\t 0\t 0\t 0\t 0\t 0\t 0\t 0\t 0\t 0\t 0\t 0\t 0\t 0\t 0\t \n",
            "0\t 0\t 0\t 0\t 0\t 0\t 0\t 0\t 0\t 0\t 0\t 0\t 0\t 0\t 0\t 0\t 0\t 0\t 0\t 0\t 0\t 0\t 0\t 0\t 0\t 0\t 0\t 0\t \n",
            "(28, 28)\n"
          ],
          "name": "stdout"
        }
      ]
    },
    {
      "cell_type": "code",
      "metadata": {
        "id": "PCpz17ytlWTe"
      },
      "source": [
        "#Data preprocessing\n",
        "X_train = X_train.reshape(X_train.shape[0],28*28).astype(float)/255 #Normalization\n",
        "X_test = X_test.reshape(X_test.shape[0],28*28).astype(float)/255 #Normalization\n",
        "Y_train = to_categorical(Y_train, 10) #One-Hot Encoding\n",
        "Y_test = to_categorical(Y_test, 10) #One-Hot Encoding"
      ],
      "execution_count": null,
      "outputs": []
    },
    {
      "cell_type": "code",
      "metadata": {
        "id": "9nR9ahVAlWTg"
      },
      "source": [
        "#Model making, setting\n",
        "model = Sequential()\n",
        "model.add(Dense(512,input_dim=28*28,activation='relu'))\n",
        "model.add(Dense(10,activation='softmax'))\n",
        "model.compile(loss='categorical_crossentropy', optimizer='adam', metrics=['accuracy'])"
      ],
      "execution_count": null,
      "outputs": []
    },
    {
      "cell_type": "code",
      "metadata": {
        "id": "13OQbrjvlWTh"
      },
      "source": [
        "#Setting callbacks _ EarlyStopping\n",
        "early_stopping = EarlyStopping(monitor='val_loss', verbose=1, patience=10)"
      ],
      "execution_count": null,
      "outputs": []
    },
    {
      "cell_type": "code",
      "metadata": {
        "scrolled": true,
        "id": "OXyiyiqnlWTj",
        "outputId": "0b88c112-273c-4f9d-bc5c-9dbb588e98d3"
      },
      "source": [
        "#Operating Model\n",
        "history = model.fit(X_train,Y_train, validation_data=(X_test,Y_test),epochs=30, batch_size=200, callbacks=[early_stopping])\n",
        "print(\"\\nAccuracy: %.4f\" %(model.evaluate(X_test,Y_test)[1]))"
      ],
      "execution_count": null,
      "outputs": [
        {
          "output_type": "stream",
          "text": [
            "Epoch 1/30\n",
            "300/300 [==============================] - 5s 14ms/step - loss: 0.5377 - accuracy: 0.8532 - val_loss: 0.1530 - val_accuracy: 0.9575\n",
            "Epoch 2/30\n",
            "300/300 [==============================] - 4s 13ms/step - loss: 0.1328 - accuracy: 0.9614 - val_loss: 0.1056 - val_accuracy: 0.9686\n",
            "Epoch 3/30\n",
            "300/300 [==============================] - 4s 13ms/step - loss: 0.0879 - accuracy: 0.9747 - val_loss: 0.0815 - val_accuracy: 0.9750\n",
            "Epoch 4/30\n",
            "300/300 [==============================] - 3s 10ms/step - loss: 0.0605 - accuracy: 0.9828 - val_loss: 0.0752 - val_accuracy: 0.9762\n",
            "Epoch 5/30\n",
            "300/300 [==============================] - 4s 13ms/step - loss: 0.0429 - accuracy: 0.9876 - val_loss: 0.0684 - val_accuracy: 0.9793\n",
            "Epoch 6/30\n",
            "300/300 [==============================] - 4s 13ms/step - loss: 0.0334 - accuracy: 0.9909 - val_loss: 0.0682 - val_accuracy: 0.9780\n",
            "Epoch 7/30\n",
            "300/300 [==============================] - 4s 15ms/step - loss: 0.0252 - accuracy: 0.9937 - val_loss: 0.0612 - val_accuracy: 0.9826\n",
            "Epoch 8/30\n",
            "300/300 [==============================] - 3s 10ms/step - loss: 0.0201 - accuracy: 0.9956 - val_loss: 0.0635 - val_accuracy: 0.9816\n",
            "Epoch 9/30\n",
            "300/300 [==============================] - 3s 11ms/step - loss: 0.0151 - accuracy: 0.9968 - val_loss: 0.0603 - val_accuracy: 0.9819\n",
            "Epoch 10/30\n",
            "300/300 [==============================] - 3s 10ms/step - loss: 0.0117 - accuracy: 0.9978 - val_loss: 0.0632 - val_accuracy: 0.9808\n",
            "Epoch 11/30\n",
            "300/300 [==============================] - 3s 10ms/step - loss: 0.0102 - accuracy: 0.9979 - val_loss: 0.0638 - val_accuracy: 0.9807\n",
            "Epoch 12/30\n",
            "300/300 [==============================] - 3s 11ms/step - loss: 0.0069 - accuracy: 0.9991 - val_loss: 0.0633 - val_accuracy: 0.9826\n",
            "Epoch 13/30\n",
            "300/300 [==============================] - 3s 11ms/step - loss: 0.0051 - accuracy: 0.9995 - val_loss: 0.0649 - val_accuracy: 0.9820\n",
            "Epoch 14/30\n",
            "300/300 [==============================] - 3s 12ms/step - loss: 0.0042 - accuracy: 0.9996 - val_loss: 0.0596 - val_accuracy: 0.9827\n",
            "Epoch 15/30\n",
            "300/300 [==============================] - 3s 11ms/step - loss: 0.0033 - accuracy: 0.9997 - val_loss: 0.0585 - val_accuracy: 0.9841\n",
            "Epoch 16/30\n",
            "300/300 [==============================] - 3s 10ms/step - loss: 0.0025 - accuracy: 0.9998 - val_loss: 0.0987 - val_accuracy: 0.9722\n",
            "Epoch 17/30\n",
            "300/300 [==============================] - 3s 10ms/step - loss: 0.0108 - accuracy: 0.9971 - val_loss: 0.0745 - val_accuracy: 0.9809\n",
            "Epoch 18/30\n",
            "300/300 [==============================] - 3s 10ms/step - loss: 0.0073 - accuracy: 0.9981 - val_loss: 0.0651 - val_accuracy: 0.9819\n",
            "Epoch 19/30\n",
            "300/300 [==============================] - 4s 12ms/step - loss: 0.0025 - accuracy: 0.9996 - val_loss: 0.0722 - val_accuracy: 0.9818\n",
            "Epoch 20/30\n",
            "300/300 [==============================] - 3s 10ms/step - loss: 0.0022 - accuracy: 0.9997 - val_loss: 0.0687 - val_accuracy: 0.9827\n",
            "Epoch 21/30\n",
            "300/300 [==============================] - 3s 11ms/step - loss: 7.7396e-04 - accuracy: 1.0000 - val_loss: 0.0670 - val_accuracy: 0.9827\n",
            "Epoch 22/30\n",
            "300/300 [==============================] - 3s 10ms/step - loss: 5.1026e-04 - accuracy: 1.0000 - val_loss: 0.0674 - val_accuracy: 0.9828\n",
            "Epoch 23/30\n",
            "300/300 [==============================] - 3s 11ms/step - loss: 3.9601e-04 - accuracy: 1.0000 - val_loss: 0.0684 - val_accuracy: 0.9833\n",
            "Epoch 24/30\n",
            "300/300 [==============================] - 3s 11ms/step - loss: 3.3743e-04 - accuracy: 1.0000 - val_loss: 0.0690 - val_accuracy: 0.9824\n",
            "Epoch 25/30\n",
            "300/300 [==============================] - 3s 10ms/step - loss: 3.0870e-04 - accuracy: 1.0000 - val_loss: 0.0697 - val_accuracy: 0.9828\n",
            "Epoch 00025: early stopping\n",
            "313/313 [==============================] - 1s 3ms/step - loss: 0.0697 - accuracy: 0.9828\n",
            "Accuracy: 0.9828\n"
          ],
          "name": "stdout"
        }
      ]
    },
    {
      "cell_type": "code",
      "metadata": {
        "id": "uSeGvEt-lWTk",
        "outputId": "5702ea89-23b7-484e-e98f-52e74fffd45e"
      },
      "source": [
        "#Showing on Graph\n",
        "y_vloss=history.history['val_loss']\n",
        "y_loss = history.history['loss']\n",
        "x_len = np.arange(len(y_loss))\n",
        "plt.plot(x_len, y_vloss, marker='.', c=\"red\", label='Testset_loss')\n",
        "plt.plot(x_len, y_loss, marker='.', c=\"blue\", label='Trainset_loss')\n",
        "\n",
        "plt.legend(loc='upper right')\n",
        "plt.grid()\n",
        "plt.xlabel('epoch')\n",
        "plt.ylabel('loss')\n",
        "plt.show()"
      ],
      "execution_count": null,
      "outputs": [
        {
          "output_type": "display_data",
          "data": {
            "image/png": "[encoded data removed]",
            "text/plain": [
              "<Figure size 432x288 with 1 Axes>"
            ]
          },
          "metadata": {
            "tags": [],
            "needs_background": "light"
          }
        }
      ]
    },
    {
      "cell_type": "code",
      "metadata": {
        "id": "wUb5rGYwlWTm"
      },
      "source": [
        ""
      ],
      "execution_count": null,
      "outputs": []
    }
  ]
}