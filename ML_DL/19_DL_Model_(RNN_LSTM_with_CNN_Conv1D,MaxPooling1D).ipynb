{
  "nbformat": 4,
  "nbformat_minor": 0,
  "metadata": {
    "colab": {
      "name": "19_DL_Model_(RNN_LSTM with CNN_Conv1D,MaxPooling1D).ipynb",
      "provenance": [],
      "collapsed_sections": [],
      "authorship_tag": "ABX9TyOIq+FFt15UJLumzFul1C1S",
      "include_colab_link": true
    },
    "kernelspec": {
      "name": "python3",
      "display_name": "Python 3"
    },
    "language_info": {
      "name": "python"
    },
    "accelerator": "GPU"
  },
  "cells": [
    {
      "cell_type": "markdown",
      "metadata": {
        "id": "view-in-github",
        "colab_type": "text"
      },
      "source": [
        "<a href=\"https://colab.research.google.com/github/bob8dod/ML-studying/blob/main/ML_DL/19_DL_Model_(RNN_LSTM_with_CNN_Conv1D%2CMaxPooling1D).ipynb\" target=\"_parent\"><img src=\"https://colab.research.google.com/assets/colab-badge.svg\" alt=\"Open In Colab\"/></a>"
      ]
    },
    {
      "cell_type": "code",
      "metadata": {
        "id": "Dd9-szq-AxZB"
      },
      "source": [
        "from tensorflow.keras.datasets import imdb #load imdb dataset \n",
        "from tensorflow.keras.preprocessing.sequence import pad_sequences #for same length of text\n",
        "from tensorflow.keras.models import Sequential\n",
        "from tensorflow.keras.layers import Embedding, LSTM, Dense, Dropout, Activation, Conv1D, MaxPooling1D # RNN/NN/CNN\n",
        "\n",
        "import numpy as np\n",
        "import tensorflow as tf\n",
        "import matplotlib.pyplot as plt"
      ],
      "execution_count": null,
      "outputs": []
    },
    {
      "cell_type": "code",
      "metadata": {
        "id": "gKR_agXpBeXO"
      },
      "source": [
        "seed = 3\n",
        "np.random.seed(seed)\n",
        "tf.random.set_seed(seed)"
      ],
      "execution_count": null,
      "outputs": []
    },
    {
      "cell_type": "code",
      "metadata": {
        "colab": {
          "base_uri": "https://localhost:8080/"
        },
        "id": "FPfcWZsiBmRn",
        "outputId": "7559a2bb-2ffd-43d1-a9da-20dbe867f36e"
      },
      "source": [
        "(X_train, Y_train),(X_test, Y_test) = imdb.load_data(num_words=5000) #Bring 5000 words only (by Descending to frequency)\n",
        "print(X_train.shape[0]) \n",
        "print(X_test.shape[0])\n",
        "print(np.max(Y_train))"
      ],
      "execution_count": null,
      "outputs": [
        {
          "output_type": "stream",
          "text": [
            "<string>:6: VisibleDeprecationWarning: Creating an ndarray from ragged nested sequences (which is a list-or-tuple of lists-or-tuples-or ndarrays with different lengths or shapes) is deprecated. If you meant to do this, you must specify 'dtype=object' when creating the ndarray\n",
            "/usr/local/lib/python3.7/dist-packages/tensorflow/python/keras/datasets/imdb.py:159: VisibleDeprecationWarning: Creating an ndarray from ragged nested sequences (which is a list-or-tuple of lists-or-tuples-or ndarrays with different lengths or shapes) is deprecated. If you meant to do this, you must specify 'dtype=object' when creating the ndarray\n",
            "  x_train, y_train = np.array(xs[:idx]), np.array(labels[:idx])\n"
          ],
          "name": "stderr"
        },
        {
          "output_type": "stream",
          "text": [
            "25000\n",
            "25000\n",
            "1\n"
          ],
          "name": "stdout"
        },
        {
          "output_type": "stream",
          "text": [
            "/usr/local/lib/python3.7/dist-packages/tensorflow/python/keras/datasets/imdb.py:160: VisibleDeprecationWarning: Creating an ndarray from ragged nested sequences (which is a list-or-tuple of lists-or-tuples-or ndarrays with different lengths or shapes) is deprecated. If you meant to do this, you must specify 'dtype=object' when creating the ndarray\n",
            "  x_test, y_test = np.array(xs[idx:]), np.array(labels[idx:])\n"
          ],
          "name": "stderr"
        }
      ]
    },
    {
      "cell_type": "code",
      "metadata": {
        "id": "BdEGNyTbCgqk"
      },
      "source": [
        "#Data preprocessing\n",
        "X_train = pad_sequences(X_train, maxlen=100)\n",
        "X_test = pad_sequences(X_test, maxlen=100)\n",
        "# Y is binary_classification, so we don't need to do One-Hot encoding"
      ],
      "execution_count": null,
      "outputs": []
    },
    {
      "cell_type": "code",
      "metadata": {
        "colab": {
          "base_uri": "https://localhost:8080/"
        },
        "id": "-yusrTnzC20y",
        "outputId": "c1bcba81-1ae4-42b6-d4cd-04fcbd174592"
      },
      "source": [
        "#Model setting\n",
        "model = Sequential()\n",
        "model.add(Embedding(5000,100)) #(kind of words, nodes)\n",
        "model.add(Dropout(0.5)) \n",
        "model.add(Conv1D(64,3,activation='relu'))\n",
        "model.add(MaxPooling1D(pool_size=4))\n",
        "model.add(LSTM(55, activation='tanh'))\n",
        "model.add(Dense(1,activation='sigmoid'))\n",
        "model.summary()\n",
        "#Embedding -> CNN -> RNN -> NN"
      ],
      "execution_count": null,
      "outputs": [
        {
          "output_type": "stream",
          "text": [
            "Model: \"sequential_1\"\n",
            "_________________________________________________________________\n",
            "Layer (type)                 Output Shape              Param #   \n",
            "=================================================================\n",
            "embedding_1 (Embedding)      (None, None, 100)         500000    \n",
            "_________________________________________________________________\n",
            "dropout_1 (Dropout)          (None, None, 100)         0         \n",
            "_________________________________________________________________\n",
            "conv1d_1 (Conv1D)            (None, None, 64)          19264     \n",
            "_________________________________________________________________\n",
            "max_pooling1d_1 (MaxPooling1 (None, None, 64)          0         \n",
            "_________________________________________________________________\n",
            "lstm_1 (LSTM)                (None, 55)                26400     \n",
            "_________________________________________________________________\n",
            "dense_1 (Dense)              (None, 1)                 56        \n",
            "=================================================================\n",
            "Total params: 545,720\n",
            "Trainable params: 545,720\n",
            "Non-trainable params: 0\n",
            "_________________________________________________________________\n"
          ],
          "name": "stdout"
        }
      ]
    },
    {
      "cell_type": "code",
      "metadata": {
        "colab": {
          "base_uri": "https://localhost:8080/"
        },
        "id": "F0YembZGDybI",
        "outputId": "86dbf71b-3fcb-4bbc-b81a-79f41e5fb026"
      },
      "source": [
        "model.compile(loss='binary_crossentropy',optimizer='adam',metrics=['accuracy'])\n",
        "history = model.fit(X_train, Y_train, epochs=5, batch_size=100, validation_data=(X_test,Y_test))\n",
        "print('\\nAccuarcy: %.4f' %(model.evaluate(X_test,Y_test)[1]))"
      ],
      "execution_count": null,
      "outputs": [
        {
          "output_type": "stream",
          "text": [
            "Epoch 1/5\n",
            "250/250 [==============================] - 6s 18ms/step - loss: 0.5680 - accuracy: 0.6679 - val_loss: 0.3824 - val_accuracy: 0.8306\n",
            "Epoch 2/5\n",
            "250/250 [==============================] - 4s 15ms/step - loss: 0.3056 - accuracy: 0.8732 - val_loss: 0.3628 - val_accuracy: 0.8410\n",
            "Epoch 3/5\n",
            "250/250 [==============================] - 4s 15ms/step - loss: 0.2669 - accuracy: 0.8905 - val_loss: 0.3582 - val_accuracy: 0.8437\n",
            "Epoch 4/5\n",
            "250/250 [==============================] - 4s 15ms/step - loss: 0.2236 - accuracy: 0.9127 - val_loss: 0.3655 - val_accuracy: 0.8375\n",
            "Epoch 5/5\n",
            "250/250 [==============================] - 4s 15ms/step - loss: 0.2016 - accuracy: 0.9265 - val_loss: 0.3722 - val_accuracy: 0.8434\n",
            "782/782 [==============================] - 3s 3ms/step - loss: 0.3722 - accuracy: 0.8434\n",
            "\n",
            "Accuarcy: 0.8434\n"
          ],
          "name": "stdout"
        }
      ]
    },
    {
      "cell_type": "code",
      "metadata": {
        "colab": {
          "base_uri": "https://localhost:8080/",
          "height": 279
        },
        "id": "xi_EzVp4EnP7",
        "outputId": "2fed335e-2b3f-492d-e139-e0d818a8533b"
      },
      "source": [
        "y_vloss = history.history['val_loss']\n",
        "y_loss = history.history['loss']\n",
        "x_len = np.arange(len(y_loss))\n",
        "plt.plot(x_len, y_vloss, marker='.', c=\"red\", label = 'Testset_loss')\n",
        "plt.plot(x_len, y_loss, marker='.', c=\"blue\", label = 'Trainset_loss')\n",
        "plt.legend(loc=\"upper right\")\n",
        "plt.grid()\n",
        "plt.xlabel('epoch')\n",
        "plt.ylabel('loss')\n",
        "plt.show()"
      ],
      "execution_count": null,
      "outputs": [
        {
          "output_type": "display_data",
          "data": {
            "image/png": "[encoded data removed]",
            "text/plain": [
              "<Figure size 432x288 with 1 Axes>"
            ]
          },
          "metadata": {
            "tags": [],
            "needs_background": "light"
          }
        }
      ]
    }
  ]
}