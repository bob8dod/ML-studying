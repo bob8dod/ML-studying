{
  "nbformat": 4,
  "nbformat_minor": 0,
  "metadata": {
    "kernelspec": {
      "display_name": "Python 3",
      "language": "python",
      "name": "python3"
    },
    "language_info": {
      "codemirror_mode": {
        "name": "ipython",
        "version": 3
      },
      "file_extension": ".py",
      "mimetype": "text/x-python",
      "name": "python",
      "nbconvert_exporter": "python",
      "pygments_lexer": "ipython3",
      "version": "3.8.5"
    },
    "colab": {
      "name": "05_MLP_(XOR_gate).ipynb",
      "provenance": [],
      "include_colab_link": true
    }
  },
  "cells": [
    {
      "cell_type": "markdown",
      "metadata": {
        "id": "view-in-github",
        "colab_type": "text"
      },
      "source": [
        "<a href=\"https://colab.research.google.com/github/bob8dod/ML-studying/blob/main/ML_DL/05_MLP_(XOR_gate).ipynb\" target=\"_parent\"><img src=\"https://colab.research.google.com/assets/colab-badge.svg\" alt=\"Open In Colab\"/></a>"
      ]
    },
    {
      "cell_type": "code",
      "metadata": {
        "id": "l5_QdJNLkAdp"
      },
      "source": [
        "import numpy as np"
      ],
      "execution_count": null,
      "outputs": []
    },
    {
      "cell_type": "code",
      "metadata": {
        "id": "kjKitURckAdz"
      },
      "source": [
        "w11 = np.array([-2,-2]) #first weight of first layer(input layer) _ NAND\n",
        "w12 = np.array([2, 2])  #second weight of first layer(input layer) _ OR\n",
        "w2 = np.array([1,1])    #weight of second layer(output layer) _ AND\n",
        "b11 = 3 \n",
        "b12 = -1\n",
        "b2 = -1"
      ],
      "execution_count": null,
      "outputs": []
    },
    {
      "cell_type": "code",
      "metadata": {
        "id": "6GoOrDIjkAd0",
        "outputId": "d3a13f85-ec25-45ea-d669-6ca7c2105a38"
      },
      "source": [
        "def MLP(x,w,b): #Using hypothesis,Relu result of (hypo->ReLu), its only showing \"Forward methon\", not Backward(optimizer)!\n",
        "    z = np.sum(w*x)+b #hypothesis _ (x1*w1 + x2*w2 + b)\n",
        "    if z <= 0:        #ReLu\n",
        "        return 0\n",
        "    else:\n",
        "        return 1\n",
        "\n",
        "def NAND(x1,x2):\n",
        "    return MLP(np.array([x1,x2]),w11,b11)\n",
        "def OR(x1,x2):\n",
        "    return MLP(np.array([x1,x2]),w12,b12)\n",
        "def AND(x1,x2):\n",
        "    return MLP(np.array([x1,x2]),w2, b2)\n",
        "def XOR(x1,x2): # XOR => AND(NANA,OR)\n",
        "    return AND(NAND(x1,x2),OR(x1,x2))\n",
        "\n",
        "for x in [(0,0),(1,0),(0,1),(1,1)]:\n",
        "    y = XOR(x[0], x[1])\n",
        "    print(\"입력 값: \"+str(x)+\" 출력 값: %d\" %(y))"
      ],
      "execution_count": null,
      "outputs": [
        {
          "output_type": "stream",
          "text": [
            "입력 값: (0, 0) 출력 값: 0\n",
            "입력 값: (1, 0) 출력 값: 1\n",
            "입력 값: (0, 1) 출력 값: 1\n",
            "입력 값: (1, 1) 출력 값: 0\n"
          ],
          "name": "stdout"
        }
      ]
    },
    {
      "cell_type": "code",
      "metadata": {
        "id": "61FyK6gZkAd2"
      },
      "source": [
        ""
      ],
      "execution_count": null,
      "outputs": []
    }
  ]
}