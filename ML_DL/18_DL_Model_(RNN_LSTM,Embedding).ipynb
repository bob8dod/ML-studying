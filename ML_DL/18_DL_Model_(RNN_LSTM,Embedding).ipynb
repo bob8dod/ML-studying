{
  "nbformat": 4,
  "nbformat_minor": 0,
  "metadata": {
    "colab": {
      "name": "18_DL_Model_RNN_(LSTM,Embedding).ipynb",
      "provenance": [],
      "collapsed_sections": [],
      "authorship_tag": "ABX9TyPtFht/Wo9FHh+CvveRntmC",
      "include_colab_link": true
    },
    "kernelspec": {
      "name": "python3",
      "display_name": "Python 3"
    },
    "language_info": {
      "name": "python"
    },
    "accelerator": "GPU"
  },
  "cells": [
    {
      "cell_type": "markdown",
      "metadata": {
        "id": "view-in-github",
        "colab_type": "text"
      },
      "source": [
        "<a href=\"https://colab.research.google.com/github/bob8dod/ML-studying/blob/main/ML_DL/18_DL_Model_(RNN_LSTM%2CEmbedding).ipynb\" target=\"_parent\"><img src=\"https://colab.research.google.com/assets/colab-badge.svg\" alt=\"Open In Colab\"/></a>"
      ]
    },
    {
      "cell_type": "code",
      "metadata": {
        "id": "QIqwaHEv0w8-"
      },
      "source": [
        "from tensorflow.keras.datasets import reuters #load reuters data\n",
        "from tensorflow.keras.preprocessing.sequence import pad_sequences #for text padding\n",
        "from tensorflow.keras.utils import to_categorical # for One-Hot encoding(Y)\n",
        "from tensorflow.keras.models import Sequential \n",
        "from tensorflow.keras.layers import Embedding, LSTM, Dense # RNN : Embedding, LSTM / NN: Dense\n",
        "\n",
        "import numpy as np\n",
        "import tensorflow as tf\n",
        "import matplotlib.pyplot as plt"
      ],
      "execution_count": null,
      "outputs": []
    },
    {
      "cell_type": "code",
      "metadata": {
        "id": "HqsHV-DO3VLN"
      },
      "source": [
        "seed = 3\n",
        "np.random.seed(seed)\n",
        "tf.random.set_seed(seed)"
      ],
      "execution_count": null,
      "outputs": []
    },
    {
      "cell_type": "code",
      "metadata": {
        "colab": {
          "base_uri": "https://localhost:8080/"
        },
        "id": "pnODLgsu2J60",
        "outputId": "c94d0662-22d4-45ff-eaf6-fecc31f35924"
      },
      "source": [
        "(X_train,Y_train),(X_test, Y_test) = reuters.load_data(num_words=1000, test_split=0.2) #Data load, split\n",
        "print('Train :', X_train.shape[0])\n",
        "print('Test :' ,X_test.shape[0])\n",
        "print('Class :', np.max(Y_train)+1)\n",
        "print(X_train[0])"
      ],
      "execution_count": null,
      "outputs": [
        {
          "output_type": "stream",
          "text": [
            "Train : 8982\n",
            "Test : 2246\n",
            "Class : 46\n",
            "[1, 2, 2, 8, 43, 10, 447, 5, 25, 207, 270, 5, 2, 111, 16, 369, 186, 90, 67, 7, 89, 5, 19, 102, 6, 19, 124, 15, 90, 67, 84, 22, 482, 26, 7, 48, 4, 49, 8, 864, 39, 209, 154, 6, 151, 6, 83, 11, 15, 22, 155, 11, 15, 7, 48, 9, 2, 2, 504, 6, 258, 6, 272, 11, 15, 22, 134, 44, 11, 15, 16, 8, 197, 2, 90, 67, 52, 29, 209, 30, 32, 132, 6, 109, 15, 17, 12]\n"
          ],
          "name": "stdout"
        },
        {
          "output_type": "stream",
          "text": [
            "/usr/local/lib/python3.7/dist-packages/tensorflow/python/keras/datasets/reuters.py:148: VisibleDeprecationWarning: Creating an ndarray from ragged nested sequences (which is a list-or-tuple of lists-or-tuples-or ndarrays with different lengths or shapes) is deprecated. If you meant to do this, you must specify 'dtype=object' when creating the ndarray\n",
            "  x_train, y_train = np.array(xs[:idx]), np.array(labels[:idx])\n",
            "/usr/local/lib/python3.7/dist-packages/tensorflow/python/keras/datasets/reuters.py:149: VisibleDeprecationWarning: Creating an ndarray from ragged nested sequences (which is a list-or-tuple of lists-or-tuples-or ndarrays with different lengths or shapes) is deprecated. If you meant to do this, you must specify 'dtype=object' when creating the ndarray\n",
            "  x_test, y_test = np.array(xs[idx:]), np.array(labels[idx:])\n"
          ],
          "name": "stderr"
        }
      ]
    },
    {
      "cell_type": "code",
      "metadata": {
        "id": "igBC3jXT3HtB"
      },
      "source": [
        "#Data preprocessing\n",
        "X_train = pad_sequences(X_train, maxlen=100) # make 1doc to have max word length 100\n",
        "X_test = pad_sequences(X_test, maxlen=100)\n",
        "Y_train = to_categorical(Y_train,46) #One-Hot Encoding\n",
        "Y_test = to_categorical(Y_test,46)"
      ],
      "execution_count": null,
      "outputs": []
    },
    {
      "cell_type": "code",
      "metadata": {
        "id": "MfMkBlZ54hgV"
      },
      "source": [
        "#Model Setting\n",
        "model = Sequential()\n",
        "model.add(Embedding(1000, 100)) #Embedding(number of words, Number of words to receive in one input)\n",
        "model.add(LSTM(100, activation='tanh')) #LSTM(Number of words to receive in one input, )\n",
        "model.add(Dense(46, activation = 'softmax'))\n",
        "model.compile(loss='categorical_crossentropy', optimizer='adam', metrics=['accuracy'])"
      ],
      "execution_count": null,
      "outputs": []
    },
    {
      "cell_type": "code",
      "metadata": {
        "colab": {
          "base_uri": "https://localhost:8080/"
        },
        "id": "BQc0L3tJ5oR_",
        "outputId": "01dfb60c-4712-4ca0-dc81-792312da8f46"
      },
      "source": [
        "#Model operating\n",
        "history = model.fit(X_train,Y_train,validation_data=(X_test,Y_test),epochs=20, batch_size=100)\n",
        "print('\\nAccuracy: %.4f' %(model.evaluate(X_test,Y_test)[1]))"
      ],
      "execution_count": null,
      "outputs": [
        {
          "output_type": "stream",
          "text": [
            "Epoch 1/20\n",
            "90/90 [==============================] - 3s 18ms/step - loss: 2.9665 - accuracy: 0.3179 - val_loss: 2.1698 - val_accuracy: 0.4488\n",
            "Epoch 2/20\n",
            "90/90 [==============================] - 1s 13ms/step - loss: 2.0566 - accuracy: 0.4786 - val_loss: 1.9583 - val_accuracy: 0.5076\n",
            "Epoch 3/20\n",
            "90/90 [==============================] - 1s 13ms/step - loss: 1.9031 - accuracy: 0.5122 - val_loss: 2.2469 - val_accuracy: 0.3758\n",
            "Epoch 4/20\n",
            "90/90 [==============================] - 1s 13ms/step - loss: 1.8821 - accuracy: 0.4954 - val_loss: 1.7424 - val_accuracy: 0.5530\n",
            "Epoch 5/20\n",
            "90/90 [==============================] - 1s 13ms/step - loss: 1.7428 - accuracy: 0.5492 - val_loss: 1.7325 - val_accuracy: 0.5637\n",
            "Epoch 6/20\n",
            "90/90 [==============================] - 1s 13ms/step - loss: 1.6558 - accuracy: 0.5855 - val_loss: 1.6638 - val_accuracy: 0.5904\n",
            "Epoch 7/20\n",
            "90/90 [==============================] - 1s 13ms/step - loss: 1.6041 - accuracy: 0.5941 - val_loss: 1.6303 - val_accuracy: 0.6189\n",
            "Epoch 8/20\n",
            "90/90 [==============================] - 1s 13ms/step - loss: 1.4606 - accuracy: 0.6346 - val_loss: 1.4841 - val_accuracy: 0.6447\n",
            "Epoch 9/20\n",
            "90/90 [==============================] - 1s 13ms/step - loss: 1.3329 - accuracy: 0.6649 - val_loss: 1.4153 - val_accuracy: 0.6354\n",
            "Epoch 10/20\n",
            "90/90 [==============================] - 1s 13ms/step - loss: 1.2459 - accuracy: 0.6852 - val_loss: 1.3647 - val_accuracy: 0.6621\n",
            "Epoch 11/20\n",
            "90/90 [==============================] - 1s 13ms/step - loss: 1.1912 - accuracy: 0.6934 - val_loss: 1.3101 - val_accuracy: 0.6705\n",
            "Epoch 12/20\n",
            "90/90 [==============================] - 1s 13ms/step - loss: 1.0958 - accuracy: 0.7250 - val_loss: 1.2642 - val_accuracy: 0.6852\n",
            "Epoch 13/20\n",
            "90/90 [==============================] - 1s 14ms/step - loss: 1.0043 - accuracy: 0.7437 - val_loss: 1.2371 - val_accuracy: 0.6879\n",
            "Epoch 14/20\n",
            "90/90 [==============================] - 1s 13ms/step - loss: 0.9765 - accuracy: 0.7489 - val_loss: 1.2085 - val_accuracy: 0.7084\n",
            "Epoch 15/20\n",
            "90/90 [==============================] - 1s 13ms/step - loss: 0.9377 - accuracy: 0.7671 - val_loss: 1.2310 - val_accuracy: 0.6999\n",
            "Epoch 16/20\n",
            "90/90 [==============================] - 1s 13ms/step - loss: 0.8992 - accuracy: 0.7729 - val_loss: 1.2544 - val_accuracy: 0.6906\n",
            "Epoch 17/20\n",
            "90/90 [==============================] - 1s 13ms/step - loss: 0.8292 - accuracy: 0.7922 - val_loss: 1.2614 - val_accuracy: 0.6963\n",
            "Epoch 18/20\n",
            "90/90 [==============================] - 1s 13ms/step - loss: 0.7805 - accuracy: 0.8036 - val_loss: 1.2277 - val_accuracy: 0.7075\n",
            "Epoch 19/20\n",
            "90/90 [==============================] - 1s 13ms/step - loss: 0.7718 - accuracy: 0.8096 - val_loss: 1.2344 - val_accuracy: 0.7093\n",
            "Epoch 20/20\n",
            "90/90 [==============================] - 1s 13ms/step - loss: 0.7676 - accuracy: 0.8042 - val_loss: 1.2444 - val_accuracy: 0.7137\n",
            "71/71 [==============================] - 0s 4ms/step - loss: 1.2444 - accuracy: 0.7137\n",
            "\n",
            "Accuracy: 0.7137\n"
          ],
          "name": "stdout"
        }
      ]
    },
    {
      "cell_type": "code",
      "metadata": {
        "colab": {
          "base_uri": "https://localhost:8080/",
          "height": 279
        },
        "id": "bGetC0jL6F0U",
        "outputId": "86eceb5f-f790-416c-d8fd-d965c1dcac62"
      },
      "source": [
        "#preparing Graph\n",
        "y_vloss = history.history['val_loss']\n",
        "y_loss = history.history['loss']\n",
        "x_len = np.arange(len(y_loss))\n",
        "plt.plot(x_len, y_vloss, marker='.', c=\"red\", label = 'Testset_loss')\n",
        "plt.plot(x_len, y_loss, marker='.', c=\"blue\", label = 'Trainset_loss')\n",
        "plt.legend(loc='upper right')\n",
        "plt.grid()\n",
        "plt.xlabel('epoch')\n",
        "plt.ylabel('loss')\n",
        "plt.show()"
      ],
      "execution_count": null,
      "outputs": [
        {
          "output_type": "display_data",
          "data": {
            "image/png": "[encoded data removed]",
            "text/plain": [
              "<Figure size 432x288 with 1 Axes>"
            ]
          },
          "metadata": {
            "tags": [],
            "needs_background": "light"
          }
        }
      ]
    }
  ]
}