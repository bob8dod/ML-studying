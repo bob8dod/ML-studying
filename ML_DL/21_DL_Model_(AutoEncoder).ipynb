{
  "nbformat": 4,
  "nbformat_minor": 0,
  "metadata": {
    "colab": {
      "name": "21_DL_Model_(AutoEncoder).ipynb",
      "provenance": [],
      "collapsed_sections": [],
      "authorship_tag": "ABX9TyOAhDgZ8BasooTkw6q6In+r",
      "include_colab_link": true
    },
    "kernelspec": {
      "name": "python3",
      "display_name": "Python 3"
    },
    "language_info": {
      "name": "python"
    },
    "accelerator": "GPU"
  },
  "cells": [
    {
      "cell_type": "markdown",
      "metadata": {
        "id": "view-in-github",
        "colab_type": "text"
      },
      "source": [
        "<a href=\"https://colab.research.google.com/github/bob8dod/ML-studying/blob/main/ML_DL/21_DL_Model_(AutoEncoder).ipynb\" target=\"_parent\"><img src=\"https://colab.research.google.com/assets/colab-badge.svg\" alt=\"Open In Colab\"/></a>"
      ]
    },
    {
      "cell_type": "code",
      "metadata": {
        "id": "zW_UdV2X7Fx5"
      },
      "source": [
        "from tensorflow.keras.datasets import mnist\n",
        "from tensorflow.keras.models import Sequential\n",
        "from tensorflow.keras.layers import Conv2D,MaxPooling2D,UpSampling2D\n",
        "\n",
        "import numpy as np\n",
        "import tensorflow as tf\n",
        "import matplotlib.pyplot as plt"
      ],
      "execution_count": null,
      "outputs": []
    },
    {
      "cell_type": "code",
      "metadata": {
        "colab": {
          "base_uri": "https://localhost:8080/"
        },
        "id": "_1pMUHq58GDV",
        "outputId": "f0968efa-a25d-434e-825d-d56c85917710"
      },
      "source": [
        "#Data preprocessing\n",
        "(X_train,_),(X_test,_) = mnist.load_data()\n",
        "X_train = X_train.reshape(X_train.shape[0],28,28,1).astype(float)/255 #0~1\n",
        "X_test = X_test.reshape(X_test.shape[0],28,28,1).astype(float)/255 #0~1"
      ],
      "execution_count": null,
      "outputs": [
        {
          "output_type": "stream",
          "text": [
            "Downloading data from https://storage.googleapis.com/tensorflow/tf-keras-datasets/mnist.npz\n",
            "11493376/11490434 [==============================] - 0s 0us/step\n"
          ],
          "name": "stdout"
        }
      ]
    },
    {
      "cell_type": "code",
      "metadata": {
        "colab": {
          "base_uri": "https://localhost:8080/"
        },
        "id": "1GJwKv0R8tvU",
        "outputId": "ed670f95-db2e-40bf-cc65-add7a47481b6"
      },
      "source": [
        "#AutoEncoder!\n",
        "#Encoding part\n",
        "autoencoder = Sequential()\n",
        "autoencoder.add(Conv2D(16, kernel_size=3,input_shape=(28,28,1),padding='same',activation='relu')) #28x28, 16\n",
        "autoencoder.add(MaxPooling2D(pool_size=2)) #14x14, 16\n",
        "autoencoder.add(Conv2D(8, kernel_size=3, padding='same', activation='relu')) #14x14, 8\n",
        "autoencoder.add(MaxPooling2D(pool_size=2)) #7x7, 8\n",
        "autoencoder.add(Conv2D(8,kernel_size=3,strides=2,padding='same',activation='relu')) #4x4,8 <- 7x7(8x8),8\n",
        "#Decoding part\n",
        "autoencoder.add(Conv2D(8, kernel_size=3, padding='same', activation='relu')) #4x4,8\n",
        "autoencoder.add(UpSampling2D()) #8x8\n",
        "autoencoder.add(Conv2D(8, kernel_size=3, padding='same', activation='relu')) #8x8,8\n",
        "autoencoder.add(UpSampling2D()) #16x16\n",
        "autoencoder.add(Conv2D(16,kernel_size=3,activation='relu')) #14x14,16 <- 16x16,8(No Padding)\n",
        "autoencoder.add(UpSampling2D()) #28x28,16\n",
        "autoencoder.add(Conv2D(1,kernel_size=3,padding='same',activation='sigmoid')) #result of AutoEncoding\n",
        "autoencoder.summary()\n",
        "autoencoder.compile(loss='binary_crossentropy', optimizer='adam')"
      ],
      "execution_count": null,
      "outputs": [
        {
          "output_type": "stream",
          "text": [
            "Model: \"sequential\"\n",
            "_________________________________________________________________\n",
            "Layer (type)                 Output Shape              Param #   \n",
            "=================================================================\n",
            "conv2d (Conv2D)              (None, 28, 28, 16)        160       \n",
            "_________________________________________________________________\n",
            "max_pooling2d (MaxPooling2D) (None, 14, 14, 16)        0         \n",
            "_________________________________________________________________\n",
            "conv2d_1 (Conv2D)            (None, 14, 14, 8)         1160      \n",
            "_________________________________________________________________\n",
            "max_pooling2d_1 (MaxPooling2 (None, 7, 7, 8)           0         \n",
            "_________________________________________________________________\n",
            "conv2d_2 (Conv2D)            (None, 4, 4, 8)           584       \n",
            "_________________________________________________________________\n",
            "conv2d_3 (Conv2D)            (None, 4, 4, 8)           584       \n",
            "_________________________________________________________________\n",
            "up_sampling2d (UpSampling2D) (None, 8, 8, 8)           0         \n",
            "_________________________________________________________________\n",
            "conv2d_4 (Conv2D)            (None, 8, 8, 8)           584       \n",
            "_________________________________________________________________\n",
            "up_sampling2d_1 (UpSampling2 (None, 16, 16, 8)         0         \n",
            "_________________________________________________________________\n",
            "conv2d_5 (Conv2D)            (None, 14, 14, 16)        1168      \n",
            "_________________________________________________________________\n",
            "up_sampling2d_2 (UpSampling2 (None, 28, 28, 16)        0         \n",
            "_________________________________________________________________\n",
            "conv2d_6 (Conv2D)            (None, 28, 28, 1)         145       \n",
            "=================================================================\n",
            "Total params: 4,385\n",
            "Trainable params: 4,385\n",
            "Non-trainable params: 0\n",
            "_________________________________________________________________\n"
          ],
          "name": "stdout"
        }
      ]
    },
    {
      "cell_type": "code",
      "metadata": {
        "colab": {
          "base_uri": "https://localhost:8080/"
        },
        "id": "cPaToLGk-1YJ",
        "outputId": "0138ed9d-5ce8-4d05-cdf1-591cc32a3777"
      },
      "source": [
        "history=autoencoder.fit(X_train, X_train, epochs=50, batch_size=128, validation_data=(X_test,X_test))"
      ],
      "execution_count": null,
      "outputs": [
        {
          "output_type": "stream",
          "text": [
            "Epoch 1/50\n",
            "469/469 [==============================] - 36s 6ms/step - loss: 0.3047 - val_loss: 0.1377\n",
            "Epoch 2/50\n",
            "469/469 [==============================] - 3s 5ms/step - loss: 0.1324 - val_loss: 0.1188\n",
            "Epoch 3/50\n",
            "469/469 [==============================] - 2s 5ms/step - loss: 0.1178 - val_loss: 0.1116\n",
            "Epoch 4/50\n",
            "469/469 [==============================] - 2s 5ms/step - loss: 0.1111 - val_loss: 0.1062\n",
            "Epoch 5/50\n",
            "469/469 [==============================] - 2s 5ms/step - loss: 0.1064 - val_loss: 0.1028\n",
            "Epoch 6/50\n",
            "469/469 [==============================] - 2s 5ms/step - loss: 0.1034 - val_loss: 0.1003\n",
            "Epoch 7/50\n",
            "469/469 [==============================] - 2s 5ms/step - loss: 0.1007 - val_loss: 0.0982\n",
            "Epoch 8/50\n",
            "469/469 [==============================] - 2s 5ms/step - loss: 0.0986 - val_loss: 0.0963\n",
            "Epoch 9/50\n",
            "469/469 [==============================] - 2s 5ms/step - loss: 0.0972 - val_loss: 0.0950\n",
            "Epoch 10/50\n",
            "469/469 [==============================] - 2s 5ms/step - loss: 0.0958 - val_loss: 0.0937\n",
            "Epoch 11/50\n",
            "469/469 [==============================] - 2s 5ms/step - loss: 0.0948 - val_loss: 0.0928\n",
            "Epoch 12/50\n",
            "469/469 [==============================] - 2s 5ms/step - loss: 0.0937 - val_loss: 0.0919\n",
            "Epoch 13/50\n",
            "469/469 [==============================] - 2s 5ms/step - loss: 0.0929 - val_loss: 0.0911\n",
            "Epoch 14/50\n",
            "469/469 [==============================] - 2s 5ms/step - loss: 0.0918 - val_loss: 0.0905\n",
            "Epoch 15/50\n",
            "469/469 [==============================] - 2s 5ms/step - loss: 0.0915 - val_loss: 0.0899\n",
            "Epoch 16/50\n",
            "469/469 [==============================] - 2s 5ms/step - loss: 0.0906 - val_loss: 0.0891\n",
            "Epoch 17/50\n",
            "469/469 [==============================] - 2s 5ms/step - loss: 0.0902 - val_loss: 0.0884\n",
            "Epoch 18/50\n",
            "469/469 [==============================] - 2s 5ms/step - loss: 0.0894 - val_loss: 0.0881\n",
            "Epoch 19/50\n",
            "469/469 [==============================] - 3s 5ms/step - loss: 0.0887 - val_loss: 0.0873\n",
            "Epoch 20/50\n",
            "469/469 [==============================] - 2s 5ms/step - loss: 0.0883 - val_loss: 0.0868\n",
            "Epoch 21/50\n",
            "469/469 [==============================] - 2s 5ms/step - loss: 0.0879 - val_loss: 0.0864\n",
            "Epoch 22/50\n",
            "469/469 [==============================] - 2s 5ms/step - loss: 0.0875 - val_loss: 0.0861\n",
            "Epoch 23/50\n",
            "469/469 [==============================] - 3s 5ms/step - loss: 0.0872 - val_loss: 0.0860\n",
            "Epoch 24/50\n",
            "469/469 [==============================] - 2s 5ms/step - loss: 0.0866 - val_loss: 0.0854\n",
            "Epoch 25/50\n",
            "469/469 [==============================] - 2s 5ms/step - loss: 0.0863 - val_loss: 0.0854\n",
            "Epoch 26/50\n",
            "469/469 [==============================] - 3s 5ms/step - loss: 0.0863 - val_loss: 0.0848\n",
            "Epoch 27/50\n",
            "469/469 [==============================] - 3s 5ms/step - loss: 0.0860 - val_loss: 0.0847\n",
            "Epoch 28/50\n",
            "469/469 [==============================] - 3s 5ms/step - loss: 0.0857 - val_loss: 0.0847\n",
            "Epoch 29/50\n",
            "469/469 [==============================] - 2s 5ms/step - loss: 0.0854 - val_loss: 0.0843\n",
            "Epoch 30/50\n",
            "469/469 [==============================] - 3s 5ms/step - loss: 0.0851 - val_loss: 0.0839\n",
            "Epoch 31/50\n",
            "469/469 [==============================] - 2s 5ms/step - loss: 0.0850 - val_loss: 0.0837\n",
            "Epoch 32/50\n",
            "469/469 [==============================] - 2s 5ms/step - loss: 0.0848 - val_loss: 0.0836\n",
            "Epoch 33/50\n",
            "469/469 [==============================] - 3s 5ms/step - loss: 0.0848 - val_loss: 0.0834\n",
            "Epoch 34/50\n",
            "469/469 [==============================] - 3s 5ms/step - loss: 0.0843 - val_loss: 0.0833\n",
            "Epoch 35/50\n",
            "469/469 [==============================] - 2s 5ms/step - loss: 0.0842 - val_loss: 0.0831\n",
            "Epoch 36/50\n",
            "469/469 [==============================] - 3s 5ms/step - loss: 0.0840 - val_loss: 0.0830\n",
            "Epoch 37/50\n",
            "469/469 [==============================] - 2s 5ms/step - loss: 0.0842 - val_loss: 0.0828\n",
            "Epoch 38/50\n",
            "469/469 [==============================] - 3s 5ms/step - loss: 0.0837 - val_loss: 0.0830\n",
            "Epoch 39/50\n",
            "469/469 [==============================] - 3s 5ms/step - loss: 0.0838 - val_loss: 0.0829\n",
            "Epoch 40/50\n",
            "469/469 [==============================] - 3s 5ms/step - loss: 0.0837 - val_loss: 0.0834\n",
            "Epoch 41/50\n",
            "469/469 [==============================] - 3s 5ms/step - loss: 0.0835 - val_loss: 0.0825\n",
            "Epoch 42/50\n",
            "469/469 [==============================] - 3s 5ms/step - loss: 0.0833 - val_loss: 0.0823\n",
            "Epoch 43/50\n",
            "469/469 [==============================] - 3s 5ms/step - loss: 0.0834 - val_loss: 0.0823\n",
            "Epoch 44/50\n",
            "469/469 [==============================] - 3s 5ms/step - loss: 0.0833 - val_loss: 0.0823\n",
            "Epoch 45/50\n",
            "469/469 [==============================] - 3s 5ms/step - loss: 0.0832 - val_loss: 0.0821\n",
            "Epoch 46/50\n",
            "469/469 [==============================] - 3s 5ms/step - loss: 0.0832 - val_loss: 0.0822\n",
            "Epoch 47/50\n",
            "469/469 [==============================] - 3s 5ms/step - loss: 0.0830 - val_loss: 0.0819\n",
            "Epoch 48/50\n",
            "469/469 [==============================] - 3s 5ms/step - loss: 0.0828 - val_loss: 0.0819\n",
            "Epoch 49/50\n",
            "469/469 [==============================] - 3s 5ms/step - loss: 0.0828 - val_loss: 0.0818\n",
            "Epoch 50/50\n",
            "469/469 [==============================] - 3s 5ms/step - loss: 0.0827 - val_loss: 0.0818\n"
          ],
          "name": "stdout"
        }
      ]
    },
    {
      "cell_type": "code",
      "metadata": {
        "colab": {
          "base_uri": "https://localhost:8080/",
          "height": 279
        },
        "id": "oOG79-TgBH-D",
        "outputId": "f50d4676-fb45-4277-dde2-c767450fee52"
      },
      "source": [
        "y_vloss = history.history['val_loss']\n",
        "y_loss = history.history['loss']\n",
        "x_len = np.arange(len(y_loss))\n",
        "plt.plot(x_len, y_vloss, marker='.', c=\"red\", label = 'Testset_loss')\n",
        "plt.plot(x_len, y_loss, marker='.', c=\"blue\", label = 'Trainset_loss')\n",
        "plt.legend(loc=\"upper right\")\n",
        "plt.grid()\n",
        "plt.xlabel('epoch')\n",
        "plt.ylabel('loss')\n",
        "plt.show()"
      ],
      "execution_count": null,
      "outputs": [
        {
          "output_type": "display_data",
          "data": {
            "image/png": "[encoded data removed]",
            "text/plain": [
              "<Figure size 432x288 with 1 Axes>"
            ]
          },
          "metadata": {
            "tags": [],
            "needs_background": "light"
          }
        }
      ]
    },
    {
      "cell_type": "code",
      "metadata": {
        "colab": {
          "base_uri": "https://localhost:8080/",
          "height": 830
        },
        "id": "o5tkdx2i_M_a",
        "outputId": "8cda006b-d2ff-4d66-dd27-cb8e09279e0e"
      },
      "source": [
        "random_idx = np.random.randint(0,X_test.shape[0],size=5)\n",
        "ae_imgs = autoencoder.predict(X_test)\n",
        "\n",
        "plt.figure(figsize=(7,2))\n",
        "\n",
        "for i,image_idx in enumerate(random_idx): #랜덤하게 저장된 배열에서 저장된 난수를 가져옴\n",
        "    ax = plt.subplot(2, 7, i+1)\n",
        "    plt.imshow(X_test[image_idx].reshape(28,28))\n",
        "    ax.axis('off')\n",
        "    ax = plt.subplot(2, 7, 7+i+1)\n",
        "    plt.imshow(ae_imgs[image_idx].reshape(28,28))\n",
        "    ax.axis('off')\n",
        "    \n",
        "    plt.show()"
      ],
      "execution_count": null,
      "outputs": [
        {
          "output_type": "display_data",
          "data": {
            "image/png": "[encoded data removed]",
            "text/plain": [
              "<Figure size 504x144 with 2 Axes>"
            ]
          },
          "metadata": {
            "tags": [],
            "needs_background": "light"
          }
        },
        {
          "output_type": "display_data",
          "data": {
            "image/png": "[encoded data removed]",
            "text/plain": [
              "<Figure size 432x288 with 2 Axes>"
            ]
          },
          "metadata": {
            "tags": [],
            "needs_background": "light"
          }
        },
        {
          "output_type": "display_data",
          "data": {
            "image/png": "[encoded data removed]",
            "text/plain": [
              "<Figure size 432x288 with 2 Axes>"
            ]
          },
          "metadata": {
            "tags": [],
            "needs_background": "light"
          }
        },
        {
          "output_type": "display_data",
          "data": {
            "image/png": "[encoded data removed]",
            "text/plain": [
              "<Figure size 432x288 with 2 Axes>"
            ]
          },
          "metadata": {
            "tags": [],
            "needs_background": "light"
          }
        },
        {
          "output_type": "display_data",
          "data": {
            "image/png": "[encoded data removed]",
            "text/plain": [
              "<Figure size 432x288 with 2 Axes>"
            ]
          },
          "metadata": {
            "tags": [],
            "needs_background": "light"
          }
        }
      ]
    }
  ]
}