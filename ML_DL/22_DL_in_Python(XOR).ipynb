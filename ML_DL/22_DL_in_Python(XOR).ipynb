{
  "nbformat": 4,
  "nbformat_minor": 0,
  "metadata": {
    "colab": {
      "name": "22_DL_in_Python(XOR).ipynb",
      "provenance": [],
      "collapsed_sections": [],
      "authorship_tag": "ABX9TyMXxUBS6euDe7MEN+FFC3tu",
      "include_colab_link": true
    },
    "kernelspec": {
      "name": "python3",
      "display_name": "Python 3"
    },
    "language_info": {
      "name": "python"
    }
  },
  "cells": [
    {
      "cell_type": "markdown",
      "metadata": {
        "id": "view-in-github",
        "colab_type": "text"
      },
      "source": [
        "<a href=\"https://colab.research.google.com/github/bob8dod/ML-studying/blob/main/ML_DL/22_DL_in_Python(XOR).ipynb\" target=\"_parent\"><img src=\"https://colab.research.google.com/assets/colab-badge.svg\" alt=\"Open In Colab\"/></a>"
      ]
    },
    {
      "cell_type": "markdown",
      "metadata": {
        "id": "GdnJlfqeGW61"
      },
      "source": [
        "![12.png](data:image/png;base64,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)\n",
        "\n",
        "Reference: https://codingvision.net/c-backpropagation-tutorial-xor"
      ]
    },
    {
      "cell_type": "code",
      "metadata": {
        "id": "JjwJZtK3vb4L"
      },
      "source": [
        "import numpy as np\n",
        "import random\n",
        "random.seed(777)"
      ],
      "execution_count": null,
      "outputs": []
    },
    {
      "cell_type": "code",
      "metadata": {
        "id": "8uZPoz0iuUTG"
      },
      "source": [
        "#Set Data, Options\n",
        "data =[\n",
        "       [[0,0],[0]],\n",
        "       [[0,1],[1]],\n",
        "       [[1,0],[1]],\n",
        "       [[1,1],[0]]\n",
        "]\n",
        "iterations = 5000 #iterations_ epochs\n",
        "lr = 0.1 #Learning rate\n",
        "mo = 0.4 #momentom coefficeint"
      ],
      "execution_count": null,
      "outputs": []
    },
    {
      "cell_type": "code",
      "metadata": {
        "id": "0eal4jZ6vA4J"
      },
      "source": [
        "#Set Activation function, Weight matrix\n",
        "def sigmoid(x, derivative = False):\n",
        "  if derivative == True : #Derivative mode\n",
        "    return x*(1-x)\n",
        "  return 1/(1+np.exp(-x)) #Original mode\n",
        "\n",
        "def tanh(x, derivative = False):\n",
        "  if derivative == True: #Derivative mode\n",
        "    return 1-x**2\n",
        "  return np.tanh(x) #Original mode\n",
        "\n",
        "def makeMatrix(i,j,fill=0.0):\n",
        "  mat = []\n",
        "  for i in range(i):\n",
        "    mat.append([fill]*j)\n",
        "  return mat"
      ],
      "execution_count": null,
      "outputs": []
    },
    {
      "cell_type": "code",
      "metadata": {
        "colab": {
          "base_uri": "https://localhost:8080/"
        },
        "id": "ejWAz5Tuwnh1",
        "outputId": "d5766431-30ae-4e90-dc7a-52f0e1dc4d07"
      },
      "source": [
        "#Nueral Network part\n",
        "class NeuralNetwork:\n",
        "\n",
        "    def __init__(self, num_x, num_yh, num_yo, bias=1):\n",
        "\n",
        "        #input, hidden layer, output layer\n",
        "        self.num_x = num_x + bias #set bias to 1\n",
        "        self.num_yh = num_yh\n",
        "        self.num_yo = num_yo\n",
        "\n",
        "        # set activation value : hypo <= (logit->activaion)\n",
        "        self.activation_input = [1.0] * self.num_x #just input\n",
        "        self.activation_hidden = [1.0] * self.num_yh\n",
        "        self.activation_out = [1.0] * self.num_yo\n",
        "\n",
        "        # set weight(hidden layer)\n",
        "        self.weight_in = makeMatrix(self.num_x, self.num_yh)\n",
        "        for i in range(self.num_x):\n",
        "            for j in range(self.num_yh):\n",
        "                self.weight_in[i][j] = random.random()\n",
        "\n",
        "        # set weight(output layer)\n",
        "        self.weight_out = makeMatrix(self.num_yh, self.num_yo)\n",
        "        for j in range(self.num_yh):\n",
        "            for k in range(self.num_yo):\n",
        "                self.weight_out[j][k] = random.random()\n",
        "\n",
        "        # for previous weight, Momentom SGD \n",
        "        self.gradient_in = makeMatrix(self.num_x, self.num_yh)\n",
        "        self.gradient_out = makeMatrix(self.num_yh, self.num_yo)\n",
        "\n",
        "    #Update _ forwards!\n",
        "    def update(self, inputs):\n",
        "\n",
        "        # Input data\n",
        "        for i in range(self.num_x - 1):\n",
        "            self.activation_input[i] = inputs[i]\n",
        "\n",
        "        # Hidden layer's hypothesis(result of hidden activation function)\n",
        "        for j in range(self.num_yh):\n",
        "            logit = 0.0\n",
        "            for i in range(self.num_x):\n",
        "                logit = logit + self.activation_input[i] * self.weight_in[i][j] # logit = x1*w11 + x2*w21 \n",
        "            self.activation_hidden[j] = tanh(logit, False) #Hypothesis of hidden layer, Using tanh()\n",
        "\n",
        "        # Output layer's hypothesis(result of Output activation function)\n",
        "        for k in range(self.num_yo):\n",
        "            logit = 0.0\n",
        "            for j in range(self.num_yh):\n",
        "                logit = logit + self.activation_hidden[j] * self.weight_out[j][k] # logit = y_h1*w11 + y_h2*w21 \n",
        "            self.activation_out[k] = tanh(logit, False) #final Prediction _ Hypothesis of output layer, Using tanh()\n",
        "\n",
        "        return self.activation_out[:]\n",
        "    \n",
        "    #Optimization _ backwards!\n",
        "    def backPropagate(self, targets):\n",
        "\n",
        "        #set deltas\n",
        "        output_deltas = [0.0] * self.num_yo\n",
        "        for k in range(self.num_yo):\n",
        "            error = targets[k] - self.activation_out[k] # = (label - pred)\n",
        "            output_deltas[k] = tanh(self.activation_out[k], True) * error #Apply Differiential _ (y_t1 - y_o1)*tanh'\n",
        "\n",
        "        hidden_deltas = [0.0] * self.num_yh\n",
        "        for j in range(self.num_yh):\n",
        "            error = 0.0\n",
        "            for k in range(self.num_yo):\n",
        "                error = error + output_deltas[k] * self.weight_out[j][k] # = Del_y_o1* w11 + Del_y_o2*w21\n",
        "            hidden_deltas[j] = tanh(self.activation_hidden[j], True) * error #Apply Differiential_ (Del_y_o1* w11 + Del_y_o2*w21)*tanh'\n",
        "\n",
        "        #Update Weight of output\n",
        "        for j in range(self.num_yh):\n",
        "            for k in range(self.num_yo):\n",
        "                gradient = output_deltas[k] * self.activation_hidden[j]\n",
        "                v = mo * self.gradient_out[j][k] - lr * gradient\n",
        "                self.weight_out[j][k] += v\n",
        "                self.gradient_out[j][k] = gradient\n",
        "\n",
        "        #Update Weight of hidden\n",
        "        for i in range(self.num_x):\n",
        "            for j in range(self.num_yh):\n",
        "                gradient = hidden_deltas[j] * self.activation_input[i]\n",
        "                v = mo*self.gradient_in[i][j] - lr * gradient\n",
        "                self.weight_in[i][j] += v\n",
        "                self.gradient_in[i][j] = gradient\n",
        "\n",
        "        #Mean Squared Error\n",
        "        error = 0.0\n",
        "        for k in range(len(targets)):\n",
        "            error = error + 0.5 * (targets[k] - self.activation_out[k]) ** 2\n",
        "        return error\n",
        "\n",
        "    #Opperating Train\n",
        "    def train(self, patterns):\n",
        "        for i in range(iterations):\n",
        "            error = 0.0\n",
        "            for p in patterns:\n",
        "                inputs = p[0] # x_data\n",
        "                targets = p[1] # y_data\n",
        "                self.update(inputs) #apply update _ forwards!\n",
        "                error = error + self.backPropagate(targets) #apply backPropagate _ backwards! -> Optimization\n",
        "            if i % 500 == 0:\n",
        "                print('error: %-.5f' % error)\n",
        "    #Print Output\n",
        "    def result(self, patterns):\n",
        "        for p in patterns:\n",
        "            print('Input: %s, Predict: %s' % (p[0], self.update(p[0])))\n",
        "\n",
        "if __name__ == '__main__': \n",
        "    n = NeuralNetwork(2, 2, 1) # 2 inputs, 2 layers, 1 output\n",
        "    n.train(data) # training\n",
        "    n.result(data) # print the result\n",
        "\n",
        "# Reference: http://arctrix.com/nas/python/bpnn.py (Neil Schemenauer)"
      ],
      "execution_count": null,
      "outputs": [
        {
          "output_type": "stream",
          "text": [
            "error: 0.46941\n",
            "error: 0.00221\n",
            "error: 0.00082\n",
            "error: 0.00049\n",
            "error: 0.00035\n",
            "error: 0.00027\n",
            "error: 0.00022\n",
            "error: 0.00018\n",
            "error: 0.00016\n",
            "error: 0.00014\n",
            "Input: [0, 0], Predict: [0.0005723707008293684]\n",
            "Input: [0, 1], Predict: [0.98902866191907]\n",
            "Input: [1, 0], Predict: [0.9890510941525785]\n",
            "Input: [1, 1], Predict: [0.0021706412161304426]\n"
          ],
          "name": "stdout"
        }
      ]
    },
    {
      "cell_type": "code",
      "metadata": {
        "id": "7Ui9eugZDZpz"
      },
      "source": [
        ""
      ],
      "execution_count": null,
      "outputs": []
    }
  ]
}