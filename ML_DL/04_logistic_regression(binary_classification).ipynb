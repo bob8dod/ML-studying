{
  "nbformat": 4,
  "nbformat_minor": 0,
  "metadata": {
    "kernelspec": {
      "display_name": "Python 3",
      "language": "python",
      "name": "python3"
    },
    "language_info": {
      "codemirror_mode": {
        "name": "ipython",
        "version": 3
      },
      "file_extension": ".py",
      "mimetype": "text/x-python",
      "name": "python",
      "nbconvert_exporter": "python",
      "pygments_lexer": "ipython3",
      "version": "3.8.5"
    },
    "colab": {
      "name": "04_logistic_regression(binary_classification).ipynb",
      "provenance": [],
      "include_colab_link": true
    }
  },
  "cells": [
    {
      "cell_type": "markdown",
      "metadata": {
        "id": "view-in-github",
        "colab_type": "text"
      },
      "source": [
        "<a href=\"https://colab.research.google.com/github/bob8dod/ML-studying/blob/main/ML_DL/04_logistic_regression(binary_classification).ipynb\" target=\"_parent\"><img src=\"https://colab.research.google.com/assets/colab-badge.svg\" alt=\"Open In Colab\"/></a>"
      ]
    },
    {
      "cell_type": "code",
      "metadata": {
        "id": "olpHZkjdjog4"
      },
      "source": [
        "#Using Package\n",
        "import numpy as np\n",
        "import matplotlib.pyplot as plt\n",
        "import tensorflow as tf\n",
        "import random"
      ],
      "execution_count": null,
      "outputs": []
    },
    {
      "cell_type": "code",
      "metadata": {
        "id": "ZzQaKrvbjohU"
      },
      "source": [
        "#Setting data, data prerpocessing\n",
        "data=[[2,0],[4,0],[6,0],[8,1],[10,1],[12,1],[14,1]]\n",
        "x = np.array([i[0] for i in data])\n",
        "y = np.array([i[1] for i in data])\n",
        "w = random.random()\n",
        "b = random.random()"
      ],
      "execution_count": null,
      "outputs": []
    },
    {
      "cell_type": "code",
      "metadata": {
        "id": "EUnOZdi_johW",
        "outputId": "892c831d-368e-4e75-88f4-898701ddf95b"
      },
      "source": [
        "#Showing on the Graph\n",
        "plt.scatter(x,y)\n",
        "plt.xlim(0,15)\n",
        "plt.ylim(-.1,1.1)\n",
        "plt.show()"
      ],
      "execution_count": null,
      "outputs": [
        {
          "output_type": "display_data",
          "data": {
            "image/png": "[encoded data removed]",
            "text/plain": [
              "<Figure size 432x288 with 1 Axes>"
            ]
          },
          "metadata": {
            "tags": [],
            "needs_background": "light"
          }
        }
      ]
    },
    {
      "cell_type": "code",
      "metadata": {
        "id": "z16MGHbqjohb"
      },
      "source": [
        "#Define functions\n",
        "def logit(x):\n",
        "    return w*x+b\n",
        "def sigmoid(z):\n",
        "    return (1/(1+np.e**(-z)))\n",
        "def cost(y_hat, y):\n",
        "    return ((y*(-np.log(y_hat)) +(1-y)*(-np.log(1-y_hat))).mean())\n",
        "def optimizer():\n",
        "    w_diff = (x*(error)).mean()\n",
        "    b_diff = (error).mean()\n",
        "    Weight = w - lr*w_diff\n",
        "    bias = b - lr*b_diff\n",
        "    return Weight,bias"
      ],
      "execution_count": null,
      "outputs": []
    },
    {
      "cell_type": "code",
      "metadata": {
        "id": "pLwm99oqjohd",
        "outputId": "31264907-5bd9-4638-a241-56e0bea31e92"
      },
      "source": [
        "epochs = 2000\n",
        "lr = 0.05\n",
        "for i in range(epochs + 1):\n",
        "    hypo = sigmoid(logit(x))\n",
        "    error = hypo - y\n",
        "    loss = cost(hypo,y)\n",
        "    w,b = optimizer()\n",
        "    if i % 100==0 and i != 0:\n",
        "        print('Epoch: %4d, Loss: %.4f, W: %.4f, b:%.4f' %(i, loss, w, b))"
      ],
      "execution_count": null,
      "outputs": [
        {
          "output_type": "stream",
          "text": [
            "Epoch:  100, Loss: 0.1315, W: 0.8479, b:-5.6380\n",
            "Epoch:  200, Loss: 0.1286, W: 0.8643, b:-5.7582\n",
            "Epoch:  300, Loss: 0.1258, W: 0.8803, b:-5.8745\n",
            "Epoch:  400, Loss: 0.1233, W: 0.8958, b:-5.9871\n",
            "Epoch:  500, Loss: 0.1208, W: 0.9108, b:-6.0964\n",
            "Epoch:  600, Loss: 0.1185, W: 0.9254, b:-6.2026\n",
            "Epoch:  700, Loss: 0.1164, W: 0.9397, b:-6.3058\n",
            "Epoch:  800, Loss: 0.1143, W: 0.9536, b:-6.4063\n",
            "Epoch:  900, Loss: 0.1123, W: 0.9671, b:-6.5043\n",
            "Epoch: 1000, Loss: 0.1105, W: 0.9803, b:-6.5999\n",
            "Epoch: 1100, Loss: 0.1087, W: 0.9933, b:-6.6932\n",
            "Epoch: 1200, Loss: 0.1070, W: 1.0059, b:-6.7844\n",
            "Epoch: 1300, Loss: 0.1054, W: 1.0183, b:-6.8736\n",
            "Epoch: 1400, Loss: 0.1038, W: 1.0304, b:-6.9609\n",
            "Epoch: 1500, Loss: 0.1023, W: 1.0423, b:-7.0464\n",
            "Epoch: 1600, Loss: 0.1009, W: 1.0539, b:-7.1302\n",
            "Epoch: 1700, Loss: 0.0995, W: 1.0654, b:-7.2123\n",
            "Epoch: 1800, Loss: 0.0982, W: 1.0766, b:-7.2929\n",
            "Epoch: 1900, Loss: 0.0969, W: 1.0876, b:-7.3721\n",
            "Epoch: 2000, Loss: 0.0957, W: 1.0984, b:-7.4498\n"
          ],
          "name": "stdout"
        }
      ]
    },
    {
      "cell_type": "code",
      "metadata": {
        "id": "xeLF3Zo7johf",
        "outputId": "54de819f-6d35-470f-f91b-5384669da23a"
      },
      "source": [
        "plt.scatter(x,y)\n",
        "plt.xlim(0,15)\n",
        "plt.ylim(-.1,1.1)\n",
        "x_range=(np.arange(0, 15, 0.1))\n",
        "plt.plot(np.arange(0, 15, 0.1), np.array([sigmoid(w * x + b) for x in x_range]))\n",
        "plt.show()"
      ],
      "execution_count": null,
      "outputs": [
        {
          "output_type": "display_data",
          "data": {
            "image/png": "[encoded data removed]",
            "text/plain": [
              "<Figure size 432x288 with 1 Axes>"
            ]
          },
          "metadata": {
            "tags": [],
            "needs_background": "light"
          }
        }
      ]
    },
    {
      "cell_type": "code",
      "metadata": {
        "id": "DTVp_Nlujohh",
        "outputId": "0ec63b82-844a-4d12-bfae-109be5d12cca"
      },
      "source": [
        "#Prediction\n",
        "real_x = int(input())\n",
        "if sigmoid(logit(real_x)) > 0.5:\n",
        "    print('1')\n",
        "else:\n",
        "    print('0')"
      ],
      "execution_count": null,
      "outputs": [
        {
          "output_type": "stream",
          "text": [
            "6\n",
            "0\n"
          ],
          "name": "stdout"
        }
      ]
    }
  ]
}