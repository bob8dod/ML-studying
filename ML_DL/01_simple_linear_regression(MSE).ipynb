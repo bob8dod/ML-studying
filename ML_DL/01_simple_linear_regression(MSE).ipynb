{
  "nbformat": 4,
  "nbformat_minor": 0,
  "metadata": {
    "kernelspec": {
      "display_name": "Python 3",
      "language": "python",
      "name": "python3"
    },
    "language_info": {
      "codemirror_mode": {
        "name": "ipython",
        "version": 3
      },
      "file_extension": ".py",
      "mimetype": "text/x-python",
      "name": "python",
      "nbconvert_exporter": "python",
      "pygments_lexer": "ipython3",
      "version": "3.8.5"
    },
    "colab": {
      "name": "01_simple_linear_regression(MSE).ipynb",
      "provenance": [],
      "include_colab_link": true
    }
  },
  "cells": [
    {
      "cell_type": "markdown",
      "metadata": {
        "id": "view-in-github",
        "colab_type": "text"
      },
      "source": [
        "<a href=\"https://colab.research.google.com/github/bob8dod/ML-studying/blob/main/01_simple_linear_regression(MSE).ipynb\" target=\"_parent\"><img src=\"https://colab.research.google.com/assets/colab-badge.svg\" alt=\"Open In Colab\"/></a>"
      ]
    },
    {
      "cell_type": "code",
      "metadata": {
        "id": "sIfvopgoisAS"
      },
      "source": [
        "#import numpy\n",
        "import numpy as np"
      ],
      "execution_count": null,
      "outputs": []
    },
    {
      "cell_type": "code",
      "metadata": {
        "id": "Sk938xsuisAr"
      },
      "source": [
        "#Setting Data, W(weight), b(bias)\n",
        "fake_w = 3 #initialize Weight\n",
        "fake_b = 76 #initialize bias\n",
        "data = [[2,81],[4,93],[6,91],[8,97]] #Data\n",
        "\n",
        "#Data Preprocessing _!!\n",
        "x=[i[0] for i in data]\n",
        "y=[i[1] for i in data]"
      ],
      "execution_count": null,
      "outputs": []
    },
    {
      "cell_type": "code",
      "metadata": {
        "id": "e-9AuPwOisAu"
      },
      "source": [
        "#Setting Hypothesis, Cost function(MSE_mean squared error)\n",
        "def predict(x): #Hypothesis\n",
        "    return fake_w*x + fake_b\n",
        "\n",
        "def cost(y_hat, y): #Cost function\n",
        "    return ((((y_hat - y))**2).mean()) #MSE\n",
        "\n",
        "def val_cost(predict_result, y): #for using numpy _ !!\n",
        "    return cost(np.array(predict_result), np.array(y))"
      ],
      "execution_count": null,
      "outputs": []
    },
    {
      "cell_type": "code",
      "metadata": {
        "id": "gfICWWGkisAv",
        "outputId": "fea1ca8c-5ec4-4b1c-de67-3ad3122a6edd"
      },
      "source": [
        "#Make Result\n",
        "predict_result=[]\n",
        "for i in range(len(x)):\n",
        "    predict_result.append(predict(x[i])) #_!!\n",
        "    print('학습시간: %d, 예측점수: %d, 실제점수: %d' %(x[i],predict_result[i],y[i]))\n",
        "print('MSE : %.4f' %(val_cost(predict_result,y)))"
      ],
      "execution_count": null,
      "outputs": [
        {
          "output_type": "stream",
          "text": [
            "학습시간: 2, 예측점수: 82, 실제점수: 81\n",
            "학습시간: 4, 예측점수: 88, 실제점수: 93\n",
            "학습시간: 6, 예측점수: 94, 실제점수: 91\n",
            "학습시간: 8, 예측점수: 100, 실제점수: 97\n",
            "MSE : 11.0000\n"
          ],
          "name": "stdout"
        }
      ]
    },
    {
      "cell_type": "code",
      "metadata": {
        "id": "mnydlpclisA1"
      },
      "source": [
        ""
      ],
      "execution_count": null,
      "outputs": []
    }
  ]
}
