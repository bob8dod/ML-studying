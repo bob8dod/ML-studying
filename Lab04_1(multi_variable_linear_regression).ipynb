{
  "nbformat": 4,
  "nbformat_minor": 0,
  "metadata": {
    "colab": {
      "name": "Lab04-1(multi variable linear regression).ipynb",
      "provenance": [],
      "collapsed_sections": [],
      "authorship_tag": "ABX9TyMr8pA9P7cmDGSkWU6ZfFH9",
      "include_colab_link": true
    },
    "kernelspec": {
      "name": "python3",
      "display_name": "Python 3"
    }
  },
  "cells": [
    {
      "cell_type": "markdown",
      "metadata": {
        "id": "view-in-github",
        "colab_type": "text"
      },
      "source": [
        "<a href=\"https://colab.research.google.com/github/bob8dod/ML-studying/blob/main/Lab04_1(multi_variable_linear_regression).ipynb\" target=\"_parent\"><img src=\"https://colab.research.google.com/assets/colab-badge.svg\" alt=\"Open In Colab\"/></a>"
      ]
    },
    {
      "cell_type": "code",
      "metadata": {
        "colab": {
          "base_uri": "https://localhost:8080/"
        },
        "id": "f9sZSiorxghe",
        "outputId": "58b1aad0-c0f7-4841-a964-1497b4323502"
      },
      "source": [
        "import tensorflow as tf\r\n",
        "import numpy as np\r\n",
        "\r\n",
        "\r\n",
        "data = np.array([\r\n",
        "    # X1,   X2,    X3,   y\r\n",
        "    [ 73.,  80.,  75., 152. ],\r\n",
        "    [ 93.,  88.,  93., 185. ],\r\n",
        "    [ 89.,  91.,  90., 180. ],\r\n",
        "    [ 96.,  98., 100., 196. ],\r\n",
        "    [ 73.,  66.,  70., 142. ]\r\n",
        "], dtype=np.float32)\r\n",
        "\r\n",
        "# slice data\r\n",
        "X = data[:, :-1]\r\n",
        "y = data[:, [-1]]\r\n",
        "\r\n",
        "W = tf.Variable(tf.random.normal([3,1], 0, 1))\r\n",
        "b = tf.Variable(tf.random.normal([1], 0, 1))\r\n",
        "\r\n",
        "learning_rate = 0.000001\r\n",
        "\r\n",
        "def predict(X):\r\n",
        "    return tf.matmul(X, W) + b\r\n",
        "\r\n",
        "print(\"epoch | cost\")\r\n",
        "\r\n",
        "n_epochs = 2000\r\n",
        "for i in range(n_epochs+1):\r\n",
        "    with tf.GradientTape() as tape:\r\n",
        "        cost = tf.reduce_mean((tf.square(predict(X) - y)))\r\n",
        "\r\n",
        "    W_grad, b_grad = tape.gradient(cost, [W, b])\r\n",
        "\r\n",
        "    W.assign_sub(learning_rate * W_grad)\r\n",
        "    b.assign_sub(learning_rate * b_grad)\r\n",
        "    \r\n",
        "    if i % 100 == 0:\r\n",
        "        print(\"{:5} | {:10.4f}\".format(i, cost.numpy()))"
      ],
      "execution_count": 34,
      "outputs": [
        {
          "output_type": "stream",
          "text": [
            "epoch | cost\n",
            "    0 | 122733.1250\n",
            "  100 |    16.7627\n",
            "  200 |     1.6456\n",
            "  300 |     1.6358\n",
            "  400 |     1.6279\n",
            "  500 |     1.6201\n",
            "  600 |     1.6123\n",
            "  700 |     1.6046\n",
            "  800 |     1.5969\n",
            "  900 |     1.5892\n",
            " 1000 |     1.5815\n",
            " 1100 |     1.5740\n",
            " 1200 |     1.5664\n",
            " 1300 |     1.5590\n",
            " 1400 |     1.5515\n",
            " 1500 |     1.5441\n",
            " 1600 |     1.5367\n",
            " 1700 |     1.5294\n",
            " 1800 |     1.5220\n",
            " 1900 |     1.5148\n",
            " 2000 |     1.5075\n"
          ],
          "name": "stdout"
        }
      ]
    },
    {
      "cell_type": "code",
      "metadata": {
        "colab": {
          "base_uri": "https://localhost:8080/"
        },
        "id": "URW-6jYy4zuj",
        "outputId": "38b25c9c-c6b5-43ef-e78f-8bc7d2cb0042"
      },
      "source": [
        "W.numpy()"
      ],
      "execution_count": 35,
      "outputs": [
        {
          "output_type": "execute_result",
          "data": {
            "text/plain": [
              "array([[1.2998202 ],\n",
              "       [0.31058756],\n",
              "       [0.39755067]], dtype=float32)"
            ]
          },
          "metadata": {
            "tags": []
          },
          "execution_count": 35
        }
      ]
    },
    {
      "cell_type": "code",
      "metadata": {
        "colab": {
          "base_uri": "https://localhost:8080/"
        },
        "id": "QggVzxYr8u5d",
        "outputId": "5608d03f-a089-41a8-efba-4240e5a72b65"
      },
      "source": [
        "b.numpy()"
      ],
      "execution_count": 36,
      "outputs": [
        {
          "output_type": "execute_result",
          "data": {
            "text/plain": [
              "array([0.49294022], dtype=float32)"
            ]
          },
          "metadata": {
            "tags": []
          },
          "execution_count": 36
        }
      ]
    },
    {
      "cell_type": "code",
      "metadata": {
        "colab": {
          "base_uri": "https://localhost:8080/"
        },
        "id": "vlgGvEqW60wL",
        "outputId": "254c7c53-a2fc-45b1-c638-c6e76f7eef84"
      },
      "source": [
        "Y #labels, 실제 값"
      ],
      "execution_count": 39,
      "outputs": [
        {
          "output_type": "execute_result",
          "data": {
            "text/plain": [
              "array([[152.],\n",
              "       [185.],\n",
              "       [180.],\n",
              "       [196.],\n",
              "       [142.]], dtype=float32)"
            ]
          },
          "metadata": {
            "tags": []
          },
          "execution_count": 39
        }
      ]
    },
    {
      "cell_type": "code",
      "metadata": {
        "colab": {
          "base_uri": "https://localhost:8080/"
        },
        "id": "b35kH9uQ-w8E",
        "outputId": "529c1954-90d2-4b30-bbc3-9799caac93e6"
      },
      "source": [
        "#예측값 (hypothesis 이용)\r\n",
        "predict(X).numpy()"
      ],
      "execution_count": 40,
      "outputs": [
        {
          "output_type": "execute_result",
          "data": {
            "text/plain": [
              "array([[150.04312],\n",
              "       [185.68013],\n",
              "       [180.21996],\n",
              "       [195.46832],\n",
              "       [143.70714]], dtype=float32)"
            ]
          },
          "metadata": {
            "tags": []
          },
          "execution_count": 40
        }
      ]
    },
    {
      "cell_type": "code",
      "metadata": {
        "colab": {
          "base_uri": "https://localhost:8080/"
        },
        "id": "oRIWrCkw-852",
        "outputId": "96426a68-e571-4576-d730-a01a64c24513"
      },
      "source": [
        "#새로운 데이터에 대한 예측\r\n",
        "predict([[ 89.,  95.,  92.],[ 84.,  92.,  85.]]).numpy()"
      ],
      "execution_count": 41,
      "outputs": [
        {
          "output_type": "execute_result",
          "data": {
            "text/plain": [
              "array([[182.25742],\n",
              "       [172.0437 ]], dtype=float32)"
            ]
          },
          "metadata": {
            "tags": []
          },
          "execution_count": 41
        }
      ]
    },
    {
      "cell_type": "code",
      "metadata": {
        "id": "23vppaob_Lul"
      },
      "source": [
        ""
      ],
      "execution_count": null,
      "outputs": []
    }
  ]
}