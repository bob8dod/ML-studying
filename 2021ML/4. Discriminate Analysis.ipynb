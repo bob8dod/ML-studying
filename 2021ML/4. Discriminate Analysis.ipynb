{
  "nbformat": 4,
  "nbformat_minor": 0,
  "metadata": {
    "colab": {
      "name": "7주차(LDA,QDA).ipynb",
      "provenance": [],
      "collapsed_sections": [
        "IbPExz5iIP5i",
        "L6uUHgDaKqzN"
      ],
      "authorship_tag": "ABX9TyMQkCI7q3z0t4j8ZG1iUlmX",
      "include_colab_link": true
    },
    "kernelspec": {
      "name": "python3",
      "display_name": "Python 3"
    },
    "language_info": {
      "name": "python"
    }
  },
  "cells": [
    {
      "cell_type": "markdown",
      "metadata": {
        "id": "view-in-github",
        "colab_type": "text"
      },
      "source": [
        "<a href=\"https://colab.research.google.com/github/bob8dod/ML-studying/blob/main/2021ML/4.%20Discriminate%20Analysis.ipynb\" target=\"_parent\"><img src=\"https://colab.research.google.com/assets/colab-badge.svg\" alt=\"Open In Colab\"/></a>"
      ]
    },
    {
      "cell_type": "markdown",
      "metadata": {
        "id": "IbPExz5iIP5i"
      },
      "source": [
        "# **LDA(Linear Discriminate Analysis)**"
      ]
    },
    {
      "cell_type": "code",
      "metadata": {
        "id": "zQcoreLhDFOO"
      },
      "source": [
        "import seaborn as sns\n",
        "iris = sns.load_dataset('iris')\n",
        "x = iris.drop('species', axis=1)\n",
        "y = iris['species']"
      ],
      "execution_count": null,
      "outputs": []
    },
    {
      "cell_type": "code",
      "metadata": {
        "colab": {
          "base_uri": "https://localhost:8080/"
        },
        "id": "zkrASmU2DyG3",
        "outputId": "3eb9a0ad-1030-4ece-99b4-d379700b2701"
      },
      "source": [
        "from sklearn.preprocessing import LabelEncoder\n",
        "le = LabelEncoder()\n",
        "y_le = le.fit_transform(y)\n",
        "y_le[:,]"
      ],
      "execution_count": null,
      "outputs": [
        {
          "output_type": "execute_result",
          "data": {
            "text/plain": [
              "array([0, 0, 0, 0, 0, 0, 0, 0, 0, 0, 0, 0, 0, 0, 0, 0, 0, 0, 0, 0, 0, 0,\n",
              "       0, 0, 0, 0, 0, 0, 0, 0, 0, 0, 0, 0, 0, 0, 0, 0, 0, 0, 0, 0, 0, 0,\n",
              "       0, 0, 0, 0, 0, 0, 1, 1, 1, 1, 1, 1, 1, 1, 1, 1, 1, 1, 1, 1, 1, 1,\n",
              "       1, 1, 1, 1, 1, 1, 1, 1, 1, 1, 1, 1, 1, 1, 1, 1, 1, 1, 1, 1, 1, 1,\n",
              "       1, 1, 1, 1, 1, 1, 1, 1, 1, 1, 1, 1, 2, 2, 2, 2, 2, 2, 2, 2, 2, 2,\n",
              "       2, 2, 2, 2, 2, 2, 2, 2, 2, 2, 2, 2, 2, 2, 2, 2, 2, 2, 2, 2, 2, 2,\n",
              "       2, 2, 2, 2, 2, 2, 2, 2, 2, 2, 2, 2, 2, 2, 2, 2, 2, 2])"
            ]
          },
          "metadata": {
            "tags": []
          },
          "execution_count": 2
        }
      ]
    },
    {
      "cell_type": "code",
      "metadata": {
        "colab": {
          "base_uri": "https://localhost:8080/"
        },
        "id": "6K2pnhSXEEaj",
        "outputId": "40ed9ef2-2f13-4b14-929a-f7e6d7464c5f"
      },
      "source": [
        "from sklearn.model_selection import train_test_split\n",
        "x_train, x_test, y_train, y_test = train_test_split(x,y_le,test_size=0.3, random_state = 11, stratify=y_le)\n",
        "print('-----------[train_data]-----------')\n",
        "print(x_train.head())\n",
        "print('-----------[train_label]-----------')\n",
        "print(y_train[:5,])"
      ],
      "execution_count": null,
      "outputs": [
        {
          "output_type": "stream",
          "text": [
            "-----------[train_data]-----------\n",
            "    sepal_length  sepal_width  petal_length  petal_width\n",
            "5            5.4          3.9           1.7          0.4\n",
            "49           5.0          3.3           1.4          0.2\n",
            "8            4.4          2.9           1.4          0.2\n",
            "71           6.1          2.8           4.0          1.3\n",
            "55           5.7          2.8           4.5          1.3\n",
            "-----------[train_label]-----------\n",
            "[0 0 0 1 1]\n"
          ],
          "name": "stdout"
        }
      ]
    },
    {
      "cell_type": "code",
      "metadata": {
        "colab": {
          "base_uri": "https://localhost:8080/"
        },
        "id": "5qWzPlD0FTXM",
        "outputId": "621abf04-afdb-4e7c-c089-9616ca39a5cc"
      },
      "source": [
        "from sklearn.discriminant_analysis import LinearDiscriminantAnalysis\n",
        "lda = LinearDiscriminantAnalysis(store_covariance=True)\n",
        "#Default => store_covariance = False | n_components = 2 (n_components: min(n_classes-1, n_features))\n",
        "x_lda = lda.fit_transform(x_train, y_train)\n",
        "y_train_pred = lda.predict(x_train)\n",
        "y_test_pred = lda.predict(x_test)\n",
        "\n",
        "from sklearn.metrics import accuracy_score, confusion_matrix\n",
        "print(accuracy_score(y_train, y_train_pred))\n",
        "print(accuracy_score(y_test, y_test_pred))\n",
        "print(confusion_matrix(y_train, y_train_pred))\n",
        "print(confusion_matrix(y_test, y_test_pred))"
      ],
      "execution_count": null,
      "outputs": [
        {
          "output_type": "stream",
          "text": [
            "0.9809523809523809\n",
            "1.0\n",
            "[[35  0  0]\n",
            " [ 0 34  1]\n",
            " [ 0  1 34]]\n",
            "[[15  0  0]\n",
            " [ 0 15  0]\n",
            " [ 0  0 15]]\n"
          ],
          "name": "stdout"
        }
      ]
    },
    {
      "cell_type": "code",
      "metadata": {
        "colab": {
          "base_uri": "https://localhost:8080/"
        },
        "id": "HTJ0X7I-o1wk",
        "outputId": "e31f6505-b3dd-4ae2-e3ca-110bcae94764"
      },
      "source": [
        "lda.get_params().keys()"
      ],
      "execution_count": null,
      "outputs": [
        {
          "output_type": "execute_result",
          "data": {
            "text/plain": [
              "dict_keys(['n_components', 'priors', 'shrinkage', 'solver', 'store_covariance', 'tol'])"
            ]
          },
          "metadata": {
            "tags": []
          },
          "execution_count": 10
        }
      ]
    },
    {
      "cell_type": "code",
      "metadata": {
        "colab": {
          "base_uri": "https://localhost:8080/",
          "height": 298
        },
        "id": "rIFDZdgEIFWF",
        "outputId": "139bf2e5-fb1c-4aad-cf9e-ef5d5f75cf20"
      },
      "source": [
        "from matplotlib import pyplot as plt\n",
        "plt.xlabel('LD1')\n",
        "plt.ylabel('LD2')\n",
        "plt.scatter(\n",
        "    x_lda[:,0],\n",
        "    x_lda[:,1],\n",
        "    c=y_train,\n",
        "    cmap='rainbow',\n",
        "    alpha=0.7,\n",
        "    edgecolors='b'\n",
        ")"
      ],
      "execution_count": null,
      "outputs": [
        {
          "output_type": "execute_result",
          "data": {
            "text/plain": [
              "<matplotlib.collections.PathCollection at 0x7f6274f268d0>"
            ]
          },
          "metadata": {
            "tags": []
          },
          "execution_count": 5
        },
        {
          "output_type": "display_data",
          "data": {
            "image/png": "[encoded data removed]",
            "text/plain": [
              "<Figure size 432x288 with 1 Axes>"
            ]
          },
          "metadata": {
            "tags": [],
            "needs_background": "light"
          }
        }
      ]
    },
    {
      "cell_type": "code",
      "metadata": {
        "colab": {
          "base_uri": "https://localhost:8080/"
        },
        "id": "beNS4AmOIF5M",
        "outputId": "c9936010-2c8e-40bb-d96a-1cc39d53ef1b"
      },
      "source": [
        "print(lda.means_) #각각의 label들의 대한 각feature들의 평균값\n",
        "print()\n",
        "print(lda.xbar_) #전체 label들의 각 feature들의 평균값\n",
        "print()\n",
        "print(lda.covariance_) #각각의 label들의 대한 각 feature들의 공분산(모수)값\n",
        "print()\n",
        "print(lda.intercept_) #각각의 label들의 bias\n",
        "print()\n",
        "print(lda.coef_) #각각의 label들의 대한 각 feature들의 weight(?)"
      ],
      "execution_count": null,
      "outputs": [
        {
          "output_type": "stream",
          "text": [
            "[[4.97428571 3.39142857 1.44571429 0.25714286]\n",
            " [5.95142857 2.81428571 4.31714286 1.35428571]\n",
            " [6.62857143 2.97142857 5.56       2.01714286]]\n",
            "\n",
            "[5.85142857 3.05904762 3.77428571 1.20952381]\n",
            "\n",
            "[[0.23053061 0.08290612 0.13933605 0.02987211]\n",
            " [0.08290612 0.10782585 0.04700136 0.03273469]\n",
            " [0.13933605 0.04700136 0.1651483  0.04028571]\n",
            " [0.02987211 0.03273469 0.04028571 0.0453551 ]]\n",
            "\n",
            "[ -7.10125848  -3.99997738 -37.28768121]\n",
            "\n",
            "[[  3.99555946  12.32965892 -16.32587706 -17.42767211]\n",
            " [ -1.44265319  -4.02707202   4.92683191   2.58107612]\n",
            " [ -2.55290627  -8.3025869   11.39904515  14.84659599]]\n"
          ],
          "name": "stdout"
        }
      ]
    },
    {
      "cell_type": "markdown",
      "metadata": {
        "id": "L6uUHgDaKqzN"
      },
      "source": [
        "# **QDA(QaudraticDiscriminantAnalysis)**"
      ]
    },
    {
      "cell_type": "code",
      "metadata": {
        "id": "heMkCWtjI6QK"
      },
      "source": [
        "from sklearn.discriminant_analysis import QuadraticDiscriminantAnalysis\n",
        "qda = QuadraticDiscriminantAnalysis(store_covariance = True)\n",
        "qda.fit(x_train, y_train)\n",
        "#x_qda = qda.transform(x_train, y_train) #QDA는 transform이 없음,,, 그래서 그래프로 표현 불가 그래프로 표현 시 LDA를 통해 그래프 표현해야될 듯\n",
        "\n",
        "y_train_pred=qda.predict(x_train)\n",
        "y_test_pred=qda.predict(x_test)"
      ],
      "execution_count": null,
      "outputs": []
    },
    {
      "cell_type": "code",
      "metadata": {
        "colab": {
          "base_uri": "https://localhost:8080/"
        },
        "id": "gsYUHclsJfbV",
        "outputId": "8d414e4f-b8d0-4499-9915-00fa492c39ef"
      },
      "source": [
        "from sklearn.metrics import accuracy_score, confusion_matrix\n",
        "print(accuracy_score(y_train, y_train_pred))\n",
        "print(accuracy_score(y_test, y_test_pred))\n",
        "print(confusion_matrix(y_train, y_train_pred))\n",
        "print(confusion_matrix(y_test, y_test_pred))"
      ],
      "execution_count": null,
      "outputs": [
        {
          "output_type": "stream",
          "text": [
            "0.9904761904761905\n",
            "0.9777777777777777\n",
            "[[35  0  0]\n",
            " [ 0 34  1]\n",
            " [ 0  0 35]]\n",
            "[[15  0  0]\n",
            " [ 0 14  1]\n",
            " [ 0  0 15]]\n"
          ],
          "name": "stdout"
        }
      ]
    },
    {
      "cell_type": "code",
      "metadata": {
        "colab": {
          "base_uri": "https://localhost:8080/"
        },
        "id": "PsxauRg3KiLQ",
        "outputId": "34567096-4e67-479d-8cf4-7268724b89ed"
      },
      "source": [
        "print(qda.means_)\n",
        "print(qda.covariance_)"
      ],
      "execution_count": null,
      "outputs": [
        {
          "output_type": "stream",
          "text": [
            "[[4.97428571 3.39142857 1.44571429 0.25714286]\n",
            " [5.95142857 2.81428571 4.31714286 1.35428571]\n",
            " [6.62857143 2.97142857 5.56       2.01714286]]\n",
            "[array([[0.13078992, 0.09947899, 0.0147395 , 0.00945378],\n",
            "       [0.09947899, 0.13963025, 0.00922689, 0.0087395 ],\n",
            "       [0.0147395 , 0.00922689, 0.02431933, 0.00642857],\n",
            "       [0.00945378, 0.0087395 , 0.00642857, 0.01193277]]), array([[0.25904202, 0.08542017, 0.16056303, 0.05389076],\n",
            "       [0.08542017, 0.09714286, 0.08621849, 0.04861345],\n",
            "       [0.16056303, 0.08621849, 0.20381513, 0.07933613],\n",
            "       [0.05389076, 0.04861345, 0.07933613, 0.04314286]]), array([[0.32210084, 0.07113445, 0.255     , 0.02890756],\n",
            "       [0.07113445, 0.09621849, 0.04970588, 0.0437395 ],\n",
            "       [0.255     , 0.04970588, 0.28188235, 0.03864706],\n",
            "       [0.02890756, 0.0437395 , 0.03864706, 0.0849916 ]])]\n"
          ],
          "name": "stdout"
        }
      ]
    },
    {
      "cell_type": "code",
      "metadata": {
        "id": "qxlqhLfpKij-"
      },
      "source": [
        ""
      ],
      "execution_count": null,
      "outputs": []
    }
  ]
}