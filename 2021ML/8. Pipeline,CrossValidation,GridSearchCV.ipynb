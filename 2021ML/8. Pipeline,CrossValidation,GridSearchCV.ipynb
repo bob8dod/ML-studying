{
  "nbformat": 4,
  "nbformat_minor": 0,
  "metadata": {
    "colab": {
      "name": "[13주차]Pipeline,CrossValidation,GridSearchCV.ipynb",
      "provenance": [],
      "collapsed_sections": [
        "U-VWle5VYxCW",
        "O25n1M6NY4Xh",
        "yzel-O9zZ4jG",
        "aw92gyOabsYf"
      ],
      "authorship_tag": "ABX9TyMkZodRbeftpAZaN1cjZqlv",
      "include_colab_link": true
    },
    "kernelspec": {
      "name": "python3",
      "display_name": "Python 3"
    },
    "language_info": {
      "name": "python"
    }
  },
  "cells": [
    {
      "cell_type": "markdown",
      "metadata": {
        "id": "view-in-github",
        "colab_type": "text"
      },
      "source": [
        "<a href=\"https://colab.research.google.com/github/bob8dod/ML-studying/blob/main/2021ML/8.%20Pipeline%2CCrossValidation%2CGridSearchCV.ipynb\" target=\"_parent\"><img src=\"https://colab.research.google.com/assets/colab-badge.svg\" alt=\"Open In Colab\"/></a>"
      ]
    },
    {
      "cell_type": "markdown",
      "metadata": {
        "id": "U-VWle5VYxCW"
      },
      "source": [
        "# Piepline _ 내가 설정한 모델 만들기"
      ]
    },
    {
      "cell_type": "code",
      "metadata": {
        "id": "Xfj48YS4YCfW"
      },
      "source": [
        "from sklearn.datasets import load_breast_cancer\n",
        "cancer = load_breast_cancer()\n",
        "X = cancer.data\n",
        "Y = cancer.target\n",
        "\n",
        "from sklearn.model_selection import train_test_split\n",
        "X_train,X_test,Y_train,Y_test = train_test_split(X,Y,test_size=0.2, stratify=Y, random_state=1)"
      ],
      "execution_count": null,
      "outputs": []
    },
    {
      "cell_type": "code",
      "metadata": {
        "colab": {
          "base_uri": "https://localhost:8080/"
        },
        "id": "tOxuGQ1CYGIY",
        "outputId": "736506ee-14b4-47e7-b09b-a7b8e5a63706"
      },
      "source": [
        "from sklearn.preprocessing import StandardScaler\n",
        "from sklearn.decomposition import PCA\n",
        "from sklearn.linear_model import LogisticRegression\n",
        "\n",
        "from sklearn.pipeline import make_pipeline\n",
        "pipe = make_pipeline(StandardScaler(), PCA(n_components=4), LogisticRegression())\n",
        "pipe.fit(X_train,Y_train)\n",
        "pipe.score(X_test, Y_test) #이게 장점임, 원래는 test data에다가 일일히 다 전처리해줘야되는데 걍 pipe에 넣어주면 끝"
      ],
      "execution_count": null,
      "outputs": [
        {
          "output_type": "execute_result",
          "data": {
            "text/plain": [
              "0.9736842105263158"
            ]
          },
          "metadata": {
            "tags": []
          },
          "execution_count": 2
        }
      ]
    },
    {
      "cell_type": "code",
      "metadata": {
        "id": "rfqdK1CAu09G",
        "outputId": "84c0fcee-ea8a-435f-bbe8-e217dcb59a38",
        "colab": {
          "base_uri": "https://localhost:8080/"
        }
      },
      "source": [
        "pipe.get_params().keys()"
      ],
      "execution_count": null,
      "outputs": [
        {
          "output_type": "execute_result",
          "data": {
            "text/plain": [
              "dict_keys(['memory', 'steps', 'verbose', 'standardscaler', 'pca', 'logisticregression', 'standardscaler__copy', 'standardscaler__with_mean', 'standardscaler__with_std', 'pca__copy', 'pca__iterated_power', 'pca__n_components', 'pca__random_state', 'pca__svd_solver', 'pca__tol', 'pca__whiten', 'logisticregression__C', 'logisticregression__class_weight', 'logisticregression__dual', 'logisticregression__fit_intercept', 'logisticregression__intercept_scaling', 'logisticregression__l1_ratio', 'logisticregression__max_iter', 'logisticregression__multi_class', 'logisticregression__n_jobs', 'logisticregression__penalty', 'logisticregression__random_state', 'logisticregression__solver', 'logisticregression__tol', 'logisticregression__verbose', 'logisticregression__warm_start'])"
            ]
          },
          "metadata": {
            "tags": []
          },
          "execution_count": 3
        }
      ]
    },
    {
      "cell_type": "markdown",
      "metadata": {
        "id": "O25n1M6NY4Xh"
      },
      "source": [
        "# 교차검증"
      ]
    },
    {
      "cell_type": "code",
      "metadata": {
        "colab": {
          "base_uri": "https://localhost:8080/"
        },
        "id": "7mPONEjrYYak",
        "outputId": "4fb6b090-a307-4ac3-e04c-b19e062d66b8"
      },
      "source": [
        "import numpy as np\n",
        "from sklearn.model_selection import cross_validate\n",
        "scores = cross_validate(pipe, X_train, Y_train, cv=10, return_train_score=True) #k값, k개의 다른 검증데이터를 통해서 검증\n",
        "  /#return_train_score=True, default는 False 학습 과정에서 일어난 학습데이터의 accuracy를 return해주는 기능 -> 각각의 교차검증에서 일어나는 score를 확인할 수 있음 -> scores['train_score'] / score['test_score']\n",
        "print(scores.keys())"
      ],
      "execution_count": null,
      "outputs": [
        {
          "output_type": "stream",
          "text": [
            "dict_keys(['fit_time', 'score_time', 'test_score', 'train_score'])\n"
          ],
          "name": "stdout"
        }
      ]
    },
    {
      "cell_type": "code",
      "metadata": {
        "colab": {
          "base_uri": "https://localhost:8080/"
        },
        "id": "nkwJagzbZTSA",
        "outputId": "7808fec0-93c9-4541-c563-7e49191f6a3b"
      },
      "source": [
        "print('CV Train Accuracy scores: ', scores['train_score'])\n",
        "print('CV Train Accuracy: %.3f +/- %.3f' %(np.mean(scores['train_score']), np.std(scores['train_score'])))"
      ],
      "execution_count": null,
      "outputs": [
        {
          "output_type": "stream",
          "text": [
            "CV Train Accuracy scores:  [0.96577017 0.96577017 0.96577017 0.96577017 0.96821516 0.96585366\n",
            " 0.97073171 0.96829268 0.97560976 0.96585366]\n",
            "CV Train Accuracy: 0.968 +/- 0.003\n"
          ],
          "name": "stdout"
        }
      ]
    },
    {
      "cell_type": "code",
      "metadata": {
        "colab": {
          "base_uri": "https://localhost:8080/"
        },
        "id": "UbjYzCXZZf_V",
        "outputId": "54f5ae54-c607-47b3-dee0-d3a937267f04"
      },
      "source": [
        "print('CV Validation Accuracy scores: ', scores['test_score'])\n",
        "print('CV Validation Accuracy: %.3f +/- %.3f' %(np.mean(scores['test_score']), np.std(scores['test_score'])))"
      ],
      "execution_count": null,
      "outputs": [
        {
          "output_type": "stream",
          "text": [
            "CV Validation Accuracy scores:  [0.97826087 0.97826087 0.95652174 1.         0.95652174 0.97777778\n",
            " 0.93333333 0.95555556 0.91111111 1.        ]\n",
            "CV Validation Accuracy: 0.965 +/- 0.027\n"
          ],
          "name": "stdout"
        }
      ]
    },
    {
      "cell_type": "markdown",
      "metadata": {
        "id": "DuVKz4CSZ1uL"
      },
      "source": [
        "### 교차 검증 결과\n",
        "- 과대적합도 과소적합도 발생하지 않는다"
      ]
    },
    {
      "cell_type": "markdown",
      "metadata": {
        "id": "yzel-O9zZ4jG"
      },
      "source": [
        "# 최적의 모델 선정1(GridSearchCV + make_pipeline) _ 기초\n",
        "\n"
      ]
    },
    {
      "cell_type": "code",
      "metadata": {
        "colab": {
          "base_uri": "https://localhost:8080/"
        },
        "id": "UJskCVTUZwi3",
        "outputId": "7a80268c-81fd-42ed-ca8a-771107af22ca"
      },
      "source": [
        "from sklearn.model_selection import GridSearchCV\n",
        "param = {}\n",
        "clf = GridSearchCV(pipe, param,scoring='accuracy',cv=10) #여기서의 cv가 cross_validation : 교차검증\n",
        "clf.fit(X_train, Y_train)\n",
        "print(clf.cv_results_) #교차검증 결과를 확인\n",
        "best = clf.best_estimator_ #가장 좋은 성능을 보인 모델을 선정!!\n",
        "print(clf.score(X_train,Y_train)) #바로 score하거나 predict해도 best모델로 해줌\n",
        "print(best.score(X_train,Y_train)) \n",
        "print(best.score(X_test,Y_test))"
      ],
      "execution_count": null,
      "outputs": [
        {
          "output_type": "stream",
          "text": [
            "{'mean_fit_time': array([0.0096966]), 'std_fit_time': array([0.0030157]), 'mean_score_time': array([0.00078752]), 'std_score_time': array([3.18392726e-05]), 'params': [{}], 'split0_test_score': array([0.97826087]), 'split1_test_score': array([0.97826087]), 'split2_test_score': array([0.95652174]), 'split3_test_score': array([1.]), 'split4_test_score': array([0.95652174]), 'split5_test_score': array([0.97777778]), 'split6_test_score': array([0.93333333]), 'split7_test_score': array([0.95555556]), 'split8_test_score': array([0.91111111]), 'split9_test_score': array([1.]), 'mean_test_score': array([0.9647343]), 'std_test_score': array([0.02665336]), 'rank_test_score': array([1], dtype=int32)}\n",
            "0.967032967032967\n",
            "0.967032967032967\n",
            "0.9736842105263158\n"
          ],
          "name": "stdout"
        }
      ]
    },
    {
      "cell_type": "markdown",
      "metadata": {
        "id": "aw92gyOabsYf"
      },
      "source": [
        "# 최적의 모델 선정(GridSearchCV + Pipline, ParameterGrid) _ 심화"
      ]
    },
    {
      "cell_type": "code",
      "metadata": {
        "id": "H_Q8YCZccE4O"
      },
      "source": [
        "from sklearn.svm import SVC\n",
        "from sklearn.pipeline import Pipeline"
      ],
      "execution_count": null,
      "outputs": []
    },
    {
      "cell_type": "code",
      "metadata": {
        "id": "axMM5_goasM7"
      },
      "source": [
        "# 파라미터 Parsing\n",
        "from sklearn.pipeline import Pipeline\n",
        "estimators = [('normalization', StandardScaler()), ('clf', SVC())]\n",
        "pipeline = Pipeline(estimators)"
      ],
      "execution_count": null,
      "outputs": []
    },
    {
      "cell_type": "code",
      "metadata": {
        "colab": {
          "base_uri": "https://localhost:8080/"
        },
        "id": "oxHii3xycDsJ",
        "outputId": "63df6f1a-1c60-4e55-9c5a-d3586eb98166"
      },
      "source": [
        "#Parmeter_grid 생성해주기\n",
        "from sklearn.model_selection import ParameterGrid \n",
        "grid = [{'clf__kernel': [['linear']], 'clf__C': [[0.001], [0.01],[0.1],[1],[10], [100], [1000]]}, \n",
        "        {'clf__kernel': [['rbf']], 'clf__gamma': [[0.001], [0.01],[0.1],[1],[10], [100], [1000]], 'clf__C': [[0.001], [0.01],[0.1],[1],[10], [100], [1000]]}]\n",
        "# 언더바2개 __ 를 통해서 해당 속성과 연결해줌, \n",
        "grid_param = ParameterGrid(grid)\n",
        "list(grid_param) #설정한 파라미터를 통해서 나오는 모든 경우의 수를 보여줌"
      ],
      "execution_count": null,
      "outputs": [
        {
          "output_type": "execute_result",
          "data": {
            "text/plain": [
              "[{'clf__C': [0.001], 'clf__kernel': ['linear']},\n",
              " {'clf__C': [0.01], 'clf__kernel': ['linear']},\n",
              " {'clf__C': [0.1], 'clf__kernel': ['linear']},\n",
              " {'clf__C': [1], 'clf__kernel': ['linear']},\n",
              " {'clf__C': [10], 'clf__kernel': ['linear']},\n",
              " {'clf__C': [100], 'clf__kernel': ['linear']},\n",
              " {'clf__C': [1000], 'clf__kernel': ['linear']},\n",
              " {'clf__C': [0.001], 'clf__gamma': [0.001], 'clf__kernel': ['rbf']},\n",
              " {'clf__C': [0.001], 'clf__gamma': [0.01], 'clf__kernel': ['rbf']},\n",
              " {'clf__C': [0.001], 'clf__gamma': [0.1], 'clf__kernel': ['rbf']},\n",
              " {'clf__C': [0.001], 'clf__gamma': [1], 'clf__kernel': ['rbf']},\n",
              " {'clf__C': [0.001], 'clf__gamma': [10], 'clf__kernel': ['rbf']},\n",
              " {'clf__C': [0.001], 'clf__gamma': [100], 'clf__kernel': ['rbf']},\n",
              " {'clf__C': [0.001], 'clf__gamma': [1000], 'clf__kernel': ['rbf']},\n",
              " {'clf__C': [0.01], 'clf__gamma': [0.001], 'clf__kernel': ['rbf']},\n",
              " {'clf__C': [0.01], 'clf__gamma': [0.01], 'clf__kernel': ['rbf']},\n",
              " {'clf__C': [0.01], 'clf__gamma': [0.1], 'clf__kernel': ['rbf']},\n",
              " {'clf__C': [0.01], 'clf__gamma': [1], 'clf__kernel': ['rbf']},\n",
              " {'clf__C': [0.01], 'clf__gamma': [10], 'clf__kernel': ['rbf']},\n",
              " {'clf__C': [0.01], 'clf__gamma': [100], 'clf__kernel': ['rbf']},\n",
              " {'clf__C': [0.01], 'clf__gamma': [1000], 'clf__kernel': ['rbf']},\n",
              " {'clf__C': [0.1], 'clf__gamma': [0.001], 'clf__kernel': ['rbf']},\n",
              " {'clf__C': [0.1], 'clf__gamma': [0.01], 'clf__kernel': ['rbf']},\n",
              " {'clf__C': [0.1], 'clf__gamma': [0.1], 'clf__kernel': ['rbf']},\n",
              " {'clf__C': [0.1], 'clf__gamma': [1], 'clf__kernel': ['rbf']},\n",
              " {'clf__C': [0.1], 'clf__gamma': [10], 'clf__kernel': ['rbf']},\n",
              " {'clf__C': [0.1], 'clf__gamma': [100], 'clf__kernel': ['rbf']},\n",
              " {'clf__C': [0.1], 'clf__gamma': [1000], 'clf__kernel': ['rbf']},\n",
              " {'clf__C': [1], 'clf__gamma': [0.001], 'clf__kernel': ['rbf']},\n",
              " {'clf__C': [1], 'clf__gamma': [0.01], 'clf__kernel': ['rbf']},\n",
              " {'clf__C': [1], 'clf__gamma': [0.1], 'clf__kernel': ['rbf']},\n",
              " {'clf__C': [1], 'clf__gamma': [1], 'clf__kernel': ['rbf']},\n",
              " {'clf__C': [1], 'clf__gamma': [10], 'clf__kernel': ['rbf']},\n",
              " {'clf__C': [1], 'clf__gamma': [100], 'clf__kernel': ['rbf']},\n",
              " {'clf__C': [1], 'clf__gamma': [1000], 'clf__kernel': ['rbf']},\n",
              " {'clf__C': [10], 'clf__gamma': [0.001], 'clf__kernel': ['rbf']},\n",
              " {'clf__C': [10], 'clf__gamma': [0.01], 'clf__kernel': ['rbf']},\n",
              " {'clf__C': [10], 'clf__gamma': [0.1], 'clf__kernel': ['rbf']},\n",
              " {'clf__C': [10], 'clf__gamma': [1], 'clf__kernel': ['rbf']},\n",
              " {'clf__C': [10], 'clf__gamma': [10], 'clf__kernel': ['rbf']},\n",
              " {'clf__C': [10], 'clf__gamma': [100], 'clf__kernel': ['rbf']},\n",
              " {'clf__C': [10], 'clf__gamma': [1000], 'clf__kernel': ['rbf']},\n",
              " {'clf__C': [100], 'clf__gamma': [0.001], 'clf__kernel': ['rbf']},\n",
              " {'clf__C': [100], 'clf__gamma': [0.01], 'clf__kernel': ['rbf']},\n",
              " {'clf__C': [100], 'clf__gamma': [0.1], 'clf__kernel': ['rbf']},\n",
              " {'clf__C': [100], 'clf__gamma': [1], 'clf__kernel': ['rbf']},\n",
              " {'clf__C': [100], 'clf__gamma': [10], 'clf__kernel': ['rbf']},\n",
              " {'clf__C': [100], 'clf__gamma': [100], 'clf__kernel': ['rbf']},\n",
              " {'clf__C': [100], 'clf__gamma': [1000], 'clf__kernel': ['rbf']},\n",
              " {'clf__C': [1000], 'clf__gamma': [0.001], 'clf__kernel': ['rbf']},\n",
              " {'clf__C': [1000], 'clf__gamma': [0.01], 'clf__kernel': ['rbf']},\n",
              " {'clf__C': [1000], 'clf__gamma': [0.1], 'clf__kernel': ['rbf']},\n",
              " {'clf__C': [1000], 'clf__gamma': [1], 'clf__kernel': ['rbf']},\n",
              " {'clf__C': [1000], 'clf__gamma': [10], 'clf__kernel': ['rbf']},\n",
              " {'clf__C': [1000], 'clf__gamma': [100], 'clf__kernel': ['rbf']},\n",
              " {'clf__C': [1000], 'clf__gamma': [1000], 'clf__kernel': ['rbf']}]"
            ]
          },
          "metadata": {
            "tags": []
          },
          "execution_count": 27
        }
      ]
    },
    {
      "cell_type": "code",
      "metadata": {
        "colab": {
          "base_uri": "https://localhost:8080/"
        },
        "id": "7okhN-BNci5A",
        "outputId": "106a426c-13d4-46a9-ebcb-12a569b72fac"
      },
      "source": [
        "gs = GridSearchCV(pipeline, grid_param, scoring='accuracy', cv=10, n_jobs=1)\n",
        "gs.fit(X_train, Y_train)\n",
        "print(gs.score(X_train, Y_train))\n",
        "print(gs.score(X_test, Y_test))"
      ],
      "execution_count": null,
      "outputs": [
        {
          "output_type": "stream",
          "text": [
            "0.978021978021978\n",
            "0.9824561403508771\n"
          ],
          "name": "stdout"
        }
      ]
    },
    {
      "cell_type": "code",
      "metadata": {
        "colab": {
          "base_uri": "https://localhost:8080/"
        },
        "id": "RLxVoyX3c_Aa",
        "outputId": "bf362933-1f49-476e-f3d2-23f104bdc4e6"
      },
      "source": [
        "gs.best_score_ #??왜 score이랑 best score이랑 차이나는지 모르겠음"
      ],
      "execution_count": null,
      "outputs": [
        {
          "output_type": "execute_result",
          "data": {
            "text/plain": [
              "0.9758454106280192"
            ]
          },
          "metadata": {
            "tags": []
          },
          "execution_count": 29
        }
      ]
    },
    {
      "cell_type": "code",
      "metadata": {
        "colab": {
          "base_uri": "https://localhost:8080/"
        },
        "id": "bzXdofyTdI-b",
        "outputId": "c14b2573-b3ca-4c0e-db9a-f95aab57dcc4"
      },
      "source": [
        "gs.best_params_"
      ],
      "execution_count": null,
      "outputs": [
        {
          "output_type": "execute_result",
          "data": {
            "text/plain": [
              "{'clf__C': 10, 'clf__gamma': 0.001, 'clf__kernel': 'rbf'}"
            ]
          },
          "metadata": {
            "tags": []
          },
          "execution_count": 32
        }
      ]
    },
    {
      "cell_type": "code",
      "metadata": {
        "id": "vuEaEZ62dVdl"
      },
      "source": [
        ""
      ],
      "execution_count": null,
      "outputs": []
    }
  ]
}