{
  "nbformat": 4,
  "nbformat_minor": 0,
  "metadata": {
    "colab": {
      "name": "[12주차]PCA_차원축소.ipynb",
      "provenance": [],
      "collapsed_sections": [
        "1Cmxk5AIPKiE"
      ],
      "authorship_tag": "ABX9TyNWP6wkKdHvxkahQ/DdE+sp",
      "include_colab_link": true
    },
    "kernelspec": {
      "name": "python3",
      "display_name": "Python 3"
    },
    "language_info": {
      "name": "python"
    }
  },
  "cells": [
    {
      "cell_type": "markdown",
      "metadata": {
        "id": "view-in-github",
        "colab_type": "text"
      },
      "source": [
        "<a href=\"https://colab.research.google.com/github/bob8dod/ML-studying/blob/main/2021ML/7.%20Principal%20Component%20Analysis.ipynb\" target=\"_parent\"><img src=\"https://colab.research.google.com/assets/colab-badge.svg\" alt=\"Open In Colab\"/></a>"
      ]
    },
    {
      "cell_type": "markdown",
      "metadata": {
        "id": "DMNpRGCGLQx3"
      },
      "source": [
        "# 차원축소, 와인 종류 예측하기"
      ]
    },
    {
      "cell_type": "code",
      "metadata": {
        "id": "QHhFwKxsLVvI"
      },
      "source": [
        "#데이터 로드\n",
        "from sklearn.datasets import load_wine\n",
        "data = load_wine()\n",
        "X  = data.data\n",
        "Y = data.target\n",
        "\n",
        "from sklearn.model_selection import train_test_split\n",
        "x_train, x_test, y_train, y_test = train_test_split(X,Y,test_size=0.3,random_state=1,stratify=Y)\n",
        "\n",
        "from sklearn.preprocessing import StandardScaler\n",
        "std = StandardScaler()\n",
        "x_train = std.fit_transform(x_train)\n",
        "x_test = std.transform(x_test)"
      ],
      "execution_count": null,
      "outputs": []
    },
    {
      "cell_type": "code",
      "metadata": {
        "id": "aSCFz9okMBQp"
      },
      "source": [
        "#차원축소\n",
        "from sklearn.decomposition import PCA\n",
        "\n",
        "pca = PCA(n_components=4) #주요 하이퍼파라미터는 n_components, 몇개의 주성분으로 추출하여 축소할 것인가\n",
        "x_train_pca = pca.fit_transform(x_train)\n",
        "x_test_pca = pca.transform(x_test)"
      ],
      "execution_count": null,
      "outputs": []
    },
    {
      "cell_type": "code",
      "metadata": {
        "colab": {
          "base_uri": "https://localhost:8080/"
        },
        "id": "6ar03eOhMgBw",
        "outputId": "549f079f-59b9-47f3-c761-1a847c05cf03"
      },
      "source": [
        "from sklearn.linear_model import LogisticRegression\n",
        "\n",
        "lr = LogisticRegression()\n",
        "lr.fit(x_train_pca,y_train)\n",
        "lr.score(x_test_pca,y_test)"
      ],
      "execution_count": null,
      "outputs": [
        {
          "output_type": "execute_result",
          "data": {
            "text/plain": [
              "0.9629629629629629"
            ]
          },
          "metadata": {
            "tags": []
          },
          "execution_count": 29
        }
      ]
    },
    {
      "cell_type": "markdown",
      "metadata": {
        "id": "1Cmxk5AIPKiE"
      },
      "source": [
        "# n_components 구하기 -> elbow point!"
      ]
    },
    {
      "cell_type": "code",
      "metadata": {
        "colab": {
          "base_uri": "https://localhost:8080/"
        },
        "id": "p4s8KYEnM0xD",
        "outputId": "c9a75624-f933-4832-c5db-5bbfb6d73434"
      },
      "source": [
        "##중요##\n",
        "#PCA의 주축(component)개수 구하기 위한 분석\n",
        "import numpy as np\n",
        "cov = np.cov(x_train.T) #공분산 구하기\n",
        "eigen_vals, eigen_vecs = np.linalg.eig(cov) #아이겐벨류(분산), 아이겐벡터(기저) 구하기\n",
        "print('Eigenvalues \\n%s' %eigen_vals)"
      ],
      "execution_count": null,
      "outputs": [
        {
          "output_type": "stream",
          "text": [
            "Eigenvalues \n",
            "[4.7095539  2.63606471 1.55728758 0.93422662 0.85129454 0.5709688\n",
            " 0.46462025 0.37764772 0.10409155 0.14951983 0.21165109 0.2630501\n",
            " 0.27571434]\n"
          ],
          "name": "stdout"
        }
      ]
    },
    {
      "cell_type": "code",
      "metadata": {
        "colab": {
          "base_uri": "https://localhost:8080/",
          "height": 279
        },
        "id": "taKSUZXMOJSg",
        "outputId": "fddc7687-3e6d-44e6-d127-af6ea63c67dc"
      },
      "source": [
        "#Explained variance ratio\n",
        "total = sum(eigen_vals)\n",
        "var_exp = [(i / total) for i in sorted(eigen_vals, reverse=True)] # 해당 주성분으로 설명가능한 데이터 비율\n",
        "\n",
        "import matplotlib.pyplot as plt\n",
        "plt.bar(range(1,14), var_exp)\n",
        "plt.ylabel('Proportion of variance')\n",
        "plt.xlabel('Principal component')\n",
        "plt.show()\n"
      ],
      "execution_count": null,
      "outputs": [
        {
          "output_type": "display_data",
          "data": {
            "image/png": "[encoded data removed]",
            "text/plain": [
              "<Figure size 432x288 with 1 Axes>"
            ]
          },
          "metadata": {
            "tags": [],
            "needs_background": "light"
          }
        }
      ]
    },
    {
      "cell_type": "code",
      "metadata": {
        "id": "8qdG5TAnPCCY"
      },
      "source": [
        "# 이를 통해 n_component는 4or6이 되어야된다는것을 알 수 있음"
      ],
      "execution_count": null,
      "outputs": []
    }
  ]
}