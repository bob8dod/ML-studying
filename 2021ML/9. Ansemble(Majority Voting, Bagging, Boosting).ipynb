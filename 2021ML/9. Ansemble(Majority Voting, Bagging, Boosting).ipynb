{
  "nbformat": 4,
  "nbformat_minor": 0,
  "metadata": {
    "colab": {
      "name": "[14주차]앙상블.ipynb",
      "provenance": [],
      "collapsed_sections": [],
      "authorship_tag": "ABX9TyOo6t5ObjblMBbjdv3bTAVf",
      "include_colab_link": true
    },
    "kernelspec": {
      "name": "python3",
      "display_name": "Python 3"
    },
    "language_info": {
      "name": "python"
    }
  },
  "cells": [
    {
      "cell_type": "markdown",
      "metadata": {
        "id": "view-in-github",
        "colab_type": "text"
      },
      "source": [
        "<a href=\"https://colab.research.google.com/github/bob8dod/ML-studying/blob/main/2021ML/9.%20Ansemble(Majority%20Voting%2C%20Bagging%2C%20Boosting).ipynb\" target=\"_parent\"><img src=\"https://colab.research.google.com/assets/colab-badge.svg\" alt=\"Open In Colab\"/></a>"
      ]
    },
    {
      "cell_type": "code",
      "metadata": {
        "id": "ccI0xsmnrv3t"
      },
      "source": [
        "import pandas as pd\n",
        "import numpy as np"
      ],
      "execution_count": null,
      "outputs": []
    },
    {
      "cell_type": "code",
      "metadata": {
        "colab": {
          "base_uri": "https://localhost:8080/",
          "height": 143
        },
        "id": "JN8mNbDOsNas",
        "outputId": "6aff3312-4e60-4221-9d83-a43c9828cb71"
      },
      "source": [
        "bank_df = pd.read_csv('UniversalBank.csv')\n",
        "bank_df.head(3)"
      ],
      "execution_count": null,
      "outputs": [
        {
          "output_type": "execute_result",
          "data": {
            "text/html": [
              "\n",
              "  <div id=\"df-a9d87545-686f-40fd-a410-da7e247fbf73\">\n",
              "    <div class=\"colab-df-container\">\n",
              "      <div>\n",
              "<style scoped>\n",
              "    .dataframe tbody tr th:only-of-type {\n",
              "        vertical-align: middle;\n",
              "    }\n",
              "\n",
              "    .dataframe tbody tr th {\n",
              "        vertical-align: top;\n",
              "    }\n",
              "\n",
              "    .dataframe thead th {\n",
              "        text-align: right;\n",
              "    }\n",
              "</style>\n",
              "<table border=\"1\" class=\"dataframe\">\n",
              "  <thead>\n",
              "    <tr style=\"text-align: right;\">\n",
              "      <th></th>\n",
              "      <th>ID</th>\n",
              "      <th>Age</th>\n",
              "      <th>Experience</th>\n",
              "      <th>Income</th>\n",
              "      <th>ZIPCode</th>\n",
              "      <th>Family</th>\n",
              "      <th>CCAvg</th>\n",
              "      <th>Education</th>\n",
              "      <th>Mortgage</th>\n",
              "      <th>PersonalLoan</th>\n",
              "      <th>SecuritiesAccount</th>\n",
              "      <th>CDAccount</th>\n",
              "      <th>Online</th>\n",
              "      <th>CreditCard</th>\n",
              "    </tr>\n",
              "  </thead>\n",
              "  <tbody>\n",
              "    <tr>\n",
              "      <th>0</th>\n",
              "      <td>1</td>\n",
              "      <td>25</td>\n",
              "      <td>1</td>\n",
              "      <td>49</td>\n",
              "      <td>91107</td>\n",
              "      <td>4</td>\n",
              "      <td>1.6</td>\n",
              "      <td>1</td>\n",
              "      <td>0</td>\n",
              "      <td>0</td>\n",
              "      <td>1</td>\n",
              "      <td>0</td>\n",
              "      <td>0</td>\n",
              "      <td>0</td>\n",
              "    </tr>\n",
              "    <tr>\n",
              "      <th>1</th>\n",
              "      <td>2</td>\n",
              "      <td>45</td>\n",
              "      <td>19</td>\n",
              "      <td>34</td>\n",
              "      <td>90089</td>\n",
              "      <td>3</td>\n",
              "      <td>1.5</td>\n",
              "      <td>1</td>\n",
              "      <td>0</td>\n",
              "      <td>0</td>\n",
              "      <td>1</td>\n",
              "      <td>0</td>\n",
              "      <td>0</td>\n",
              "      <td>0</td>\n",
              "    </tr>\n",
              "    <tr>\n",
              "      <th>2</th>\n",
              "      <td>3</td>\n",
              "      <td>39</td>\n",
              "      <td>15</td>\n",
              "      <td>11</td>\n",
              "      <td>94720</td>\n",
              "      <td>1</td>\n",
              "      <td>1.0</td>\n",
              "      <td>1</td>\n",
              "      <td>0</td>\n",
              "      <td>0</td>\n",
              "      <td>0</td>\n",
              "      <td>0</td>\n",
              "      <td>0</td>\n",
              "      <td>0</td>\n",
              "    </tr>\n",
              "  </tbody>\n",
              "</table>\n",
              "</div>\n",
              "      <button class=\"colab-df-convert\" onclick=\"convertToInteractive('df-a9d87545-686f-40fd-a410-da7e247fbf73')\"\n",
              "              title=\"Convert this dataframe to an interactive table.\"\n",
              "              style=\"display:none;\">\n",
              "        \n",
              "  <svg xmlns=\"http://www.w3.org/2000/svg\" height=\"24px\"viewBox=\"0 0 24 24\"\n",
              "       width=\"24px\">\n",
              "    <path d=\"M0 0h24v24H0V0z\" fill=\"none\"/>\n",
              "    <path d=\"M18.56 5.44l.94 2.06.94-2.06 2.06-.94-2.06-.94-.94-2.06-.94 2.06-2.06.94zm-11 1L8.5 8.5l.94-2.06 2.06-.94-2.06-.94L8.5 2.5l-.94 2.06-2.06.94zm10 10l.94 2.06.94-2.06 2.06-.94-2.06-.94-.94-2.06-.94 2.06-2.06.94z\"/><path d=\"M17.41 7.96l-1.37-1.37c-.4-.4-.92-.59-1.43-.59-.52 0-1.04.2-1.43.59L10.3 9.45l-7.72 7.72c-.78.78-.78 2.05 0 2.83L4 21.41c.39.39.9.59 1.41.59.51 0 1.02-.2 1.41-.59l7.78-7.78 2.81-2.81c.8-.78.8-2.07 0-2.86zM5.41 20L4 18.59l7.72-7.72 1.47 1.35L5.41 20z\"/>\n",
              "  </svg>\n",
              "      </button>\n",
              "      \n",
              "  <style>\n",
              "    .colab-df-container {\n",
              "      display:flex;\n",
              "      flex-wrap:wrap;\n",
              "      gap: 12px;\n",
              "    }\n",
              "\n",
              "    .colab-df-convert {\n",
              "      background-color: #E8F0FE;\n",
              "      border: none;\n",
              "      border-radius: 50%;\n",
              "      cursor: pointer;\n",
              "      display: none;\n",
              "      fill: #1967D2;\n",
              "      height: 32px;\n",
              "      padding: 0 0 0 0;\n",
              "      width: 32px;\n",
              "    }\n",
              "\n",
              "    .colab-df-convert:hover {\n",
              "      background-color: #E2EBFA;\n",
              "      box-shadow: 0px 1px 2px rgba(60, 64, 67, 0.3), 0px 1px 3px 1px rgba(60, 64, 67, 0.15);\n",
              "      fill: #174EA6;\n",
              "    }\n",
              "\n",
              "    [theme=dark] .colab-df-convert {\n",
              "      background-color: #3B4455;\n",
              "      fill: #D2E3FC;\n",
              "    }\n",
              "\n",
              "    [theme=dark] .colab-df-convert:hover {\n",
              "      background-color: #434B5C;\n",
              "      box-shadow: 0px 1px 3px 1px rgba(0, 0, 0, 0.15);\n",
              "      filter: drop-shadow(0px 1px 2px rgba(0, 0, 0, 0.3));\n",
              "      fill: #FFFFFF;\n",
              "    }\n",
              "  </style>\n",
              "\n",
              "      <script>\n",
              "        const buttonEl =\n",
              "          document.querySelector('#df-a9d87545-686f-40fd-a410-da7e247fbf73 button.colab-df-convert');\n",
              "        buttonEl.style.display =\n",
              "          google.colab.kernel.accessAllowed ? 'block' : 'none';\n",
              "\n",
              "        async function convertToInteractive(key) {\n",
              "          const element = document.querySelector('#df-a9d87545-686f-40fd-a410-da7e247fbf73');\n",
              "          const dataTable =\n",
              "            await google.colab.kernel.invokeFunction('convertToInteractive',\n",
              "                                                     [key], {});\n",
              "          if (!dataTable) return;\n",
              "\n",
              "          const docLinkHtml = 'Like what you see? Visit the ' +\n",
              "            '<a target=\"_blank\" href=https://colab.research.google.com/notebooks/data_table.ipynb>data table notebook</a>'\n",
              "            + ' to learn more about interactive tables.';\n",
              "          element.innerHTML = '';\n",
              "          dataTable['output_type'] = 'display_data';\n",
              "          await google.colab.output.renderOutput(dataTable, element);\n",
              "          const docLink = document.createElement('div');\n",
              "          docLink.innerHTML = docLinkHtml;\n",
              "          element.appendChild(docLink);\n",
              "        }\n",
              "      </script>\n",
              "    </div>\n",
              "  </div>\n",
              "  "
            ],
            "text/plain": [
              "   ID  Age  Experience  ...  CDAccount  Online  CreditCard\n",
              "0   1   25           1  ...          0       0           0\n",
              "1   2   45          19  ...          0       0           0\n",
              "2   3   39          15  ...          0       0           0\n",
              "\n",
              "[3 rows x 14 columns]"
            ]
          },
          "metadata": {},
          "execution_count": 2
        }
      ]
    },
    {
      "cell_type": "code",
      "metadata": {
        "id": "bGeZHuKpsTqu"
      },
      "source": [
        "x = bank_df.drop(['ID','ZIPCode','PersonalLoan'], axis=1)\n",
        "y = bank_df['PersonalLoan']"
      ],
      "execution_count": null,
      "outputs": []
    },
    {
      "cell_type": "markdown",
      "metadata": {
        "id": "Wri3YsJ0z7fk"
      },
      "source": [
        "# Majority Voting (with Cross Validation, GridSearchCV) -> voting='soft'"
      ]
    },
    {
      "cell_type": "code",
      "metadata": {
        "id": "R_qcMd4Js1Vb"
      },
      "source": [
        "#학습에 사용되는 모델 개별 정의\n",
        "from sklearn.tree import DecisionTreeClassifier\n",
        "from sklearn.neighbors import KNeighborsClassifier\n",
        "from sklearn.linear_model import LogisticRegression\n",
        "\n",
        "logistic = LogisticRegression(solver='liblinear', penalty='l2', C=0.001, random_state=1)\n",
        "knn = KNeighborsClassifier(n_neighbors=5, p=2, metric='minkowski')\n",
        "tree = DecisionTreeClassifier(max_depth=None, criterion='entropy', random_state=1)"
      ],
      "execution_count": null,
      "outputs": []
    },
    {
      "cell_type": "code",
      "metadata": {
        "id": "7IUy487Btib2"
      },
      "source": [
        "#해당 모델들을 이용하는 Majority Voting 정의\n",
        "from sklearn.ensemble import VotingClassifier\n",
        "voting_estimators = [('logistic',logistic),('tree',tree),('knn',knn)]\n",
        "voting = VotingClassifier(estimators=voting_estimators, voting='soft')"
      ],
      "execution_count": null,
      "outputs": []
    },
    {
      "cell_type": "code",
      "metadata": {
        "colab": {
          "base_uri": "https://localhost:8080/"
        },
        "id": "CVPsR7Hut-F1",
        "outputId": "40e54dc9-35d6-4832-cb68-28107ea964b1"
      },
      "source": [
        "#voting을 쓰는 것이 옳은지 판단. (교차검증이용) -> 각각에 대하여 성능확인\n",
        "from sklearn.model_selection import cross_val_score\n",
        "clf_labels = ['DecisionTreeClassifier','KNeighborsClassifier', 'LogisticRegression', 'Majority voting']\n",
        "all_clf = [tree, knn, logistic, voting]\n",
        "for clf, label in zip(all_clf, clf_labels):\n",
        "    scores = cross_val_score(estimator=clf, X=x, y=y, cv=10, scoring='roc_auc')\n",
        "    print('[%s] ROC_AUC : %.4f  (+/-%.4f)' %(label, scores.mean(), scores.std()))"
      ],
      "execution_count": null,
      "outputs": [
        {
          "output_type": "stream",
          "name": "stdout",
          "text": [
            "[DecisionTreeClassifier] ROC_AUC : 0.9489  (+/-0.0194)\n",
            "[KNeighborsClassifier] ROC_AUC : 0.8803  (+/-0.0247)\n",
            "[LogisticRegression] ROC_AUC : 0.9301  (+/-0.0129)\n",
            "[Majority voting] ROC_AUC : 0.9800  (+/-0.0097)\n"
          ]
        }
      ]
    },
    {
      "cell_type": "code",
      "metadata": {
        "colab": {
          "base_uri": "https://localhost:8080/"
        },
        "id": "oBh_-FsJvlQB",
        "outputId": "921bb85f-d8a3-4c78-ef56-e2e37d2c796e"
      },
      "source": [
        "#voting이 best모델이므로 GridSearchCV를 통한 최적의 모델 및 파라미터 확인\n",
        "from sklearn.model_selection import GridSearchCV\n",
        "params = {'logistic__C':[0.001,0.1,100.0], #개별 모델에 대한 파라미터 설정\n",
        "          'tree__max_depth':[1,3,5],\n",
        "          'knn__n_neighbors':[1,3,5]}\n",
        "gs_cv = GridSearchCV(estimator = voting, param_grid=params, cv=10, scoring='roc_auc')\n",
        "gs_cv.fit(x, y)\n",
        "\n",
        "# for r, _ in enumerate(gs_cv.cv_results_['mean_test_score']): #각 경우의 수에 대한 성능 확인\n",
        "#     print(\"%0.3f +/- %0.3f %r\"\n",
        "#           % (gs_cv.cv_results_['mean_test_score'][r], \n",
        "#              gs_cv.cv_results_['std_test_score'][r] / 2.0, \n",
        "#              gs_cv.cv_results_['params'][r]))\n",
        "    \n",
        "print(gs_cv. best_params_) #결과의 최적의 파라미터\n",
        "print(gs_cv.best_score_) #결과의 최적의 성능 점수"
      ],
      "execution_count": null,
      "outputs": [
        {
          "output_type": "stream",
          "name": "stdout",
          "text": [
            "{'knn__n_neighbors': 5, 'logistic__C': 100.0, 'tree__max_depth': 5}\n",
            "0.986910029498525\n"
          ]
        }
      ]
    },
    {
      "cell_type": "markdown",
      "metadata": {
        "id": "QNXU3u_x1lnN"
      },
      "source": [
        "# Bagging -> n_estimator"
      ]
    },
    {
      "cell_type": "code",
      "metadata": {
        "id": "YbjvUnscxzkT"
      },
      "source": [
        "#bagging에 사용될 Classifier 선언 - Tree\n",
        "from sklearn.tree import DecisionTreeClassifier\n",
        "tree = DecisionTreeClassifier(max_depth=None, criterion='entropy',random_state=1)"
      ],
      "execution_count": null,
      "outputs": []
    },
    {
      "cell_type": "code",
      "metadata": {
        "id": "a2knz4v5165t"
      },
      "source": [
        "#해당 모델을 이용하는 Bagging 정의 (tree를 반복적으로 사용하는 것임)\n",
        "from sklearn.ensemble import BaggingClassifier\n",
        "bagging = BaggingClassifier(base_estimator=tree, n_estimators=100, max_samples=1.0,\n",
        "                            bootstrap=True, bootstrap_features= False,n_jobs=1, random_state=1)"
      ],
      "execution_count": null,
      "outputs": []
    },
    {
      "cell_type": "code",
      "metadata": {
        "colab": {
          "base_uri": "https://localhost:8080/"
        },
        "id": "idC2f3Nh3mRM",
        "outputId": "01219d15-c197-45ad-a5f7-ffec81b2488e"
      },
      "source": [
        "#ensemble을 사용할지 기존모델인 DecsionTree를 사용할지 비교 (평가)\n",
        "from sklearn.model_selection import cross_val_score\n",
        "clv_label = ['DecisionTree','Bagging']\n",
        "all_clv = [tree, bagging]\n",
        "for clv, label in zip(all_clv, clv_label):\n",
        "    score = cross_val_score(estimator=clv, X=x, y=y, scoring='roc_auc',cv=10)\n",
        "    print('[%s] ROC_AUC: %.4f' %(label, score.mean()))"
      ],
      "execution_count": null,
      "outputs": [
        {
          "output_type": "stream",
          "name": "stdout",
          "text": [
            "[DecisionTree] ROC_AUC: 0.9489\n",
            "[Bagging] ROC_AUC: 0.9972\n"
          ]
        }
      ]
    },
    {
      "cell_type": "code",
      "metadata": {
        "colab": {
          "base_uri": "https://localhost:8080/"
        },
        "id": "wuhFLBUK_Wuf",
        "outputId": "2192f56d-4aed-4dfe-f544-b5d76b4ee4bf"
      },
      "source": [
        "bagging.fit(x_train,y_train)\n",
        "bagging.score(x_test,y_test)"
      ],
      "execution_count": null,
      "outputs": [
        {
          "output_type": "execute_result",
          "data": {
            "text/plain": [
              "0.982"
            ]
          },
          "metadata": {
            "tags": []
          },
          "execution_count": 38
        }
      ]
    },
    {
      "cell_type": "code",
      "metadata": {
        "colab": {
          "base_uri": "https://localhost:8080/"
        },
        "id": "qmwRiF3q4uAU",
        "outputId": "01299afe-ba17-4408-95f5-b32dc85ba007"
      },
      "source": [
        "#Bagging이 더 성능이 좋기 때문에 Bagging에서 Tree의 파리마터를 자동으로 선택\n",
        "from sklearn.model_selection import GridSearchCV\n",
        "params = { 'base_estimator__max_depth':[None,1,3,5], 'base_estimator__criterion':['entropy', 'gini']} \n",
        "#bagging.get_params().keys()를 통해서 사용해야할 이름 (base_estimator__criterion,,,이런거  확인)\n",
        "grid = GridSearchCV(estimator=bagging, param_grid=params,cv=10, scoring='roc_auc')\n",
        "grid.fit(x, y)\n",
        "print(grid.best_params_)\n",
        "print(grid.best_score_)\n",
        "best_model = grid.best_estimator_ # 가장 좋은 성능을 낸 파라미터를 이용하여 새로운 모델로 정의"
      ],
      "execution_count": null,
      "outputs": [
        {
          "output_type": "stream",
          "name": "stdout",
          "text": [
            "{'base_estimator__criterion': 'gini', 'base_estimator__max_depth': 5}\n",
            "0.9976470317109143\n"
          ]
        }
      ]
    },
    {
      "cell_type": "markdown",
      "metadata": {
        "id": "XCyGcwKt9vPX"
      },
      "source": [
        "# AdaBoost -> n_estimators,learning_rate"
      ]
    },
    {
      "cell_type": "code",
      "metadata": {
        "id": "uoQtn4YA94o8"
      },
      "source": [
        "#boost에 사용될 모델 정의 (max_depth=1)\n",
        "from sklearn.tree import DecisionTreeClassifier\n",
        "tree = DecisionTreeClassifier(max_depth=None, criterion='entropy',random_state=1) #max_depth=1 인게 voting이랑 다름"
      ],
      "execution_count": null,
      "outputs": []
    },
    {
      "cell_type": "code",
      "metadata": {
        "id": "7bbj8jkRBMU1"
      },
      "source": [
        "from sklearn.ensemble import AdaBoostClassifier\n",
        "adaboost = AdaBoostClassifier(base_estimator=tree, n_estimators=100,\n",
        "                              learning_rate = 0.1, random_state=1) "
      ],
      "execution_count": null,
      "outputs": []
    },
    {
      "cell_type": "code",
      "metadata": {
        "colab": {
          "base_uri": "https://localhost:8080/"
        },
        "id": "2Lj9nWg6ByIV",
        "outputId": "467a7d01-1813-4fed-c7f4-d0af9e720c5e"
      },
      "source": [
        "#Ensemble사용과 Tree사용 비교\n",
        "from sklearn.model_selection import cross_val_score\n",
        "clf_labels = ['Decision Tree','AdaBoost']\n",
        "clf_all = [tree, adaboost]\n",
        "for clf, label in zip(clf_all, clf_labels):\n",
        "    scores = cross_val_score(estimator=clf, X=x, y=y, cv=10, scoring='roc_auc')\n",
        "    print('[%s] ROC_AUC : %.4f' %(label, scores.mean()))"
      ],
      "execution_count": null,
      "outputs": [
        {
          "output_type": "stream",
          "name": "stdout",
          "text": [
            "[Decision Tree] ROC_AUC : 0.9489\n",
            "[AdaBoost] ROC_AUC : 0.9479\n"
          ]
        }
      ]
    },
    {
      "cell_type": "code",
      "metadata": {
        "colab": {
          "base_uri": "https://localhost:8080/"
        },
        "id": "IwTImDD8C4oL",
        "outputId": "148b7438-86e8-44e3-e9e3-007e4a1dbb57"
      },
      "source": [
        "adaboost.get_params().keys()"
      ],
      "execution_count": null,
      "outputs": [
        {
          "output_type": "execute_result",
          "data": {
            "text/plain": [
              "dict_keys(['algorithm', 'base_estimator__ccp_alpha', 'base_estimator__class_weight', 'base_estimator__criterion', 'base_estimator__max_depth', 'base_estimator__max_features', 'base_estimator__max_leaf_nodes', 'base_estimator__min_impurity_decrease', 'base_estimator__min_samples_leaf', 'base_estimator__min_samples_split', 'base_estimator__min_weight_fraction_leaf', 'base_estimator__random_state', 'base_estimator__splitter', 'base_estimator', 'learning_rate', 'n_estimators', 'random_state'])"
            ]
          },
          "metadata": {},
          "execution_count": 32
        }
      ]
    },
    {
      "cell_type": "code",
      "metadata": {
        "colab": {
          "base_uri": "https://localhost:8080/"
        },
        "id": "75T1fKHWCnzo",
        "outputId": "77f33480-3f9d-4213-ec1d-26167700a8ef"
      },
      "source": [
        "#파리미터 자동 설정으로 성능 올리기\n",
        "from sklearn.model_selection import GridSearchCV\n",
        "params = {'base_estimator__criterion':['entropy', 'gini'], 'base_estimator__max_depth':[None,1,3,5]} \n",
        "grid = GridSearchCV(estimator=adaboost, param_grid=params, scoring='roc_auc', cv=10)\n",
        "grid.fit(x,y)\n",
        "print(grid.best_params_)\n",
        "print(grid.best_score_)"
      ],
      "execution_count": null,
      "outputs": [
        {
          "output_type": "stream",
          "name": "stdout",
          "text": [
            "{'base_estimator__criterion': 'entropy', 'base_estimator__max_depth': 3}\n",
            "0.9968058628318582\n"
          ]
        }
      ]
    },
    {
      "cell_type": "markdown",
      "metadata": {
        "id": "YCWiJSvdEBrT"
      },
      "source": [
        "# GBM(Gradient Bootsting) -> n_estimators, learning_rate"
      ]
    },
    {
      "cell_type": "code",
      "metadata": {
        "id": "qtFwN8pgD67Q"
      },
      "source": [
        "#Tree를 이용하거나 그러진않음\n",
        "from sklearn.ensemble import GradientBoostingClassifier\n",
        "gbm = GradientBoostingClassifier(n_estimators=500, learning_rate=0.5,random_state=1) \n",
        "#learning_rate가 영향을 많이 미침"
      ],
      "execution_count": null,
      "outputs": []
    },
    {
      "cell_type": "code",
      "metadata": {
        "colab": {
          "base_uri": "https://localhost:8080/"
        },
        "id": "B14SutcJE3HF",
        "outputId": "a0900074-9160-4292-b7c6-a08d54b0dea6"
      },
      "source": [
        "gbm.get_params().keys()"
      ],
      "execution_count": null,
      "outputs": [
        {
          "output_type": "execute_result",
          "data": {
            "text/plain": [
              "dict_keys(['ccp_alpha', 'criterion', 'init', 'learning_rate', 'loss', 'max_depth', 'max_features', 'max_leaf_nodes', 'min_impurity_decrease', 'min_samples_leaf', 'min_samples_split', 'min_weight_fraction_leaf', 'n_estimators', 'n_iter_no_change', 'random_state', 'subsample', 'tol', 'validation_fraction', 'verbose', 'warm_start'])"
            ]
          },
          "metadata": {},
          "execution_count": 24
        }
      ]
    },
    {
      "cell_type": "code",
      "metadata": {
        "colab": {
          "base_uri": "https://localhost:8080/"
        },
        "id": "gOx0KUEvEsbH",
        "outputId": "23118ca2-e0d8-4c0e-868e-e3efa212778a"
      },
      "source": [
        "#파리미터 자동 설정으로 성능 올리기\n",
        "from sklearn.model_selection import GridSearchCV\n",
        "params = {'learning_rate':[0.8,0.5,0.3], 'max_depth':[None,1,3,5]} \n",
        "grid = GridSearchCV(estimator=gbm, param_grid=params, scoring='roc_auc', cv=10)\n",
        "grid.fit(x,y)\n",
        "print(grid.best_params_)\n",
        "print(grid.best_score_)"
      ],
      "execution_count": null,
      "outputs": [
        {
          "output_type": "stream",
          "name": "stdout",
          "text": [
            "{'learning_rate': 0.3, 'max_depth': 5}\n",
            "0.9977599557522124\n"
          ]
        }
      ]
    },
    {
      "cell_type": "code",
      "metadata": {
        "colab": {
          "base_uri": "https://localhost:8080/"
        },
        "id": "9hV_SM_mGlJn",
        "outputId": "b21e0c14-2714-4f14-c080-32dd86de5b7f"
      },
      "source": [
        "best_model.score(x_test,y_test)"
      ],
      "execution_count": null,
      "outputs": [
        {
          "output_type": "execute_result",
          "data": {
            "text/plain": [
              "0.986"
            ]
          },
          "metadata": {
            "tags": []
          },
          "execution_count": 78
        }
      ]
    },
    {
      "cell_type": "markdown",
      "metadata": {
        "id": "poXsknguH67X"
      },
      "source": [
        "# Light GBM -> n_estimators, learning_rate"
      ]
    },
    {
      "cell_type": "code",
      "metadata": {
        "colab": {
          "base_uri": "https://localhost:8080/"
        },
        "id": "QB4kaqTmHI66",
        "outputId": "0fcb6839-4643-494d-946b-f168e52df84c"
      },
      "source": [
        "from lightgbm import LGBMClassifier\n",
        "lgbm = LGBMClassifier(n_estimator=100, learning_rate=0.5, random_state=1)\n",
        "lgbm.fit(x,y)"
      ],
      "execution_count": null,
      "outputs": [
        {
          "output_type": "execute_result",
          "data": {
            "text/plain": [
              "LGBMClassifier(learning_rate=0.5, n_estimator=100, random_state=1)"
            ]
          },
          "metadata": {},
          "execution_count": 52
        }
      ]
    },
    {
      "cell_type": "code",
      "source": [
        "#파리미터 자동 설정으로 성능 올리기\n",
        "from sklearn.model_selection import GridSearchCV\n",
        "params = {'learning_rate':[0.8,0.5,0.3], 'max_depth':[None,1,3,5]} \n",
        "grid = GridSearchCV(estimator=lgbm, param_grid=params, scoring='roc_auc', cv=10)\n",
        "grid.fit(x,y)\n",
        "print(grid.best_params_)\n",
        "print(grid.best_score_)"
      ],
      "metadata": {
        "colab": {
          "base_uri": "https://localhost:8080/"
        },
        "id": "0ts9QJIvqrY4",
        "outputId": "bcb1a579-88ec-4422-eb34-d87b54a28081"
      },
      "execution_count": null,
      "outputs": [
        {
          "output_type": "stream",
          "name": "stdout",
          "text": [
            "{'learning_rate': 0.3, 'max_depth': None}\n",
            "0.9981102507374631\n"
          ]
        }
      ]
    },
    {
      "cell_type": "code",
      "source": [
        ""
      ],
      "metadata": {
        "id": "OnXVAruaqu3g"
      },
      "execution_count": null,
      "outputs": []
    }
  ]
}