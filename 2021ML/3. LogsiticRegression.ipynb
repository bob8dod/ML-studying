{
  "nbformat": 4,
  "nbformat_minor": 0,
  "metadata": {
    "colab": {
      "name": "6주차(LogsiticRegression).ipynb",
      "provenance": [],
      "collapsed_sections": [
        "XmXPgp9zEUVa",
        "L539J8Z-EffX"
      ],
      "authorship_tag": "ABX9TyMpYv1U6AZKsVAZ8+892je8",
      "include_colab_link": true
    },
    "kernelspec": {
      "name": "python3",
      "display_name": "Python 3"
    },
    "language_info": {
      "name": "python"
    }
  },
  "cells": [
    {
      "cell_type": "markdown",
      "metadata": {
        "id": "view-in-github",
        "colab_type": "text"
      },
      "source": [
        "<a href=\"https://colab.research.google.com/github/bob8dod/ML-studying/blob/main/2021ML/3.%20LogsiticRegression.ipynb\" target=\"_parent\"><img src=\"https://colab.research.google.com/assets/colab-badge.svg\" alt=\"Open In Colab\"/></a>"
      ]
    },
    {
      "cell_type": "markdown",
      "metadata": {
        "id": "XmXPgp9zEUVa"
      },
      "source": [
        "# **iris데이터 LogisticRegression으로 학습하기**"
      ]
    },
    {
      "cell_type": "code",
      "metadata": {
        "colab": {
          "base_uri": "https://localhost:8080/",
          "height": 203
        },
        "id": "i1eGP1Re6nOH",
        "outputId": "71035600-b3de-417c-a8d3-0820d475e925"
      },
      "source": [
        "import seaborn as sns\n",
        "iris = sns.load_dataset('iris')\n",
        "iris.head()"
      ],
      "execution_count": null,
      "outputs": [
        {
          "output_type": "execute_result",
          "data": {
            "text/html": [
              "<div>\n",
              "<style scoped>\n",
              "    .dataframe tbody tr th:only-of-type {\n",
              "        vertical-align: middle;\n",
              "    }\n",
              "\n",
              "    .dataframe tbody tr th {\n",
              "        vertical-align: top;\n",
              "    }\n",
              "\n",
              "    .dataframe thead th {\n",
              "        text-align: right;\n",
              "    }\n",
              "</style>\n",
              "<table border=\"1\" class=\"dataframe\">\n",
              "  <thead>\n",
              "    <tr style=\"text-align: right;\">\n",
              "      <th></th>\n",
              "      <th>sepal_length</th>\n",
              "      <th>sepal_width</th>\n",
              "      <th>petal_length</th>\n",
              "      <th>petal_width</th>\n",
              "      <th>species</th>\n",
              "    </tr>\n",
              "  </thead>\n",
              "  <tbody>\n",
              "    <tr>\n",
              "      <th>0</th>\n",
              "      <td>5.1</td>\n",
              "      <td>3.5</td>\n",
              "      <td>1.4</td>\n",
              "      <td>0.2</td>\n",
              "      <td>setosa</td>\n",
              "    </tr>\n",
              "    <tr>\n",
              "      <th>1</th>\n",
              "      <td>4.9</td>\n",
              "      <td>3.0</td>\n",
              "      <td>1.4</td>\n",
              "      <td>0.2</td>\n",
              "      <td>setosa</td>\n",
              "    </tr>\n",
              "    <tr>\n",
              "      <th>2</th>\n",
              "      <td>4.7</td>\n",
              "      <td>3.2</td>\n",
              "      <td>1.3</td>\n",
              "      <td>0.2</td>\n",
              "      <td>setosa</td>\n",
              "    </tr>\n",
              "    <tr>\n",
              "      <th>3</th>\n",
              "      <td>4.6</td>\n",
              "      <td>3.1</td>\n",
              "      <td>1.5</td>\n",
              "      <td>0.2</td>\n",
              "      <td>setosa</td>\n",
              "    </tr>\n",
              "    <tr>\n",
              "      <th>4</th>\n",
              "      <td>5.0</td>\n",
              "      <td>3.6</td>\n",
              "      <td>1.4</td>\n",
              "      <td>0.2</td>\n",
              "      <td>setosa</td>\n",
              "    </tr>\n",
              "  </tbody>\n",
              "</table>\n",
              "</div>"
            ],
            "text/plain": [
              "   sepal_length  sepal_width  petal_length  petal_width species\n",
              "0           5.1          3.5           1.4          0.2  setosa\n",
              "1           4.9          3.0           1.4          0.2  setosa\n",
              "2           4.7          3.2           1.3          0.2  setosa\n",
              "3           4.6          3.1           1.5          0.2  setosa\n",
              "4           5.0          3.6           1.4          0.2  setosa"
            ]
          },
          "metadata": {
            "tags": []
          },
          "execution_count": 1
        }
      ]
    },
    {
      "cell_type": "code",
      "metadata": {
        "id": "rZ_F0eXgBF_I"
      },
      "source": [
        "x = iris.drop('species', axis=1)\n",
        "y = iris['species']"
      ],
      "execution_count": null,
      "outputs": []
    },
    {
      "cell_type": "code",
      "metadata": {
        "colab": {
          "base_uri": "https://localhost:8080/"
        },
        "id": "KGutcHSFBeuX",
        "outputId": "55cfe13f-8b84-4208-c1c4-2e8645a15137"
      },
      "source": [
        "from sklearn.preprocessing import LabelEncoder\n",
        "import numpy as np\n",
        "le = LabelEncoder()\n",
        "y_le = le.fit_transform(y)\n",
        "print(np.unique(y_le))"
      ],
      "execution_count": null,
      "outputs": [
        {
          "output_type": "stream",
          "text": [
            "[0 1 2]\n"
          ],
          "name": "stdout"
        }
      ]
    },
    {
      "cell_type": "code",
      "metadata": {
        "colab": {
          "base_uri": "https://localhost:8080/"
        },
        "id": "IB64EUFvBwBV",
        "outputId": "437f3cec-cb9e-475e-8bf1-69401fecfddc"
      },
      "source": [
        "from sklearn.model_selection import train_test_split\n",
        "x_train, x_test, y_train, y_test = train_test_split(x,y_le,test_size=0.3,random_state=11,stratify=y)\n",
        "print(x_train.shape)\n",
        "print(x_test.shape)\n",
        "print(y_train.shape)\n",
        "print(y_test.shape)"
      ],
      "execution_count": null,
      "outputs": [
        {
          "output_type": "stream",
          "text": [
            "(105, 4)\n",
            "(45, 4)\n",
            "(105,)\n",
            "(45,)\n"
          ],
          "name": "stdout"
        }
      ]
    },
    {
      "cell_type": "code",
      "metadata": {
        "id": "6uOD-0TECd66"
      },
      "source": [
        "from sklearn.preprocessing import StandardScaler\n",
        "std = StandardScaler()\n",
        "std.fit(x_train)\n",
        "x_train_std = std.transform(x_train)\n",
        "x_test_std = std.transform(x_test)"
      ],
      "execution_count": null,
      "outputs": []
    },
    {
      "cell_type": "code",
      "metadata": {
        "colab": {
          "base_uri": "https://localhost:8080/"
        },
        "id": "GDDmHuh3C1hd",
        "outputId": "8ad1d9de-ee0a-4733-b791-1676276d225e"
      },
      "source": [
        "x_train_std[:5,:]"
      ],
      "execution_count": null,
      "outputs": [
        {
          "output_type": "execute_result",
          "data": {
            "text/plain": [
              "array([[-0.54281112,  2.05673901, -1.17175955, -1.07027095],\n",
              "       [-1.023783  ,  0.58930348, -1.3412289 , -1.33469084],\n",
              "       [-1.74524081, -0.38898688, -1.3412289 , -1.33469084],\n",
              "       [ 0.29888967, -0.63355947,  0.12750552,  0.11961852],\n",
              "       [-0.18208221, -0.63355947,  0.40995444,  0.11961852]])"
            ]
          },
          "metadata": {
            "tags": []
          },
          "execution_count": 6
        }
      ]
    },
    {
      "cell_type": "code",
      "metadata": {
        "colab": {
          "base_uri": "https://localhost:8080/"
        },
        "id": "rGc7RjCDC5HH",
        "outputId": "ac54534f-0b5c-49f8-ce29-16e57c5f57b3"
      },
      "source": [
        "from sklearn.linear_model import LogisticRegression\n",
        "logit = LogisticRegression(C=200, random_state=11) #L2, auto\n",
        "logit.fit(x_train_std, y_train)"
      ],
      "execution_count": null,
      "outputs": [
        {
          "output_type": "execute_result",
          "data": {
            "text/plain": [
              "LogisticRegression(C=200, class_weight=None, dual=False, fit_intercept=True,\n",
              "                   intercept_scaling=1, l1_ratio=None, max_iter=100,\n",
              "                   multi_class='auto', n_jobs=None, penalty='l2',\n",
              "                   random_state=11, solver='lbfgs', tol=0.0001, verbose=0,\n",
              "                   warm_start=False)"
            ]
          },
          "metadata": {
            "tags": []
          },
          "execution_count": 7
        }
      ]
    },
    {
      "cell_type": "code",
      "metadata": {
        "id": "-DxJWkabDfGg"
      },
      "source": [
        "y_train_pred = logit.predict(x_train_std)\n",
        "y_test_pred = logit.predict(x_test_std)"
      ],
      "execution_count": null,
      "outputs": []
    },
    {
      "cell_type": "code",
      "metadata": {
        "colab": {
          "base_uri": "https://localhost:8080/"
        },
        "id": "2NuEitppDYyK",
        "outputId": "b47c142b-d441-4aeb-aec1-22bb6f0ea533"
      },
      "source": [
        "from sklearn.metrics import accuracy_score, confusion_matrix\n",
        "print(accuracy_score(y_train,y_train_pred)*100)\n",
        "print(confusion_matrix(y_train,y_train_pred))\n",
        "\n",
        "print(accuracy_score(y_test,y_test_pred)*100)\n",
        "print(confusion_matrix(y_test,y_test_pred))"
      ],
      "execution_count": null,
      "outputs": [
        {
          "output_type": "stream",
          "text": [
            "98.09523809523809\n",
            "[[35  0  0]\n",
            " [ 0 34  1]\n",
            " [ 0  1 34]]\n",
            "100.0\n",
            "[[15  0  0]\n",
            " [ 0 15  0]\n",
            " [ 0  0 15]]\n"
          ],
          "name": "stdout"
        }
      ]
    },
    {
      "cell_type": "markdown",
      "metadata": {
        "id": "L539J8Z-EffX"
      },
      "source": [
        "# **LogisticRegression \"regularization값\"에 따른 정확도 측정**"
      ]
    },
    {
      "cell_type": "code",
      "metadata": {
        "id": "KDRRjgKkEuRN"
      },
      "source": [
        "import pandas as pd\n",
        "import numpy as np"
      ],
      "execution_count": null,
      "outputs": []
    },
    {
      "cell_type": "code",
      "metadata": {
        "colab": {
          "base_uri": "https://localhost:8080/",
          "height": 203
        },
        "id": "rSePoVLeMGht",
        "outputId": "0b0f6e75-6ef5-4b1b-99b4-c1cb391aae4a"
      },
      "source": [
        "wine = pd.read_csv('http://archive.ics.uci.edu/ml/machine-learning-databases/'\n",
        "                     'wine/wine.data', names=['class label', 'alchohol', 'malic acid', 'ash', \n",
        "                    'alcalinity of ash', 'magnesium', 'total phenols', \n",
        "                    'flavanoids', 'nonflavanoid phenols', \n",
        "                    'proanthocyanins', 'color intensity', 'hue', \n",
        "                    'OD208', 'proline'])\n",
        "#wine.columns = ['class label','alchohol',,,]\n",
        "wine.head()"
      ],
      "execution_count": null,
      "outputs": [
        {
          "output_type": "execute_result",
          "data": {
            "text/html": [
              "<div>\n",
              "<style scoped>\n",
              "    .dataframe tbody tr th:only-of-type {\n",
              "        vertical-align: middle;\n",
              "    }\n",
              "\n",
              "    .dataframe tbody tr th {\n",
              "        vertical-align: top;\n",
              "    }\n",
              "\n",
              "    .dataframe thead th {\n",
              "        text-align: right;\n",
              "    }\n",
              "</style>\n",
              "<table border=\"1\" class=\"dataframe\">\n",
              "  <thead>\n",
              "    <tr style=\"text-align: right;\">\n",
              "      <th></th>\n",
              "      <th>class label</th>\n",
              "      <th>alchohol</th>\n",
              "      <th>malic acid</th>\n",
              "      <th>ash</th>\n",
              "      <th>alcalinity of ash</th>\n",
              "      <th>magnesium</th>\n",
              "      <th>total phenols</th>\n",
              "      <th>flavanoids</th>\n",
              "      <th>nonflavanoid phenols</th>\n",
              "      <th>proanthocyanins</th>\n",
              "      <th>color intensity</th>\n",
              "      <th>hue</th>\n",
              "      <th>OD208</th>\n",
              "      <th>proline</th>\n",
              "    </tr>\n",
              "  </thead>\n",
              "  <tbody>\n",
              "    <tr>\n",
              "      <th>0</th>\n",
              "      <td>1</td>\n",
              "      <td>14.23</td>\n",
              "      <td>1.71</td>\n",
              "      <td>2.43</td>\n",
              "      <td>15.6</td>\n",
              "      <td>127</td>\n",
              "      <td>2.80</td>\n",
              "      <td>3.06</td>\n",
              "      <td>0.28</td>\n",
              "      <td>2.29</td>\n",
              "      <td>5.64</td>\n",
              "      <td>1.04</td>\n",
              "      <td>3.92</td>\n",
              "      <td>1065</td>\n",
              "    </tr>\n",
              "    <tr>\n",
              "      <th>1</th>\n",
              "      <td>1</td>\n",
              "      <td>13.20</td>\n",
              "      <td>1.78</td>\n",
              "      <td>2.14</td>\n",
              "      <td>11.2</td>\n",
              "      <td>100</td>\n",
              "      <td>2.65</td>\n",
              "      <td>2.76</td>\n",
              "      <td>0.26</td>\n",
              "      <td>1.28</td>\n",
              "      <td>4.38</td>\n",
              "      <td>1.05</td>\n",
              "      <td>3.40</td>\n",
              "      <td>1050</td>\n",
              "    </tr>\n",
              "    <tr>\n",
              "      <th>2</th>\n",
              "      <td>1</td>\n",
              "      <td>13.16</td>\n",
              "      <td>2.36</td>\n",
              "      <td>2.67</td>\n",
              "      <td>18.6</td>\n",
              "      <td>101</td>\n",
              "      <td>2.80</td>\n",
              "      <td>3.24</td>\n",
              "      <td>0.30</td>\n",
              "      <td>2.81</td>\n",
              "      <td>5.68</td>\n",
              "      <td>1.03</td>\n",
              "      <td>3.17</td>\n",
              "      <td>1185</td>\n",
              "    </tr>\n",
              "    <tr>\n",
              "      <th>3</th>\n",
              "      <td>1</td>\n",
              "      <td>14.37</td>\n",
              "      <td>1.95</td>\n",
              "      <td>2.50</td>\n",
              "      <td>16.8</td>\n",
              "      <td>113</td>\n",
              "      <td>3.85</td>\n",
              "      <td>3.49</td>\n",
              "      <td>0.24</td>\n",
              "      <td>2.18</td>\n",
              "      <td>7.80</td>\n",
              "      <td>0.86</td>\n",
              "      <td>3.45</td>\n",
              "      <td>1480</td>\n",
              "    </tr>\n",
              "    <tr>\n",
              "      <th>4</th>\n",
              "      <td>1</td>\n",
              "      <td>13.24</td>\n",
              "      <td>2.59</td>\n",
              "      <td>2.87</td>\n",
              "      <td>21.0</td>\n",
              "      <td>118</td>\n",
              "      <td>2.80</td>\n",
              "      <td>2.69</td>\n",
              "      <td>0.39</td>\n",
              "      <td>1.82</td>\n",
              "      <td>4.32</td>\n",
              "      <td>1.04</td>\n",
              "      <td>2.93</td>\n",
              "      <td>735</td>\n",
              "    </tr>\n",
              "  </tbody>\n",
              "</table>\n",
              "</div>"
            ],
            "text/plain": [
              "   class label  alchohol  malic acid  ...   hue  OD208  proline\n",
              "0            1     14.23        1.71  ...  1.04   3.92     1065\n",
              "1            1     13.20        1.78  ...  1.05   3.40     1050\n",
              "2            1     13.16        2.36  ...  1.03   3.17     1185\n",
              "3            1     14.37        1.95  ...  0.86   3.45     1480\n",
              "4            1     13.24        2.59  ...  1.04   2.93      735\n",
              "\n",
              "[5 rows x 14 columns]"
            ]
          },
          "metadata": {
            "tags": []
          },
          "execution_count": 11
        }
      ]
    },
    {
      "cell_type": "code",
      "metadata": {
        "colab": {
          "base_uri": "https://localhost:8080/"
        },
        "id": "xIx7lrV6MbIk",
        "outputId": "423e0ab5-2fb2-4bdc-91b1-e8f9dea3895f"
      },
      "source": [
        "x = wine.drop('class label', axis=1)\n",
        "y = wine['class label']\n",
        "#x, y = dat_wine.iloc[:,1:].values, dat_wine.iloc[:,0].values\n",
        "print(x.head())\n",
        "print('-----------------------------')\n",
        "print(y.head())\n",
        "print(np.unique(y))"
      ],
      "execution_count": null,
      "outputs": [
        {
          "output_type": "stream",
          "text": [
            "   alchohol  malic acid   ash  ...   hue  OD208  proline\n",
            "0     14.23        1.71  2.43  ...  1.04   3.92     1065\n",
            "1     13.20        1.78  2.14  ...  1.05   3.40     1050\n",
            "2     13.16        2.36  2.67  ...  1.03   3.17     1185\n",
            "3     14.37        1.95  2.50  ...  0.86   3.45     1480\n",
            "4     13.24        2.59  2.87  ...  1.04   2.93      735\n",
            "\n",
            "[5 rows x 13 columns]\n",
            "-----------------------------\n",
            "0    1\n",
            "1    1\n",
            "2    1\n",
            "3    1\n",
            "4    1\n",
            "Name: class label, dtype: int64\n",
            "[1 2 3]\n"
          ],
          "name": "stdout"
        }
      ]
    },
    {
      "cell_type": "code",
      "metadata": {
        "id": "UnwexVy-NM_R"
      },
      "source": [
        "from sklearn.model_selection import train_test_split\n",
        "x_train, x_test, y_train, y_test = train_test_split(x,y,test_size=0.3,random_state=11,stratify=y)"
      ],
      "execution_count": null,
      "outputs": []
    },
    {
      "cell_type": "code",
      "metadata": {
        "colab": {
          "base_uri": "https://localhost:8080/"
        },
        "id": "quGtUn_PN7LU",
        "outputId": "c9ca39fe-2ee2-4dae-b7da-fd70d4d7b4f3"
      },
      "source": [
        "from sklearn.preprocessing import StandardScaler\n",
        "std = StandardScaler()\n",
        "std.fit(x_train)\n",
        "x_train_std = std.transform(x_train)\n",
        "x_test_std = std.transform(x_test)\n",
        "print(x_train_std[:5,])\n",
        "print('-----------------------------')\n",
        "print(x_test_std[:5,])"
      ],
      "execution_count": null,
      "outputs": [
        {
          "output_type": "stream",
          "text": [
            "[[-1.19559007  0.90215966 -1.36350298 -0.1231367  -0.92476899 -0.52780615\n",
            "  -0.41948853  0.17676169  0.47356473 -1.69888925 -0.14320198  0.56044389\n",
            "  -0.6101467 ]\n",
            " [ 0.62060635 -0.49889045  0.21879539  0.31478733  0.04323595  0.58633718\n",
            "   0.89589577 -0.71621219  0.45609314  0.05151285  0.34806438  1.13865146\n",
            "   0.53741053]\n",
            " [ 0.09292766  1.27404333 -0.1285384   0.89868605 -1.07369282 -1.08487781\n",
            "  -0.46857003  2.12506835  0.03677489 -0.08595329 -0.54514718 -0.87130818\n",
            "  -0.76809699]\n",
            " [ 0.27700162 -0.52483583 -0.82320598 -2.40034169  0.04323595  0.50675551\n",
            "   0.67993715 -0.71621219 -0.5572593  -0.27840587  0.39272495  1.04228353\n",
            "   0.95646233]\n",
            " [-0.83971374  0.38325221 -0.51446483 -0.41508606 -0.85030707  0.18842885\n",
            "   0.17930582 -0.79739164  0.68322386 -1.30023747  0.83933073  0.90461506\n",
            "  -1.49337895]]\n",
            "-----------------------------\n",
            "[[ 1.41826019  1.48160631  1.49235261  1.48258476 -0.25461172 -0.44822448\n",
            "  -1.28332299  1.71917113 -0.43495815  1.93021667 -1.57234048 -1.4357489\n",
            "  -0.6230406 ]\n",
            " [-0.83971374  0.67729976 -0.55305747 -0.41508606 -0.85030707  0.82508218\n",
            "   0.90571207  0.82619725  2.11589455 -1.2315044   2.04516634  0.25757326\n",
            "  -1.1194558 ]\n",
            " [ 0.36290281  1.63727854 -0.36009426  0.16881265  1.53247432 -1.18037581\n",
            "  -1.3520371   0.66383836 -0.43495815  2.38843712 -1.66166163 -1.49081628\n",
            "   0.26341513]\n",
            " [ 1.05011226 -0.70645343  1.02924089  0.16881265  1.16016473  0.98424551\n",
            "   1.3081804   0.42030003  0.21149082  0.73884351  0.75000958 -0.10036475\n",
            "   1.21434036]\n",
            " [ 0.95193948 -0.56807811  0.21879539 -0.99898478 -0.77584515  0.42717385\n",
            "   0.67993715 -0.47267386  0.36873517  0.28062307  0.83933073  0.35394119\n",
            "   1.82680068]]\n"
          ],
          "name": "stdout"
        }
      ]
    },
    {
      "cell_type": "code",
      "metadata": {
        "id": "tc2-R5_COfbM"
      },
      "source": [
        "from sklearn.linear_model import LogisticRegression\n",
        "lr_2_10 = LogisticRegression(penalty='l2', C=10.0, solver='saga') # L2 with C(=1/λ)=10\n",
        "lr_2_1 = LogisticRegression(penalty='l2', C=1.0, solver='saga') # L2 with C(=1/λ)=1\n",
        "lr_2_0_1 = LogisticRegression(penalty='l2', C=0.1, solver='saga') # L2 with C(=1/λ)=0.1\n",
        "lr_1_10 = LogisticRegression(penalty='l1', C=10.0, solver='saga') # L1 with C(=1/λ)=10\n",
        "lr_1_1 = LogisticRegression(penalty='l1', C=1.0, solver='saga') # L1 with C(=1/λ)=1\n",
        "lr_1_0_1 = LogisticRegression(penalty='l1', C=0.1, solver='saga') # L1 with C(=1/λ)=0.1"
      ],
      "execution_count": null,
      "outputs": []
    },
    {
      "cell_type": "code",
      "metadata": {
        "id": "BYP9B5a5oJi4",
        "outputId": "49e8b9af-237c-4b02-898c-f50da7323557",
        "colab": {
          "base_uri": "https://localhost:8080/"
        }
      },
      "source": [
        "lr_2_10.get_params().keys()"
      ],
      "execution_count": null,
      "outputs": [
        {
          "output_type": "execute_result",
          "data": {
            "text/plain": [
              "dict_keys(['C', 'class_weight', 'dual', 'fit_intercept', 'intercept_scaling', 'l1_ratio', 'max_iter', 'multi_class', 'n_jobs', 'penalty', 'random_state', 'solver', 'tol', 'verbose', 'warm_start'])"
            ]
          },
          "metadata": {
            "tags": []
          },
          "execution_count": 18
        }
      ]
    },
    {
      "cell_type": "code",
      "metadata": {
        "colab": {
          "base_uri": "https://localhost:8080/"
        },
        "id": "3BT1Ze9dPbtt",
        "outputId": "dc1ebc55-ea72-4d52-8464-27c58db6676c"
      },
      "source": [
        "# 규제화 방법(L2 or L1)과 규제강도(λ)를 바꿔가며 accuracy score 계산\n",
        "#lr.score()사용\n",
        "lr_2_10.fit(x_train_std, y_train)\n",
        "print('Training accuracy with L2 and λ=0.1:', lr_2_10.score(x_train_std, y_train))\n",
        "print('Test accuracy with L2 and λ=0.1:', lr_2_10.score(x_test_std, y_test))\n",
        "\n",
        "lr_2_1.fit(x_train_std, y_train)  # warning..\n",
        "print('Training accuracy with L2 and λ=1:', lr_2_1.score(x_train_std, y_train))\n",
        "print('Test accuracy with L2 and λ=1:', lr_2_1.score(x_test_std, y_test))\n",
        "\n",
        "lr_2_0_1.fit(x_train_std, y_train)\n",
        "print('Training accuracy with L2 and λ=10:', lr_2_0_1.score(x_train_std, y_train))\n",
        "print('Test accuracy with L2 and λ=10:', lr_2_0_1.score(x_test_std, y_test))\n",
        "\n",
        "lr_1_10.fit(x_train_std, y_train)\n",
        "print('Training accuracy with L1 and λ=0.1:', lr_1_10.score(x_train_std, y_train))\n",
        "print('Test accuracy with L1 and λ=0.1:', lr_1_10.score(x_test_std, y_test))\n",
        "\n",
        "lr_1_1.fit(x_train_std, y_train)\n",
        "print('Training accuracy with L1 and λ=1:', lr_1_1.score(x_train_std, y_train))\n",
        "print('Test accuracy with L1 and λ=1:', lr_1_1.score(x_test_std, y_test))\n",
        "\n",
        "lr_1_0_1.fit(x_train_std, y_train)\n",
        "print('Training accuracy with L1 and λ=10:', lr_1_0_1.score(x_train_std, y_train))\n",
        "print('Test accuracy with L1 and λ=10:', lr_1_0_1.score(x_test_std, y_test))\n"
      ],
      "execution_count": null,
      "outputs": [
        {
          "output_type": "stream",
          "text": [
            "Training accuracy with L2 and λ=0.1: 1.0\n",
            "Test accuracy with L2 and λ=0.1: 0.9629629629629629\n",
            "Training accuracy with L2 and λ=1: 1.0\n",
            "Test accuracy with L2 and λ=1: 0.9629629629629629\n",
            "Training accuracy with L2 and λ=10: 0.9919354838709677\n",
            "Test accuracy with L2 and λ=10: 0.9814814814814815\n",
            "Training accuracy with L1 and λ=0.1: 1.0\n",
            "Test accuracy with L1 and λ=0.1: 0.9629629629629629\n",
            "Training accuracy with L1 and λ=1: 1.0\n",
            "Test accuracy with L1 and λ=1: 0.9629629629629629\n",
            "Training accuracy with L1 and λ=10: 0.967741935483871\n",
            "Test accuracy with L1 and λ=10: 0.9444444444444444\n"
          ],
          "name": "stdout"
        },
        {
          "output_type": "stream",
          "text": [
            "/usr/local/lib/python3.7/dist-packages/sklearn/linear_model/_sag.py:330: ConvergenceWarning: The max_iter was reached which means the coef_ did not converge\n",
            "  \"the coef_ did not converge\", ConvergenceWarning)\n",
            "/usr/local/lib/python3.7/dist-packages/sklearn/linear_model/_sag.py:330: ConvergenceWarning: The max_iter was reached which means the coef_ did not converge\n",
            "  \"the coef_ did not converge\", ConvergenceWarning)\n",
            "/usr/local/lib/python3.7/dist-packages/sklearn/linear_model/_sag.py:330: ConvergenceWarning: The max_iter was reached which means the coef_ did not converge\n",
            "  \"the coef_ did not converge\", ConvergenceWarning)\n",
            "/usr/local/lib/python3.7/dist-packages/sklearn/linear_model/_sag.py:330: ConvergenceWarning: The max_iter was reached which means the coef_ did not converge\n",
            "  \"the coef_ did not converge\", ConvergenceWarning)\n"
          ],
          "name": "stderr"
        }
      ]
    },
    {
      "cell_type": "code",
      "metadata": {
        "id": "HYj_jyblQeqN",
        "colab": {
          "base_uri": "https://localhost:8080/",
          "height": 245
        },
        "outputId": "94ea5d52-d750-4aa1-b467-b83690eb7f0f"
      },
      "source": [
        "# # L2 규제의 규제강도(C=1/λ)를 바꿔가며 계수 추정치 관찰\n",
        "# print(lr2_10.intercept_)\n",
        "# print(lr2_1.intercept_)\n",
        "# print(lr2_0_1.intercept_)\n",
        "\n",
        "# print(lr2_10.coef_)\n",
        "# print(lr2_1.coef_)\n",
        "# print(lr2_0_1.coef_)\n",
        "\n",
        "# # L1 규제의 규제강도(C=1/λ)를 바꿔가며 계수 추정치 관찰\n",
        "# print(lr1_10.intercept_)\n",
        "# print(lr1_1.intercept_)\n",
        "# print(lr1_0_1.intercept_)\n",
        "\n",
        "# print(lr1_10.coef_)\n",
        "# print(lr1_1.coef_)\n",
        "# print(lr1_0_1.coef_)"
      ],
      "execution_count": null,
      "outputs": [
        {
          "output_type": "error",
          "ename": "NameError",
          "evalue": "ignored",
          "traceback": [
            "\u001b[0;31m---------------------------------------------------------------------------\u001b[0m",
            "\u001b[0;31mNameError\u001b[0m                                 Traceback (most recent call last)",
            "\u001b[0;32m<ipython-input-17-1a60e68ffa42>\u001b[0m in \u001b[0;36m<module>\u001b[0;34m()\u001b[0m\n\u001b[1;32m      1\u001b[0m \u001b[0;31m# L2 규제의 규제강도(C=1/λ)를 바꿔가며 계수 추정치 관찰\u001b[0m\u001b[0;34m\u001b[0m\u001b[0;34m\u001b[0m\u001b[0;34m\u001b[0m\u001b[0m\n\u001b[0;32m----> 2\u001b[0;31m \u001b[0mprint\u001b[0m\u001b[0;34m(\u001b[0m\u001b[0mlr2_10\u001b[0m\u001b[0;34m.\u001b[0m\u001b[0mintercept_\u001b[0m\u001b[0;34m)\u001b[0m\u001b[0;34m\u001b[0m\u001b[0;34m\u001b[0m\u001b[0m\n\u001b[0m\u001b[1;32m      3\u001b[0m \u001b[0mprint\u001b[0m\u001b[0;34m(\u001b[0m\u001b[0mlr2_1\u001b[0m\u001b[0;34m.\u001b[0m\u001b[0mintercept_\u001b[0m\u001b[0;34m)\u001b[0m\u001b[0;34m\u001b[0m\u001b[0;34m\u001b[0m\u001b[0m\n\u001b[1;32m      4\u001b[0m \u001b[0mprint\u001b[0m\u001b[0;34m(\u001b[0m\u001b[0mlr2_0_1\u001b[0m\u001b[0;34m.\u001b[0m\u001b[0mintercept_\u001b[0m\u001b[0;34m)\u001b[0m\u001b[0;34m\u001b[0m\u001b[0;34m\u001b[0m\u001b[0m\n\u001b[1;32m      5\u001b[0m \u001b[0;34m\u001b[0m\u001b[0m\n",
            "\u001b[0;31mNameError\u001b[0m: name 'lr2_10' is not defined"
          ]
        }
      ]
    }
  ]
}